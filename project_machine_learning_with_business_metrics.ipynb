{
  "cells": [
    {
      "cell_type": "markdown",
      "metadata": {
        "id": "EbtImLKr0-vp"
      },
      "source": [
        "# Quest for Upstreams\n",
        "\n",
        "An oil company, OilyGiant is in a quest of finding a new location for its new oil mining location.\n",
        "\n",
        "A dataset of volume oil reserves, as well as three independent variables for each oil well as observed in the past are given.\n",
        "\n",
        "The project is to find one location with to develop with prospect to meet company's business metrics:\n",
        "\n",
        "1. Contribute to the company's positive profitability, with budgested cost of USD 100,000,000\n",
        "\n",
        "2. Has a potential of risk not more than 2.5%\n",
        "\n",
        "Steps in finding that are:\n",
        "\n",
        "1. Gather the parameters to select wells in each location: oil quality and volume of reserves\n",
        "\n",
        "2. Build and select a model that is able to predict the volume of oil reserve in a new well\n",
        "\n",
        "3. Select wells with highest estimated volume\n",
        "\n",
        "4. Select location with highest total profit for the selected wells\n",
        "\n",
        "The datasets of three locations observe:\n",
        "\n",
        "1. id — unique ID of wells\n",
        "\n",
        "2. f0, f1, f2 — three features that are significant\n",
        "\n",
        "3. product — volume of oil reserves in a well (thousands barrel)\n",
        "\n",
        "\n",
        "The parameters of each well are known already. \n",
        "\n",
        "The target of this machine learing is to find prediction of volume, that is numerical, continuous.\n",
        "\n",
        "Hence the model needed is the regression one.\n",
        "\n",
        "One location with the highest margin will be found.\n",
        "\n",
        "From those three location, wells are to be sampled using bootstrapping method.\n",
        "And an analysis of profitability and potential risk is made."
      ]
    },
    {
      "cell_type": "code",
      "source": [
        "from google.colab import drive\n",
        "drive.mount('/content/drive')"
      ],
      "metadata": {
        "colab": {
          "base_uri": "https://localhost:8080/"
        },
        "id": "Vzn1ds4O2oNc",
        "outputId": "049e9cf4-87f2-4043-fd3c-2d9f39e1fcf6"
      },
      "execution_count": 1,
      "outputs": [
        {
          "output_type": "stream",
          "name": "stdout",
          "text": [
            "Mounted at /content/drive\n"
          ]
        }
      ]
    },
    {
      "cell_type": "code",
      "execution_count": null,
      "metadata": {
        "id": "fipj4Yxd0-vu"
      },
      "outputs": [],
      "source": [
        "# import libraries\n",
        "import pandas as pd, numpy as np, matplotlib.pyplot as plt, seaborn as sns\n",
        "\n",
        "from sklearn.model_selection import train_test_split, GridSearchCV\n",
        "from sklearn.metrics import r2_score, mean_squared_error\n",
        "\n",
        "from xgboost import XGBRegressor\n",
        "from lightgbm import LGBMRegressor \n",
        "from sklearn.linear_model import LinearRegression\n",
        "\n",
        "import warnings\n",
        "warnings.filterwarnings('ignore')"
      ]
    },
    {
      "cell_type": "code",
      "execution_count": null,
      "metadata": {
        "id": "7IjyS2GM0-vv"
      },
      "outputs": [],
      "source": [
        "# save dataset 0 as df_1 for Location 1\n",
        "df_1 = pd.read_csv('/content/gdrive/MyDrive/data_projects/geo_data_0.csv')\n",
        "\n",
        "# save dataset 1 as df_2 for Location 2\n",
        "df_2 = pd.read_csv('/content/gdrive/MyDrive/data_projects/geo_data_1.csv')\n",
        "\n",
        "# save dataset 2 as df_3 for Location 3\n",
        "df_3 = pd.read_csv('/content/gdrive/MyDrive/data_projects/geo_data_2.csv')"
      ]
    },
    {
      "cell_type": "markdown",
      "metadata": {
        "id": "xOSDauoM0-vt"
      },
      "source": [
        "## Pre-processing"
      ]
    },
    {
      "cell_type": "code",
      "execution_count": null,
      "metadata": {
        "id": "gpnagDnd0-vx",
        "outputId": "9f1aa2d5-ecb9-4032-dc63-93b7167d93c5"
      },
      "outputs": [
        {
          "data": {
            "text/html": [
              "<div>\n",
              "<style scoped>\n",
              "    .dataframe tbody tr th:only-of-type {\n",
              "        vertical-align: middle;\n",
              "    }\n",
              "\n",
              "    .dataframe tbody tr th {\n",
              "        vertical-align: top;\n",
              "    }\n",
              "\n",
              "    .dataframe thead th {\n",
              "        text-align: right;\n",
              "    }\n",
              "</style>\n",
              "<table border=\"1\" class=\"dataframe\">\n",
              "  <thead>\n",
              "    <tr style=\"text-align: right;\">\n",
              "      <th></th>\n",
              "      <th>id</th>\n",
              "      <th>f0</th>\n",
              "      <th>f1</th>\n",
              "      <th>f2</th>\n",
              "      <th>product</th>\n",
              "    </tr>\n",
              "  </thead>\n",
              "  <tbody>\n",
              "    <tr>\n",
              "      <th>0</th>\n",
              "      <td>txEyH</td>\n",
              "      <td>0.705745</td>\n",
              "      <td>-0.497823</td>\n",
              "      <td>1.221170</td>\n",
              "      <td>105.280062</td>\n",
              "    </tr>\n",
              "    <tr>\n",
              "      <th>1</th>\n",
              "      <td>2acmU</td>\n",
              "      <td>1.334711</td>\n",
              "      <td>-0.340164</td>\n",
              "      <td>4.365080</td>\n",
              "      <td>73.037750</td>\n",
              "    </tr>\n",
              "    <tr>\n",
              "      <th>2</th>\n",
              "      <td>409Wp</td>\n",
              "      <td>1.022732</td>\n",
              "      <td>0.151990</td>\n",
              "      <td>1.419926</td>\n",
              "      <td>85.265647</td>\n",
              "    </tr>\n",
              "    <tr>\n",
              "      <th>3</th>\n",
              "      <td>iJLyR</td>\n",
              "      <td>-0.032172</td>\n",
              "      <td>0.139033</td>\n",
              "      <td>2.978566</td>\n",
              "      <td>168.620776</td>\n",
              "    </tr>\n",
              "    <tr>\n",
              "      <th>4</th>\n",
              "      <td>Xdl7t</td>\n",
              "      <td>1.988431</td>\n",
              "      <td>0.155413</td>\n",
              "      <td>4.751769</td>\n",
              "      <td>154.036647</td>\n",
              "    </tr>\n",
              "  </tbody>\n",
              "</table>\n",
              "</div>"
            ],
            "text/plain": [
              "      id        f0        f1        f2     product\n",
              "0  txEyH  0.705745 -0.497823  1.221170  105.280062\n",
              "1  2acmU  1.334711 -0.340164  4.365080   73.037750\n",
              "2  409Wp  1.022732  0.151990  1.419926   85.265647\n",
              "3  iJLyR -0.032172  0.139033  2.978566  168.620776\n",
              "4  Xdl7t  1.988431  0.155413  4.751769  154.036647"
            ]
          },
          "execution_count": 145,
          "metadata": {},
          "output_type": "execute_result"
        }
      ],
      "source": [
        "# sample dataset Location 1\n",
        "df_1.head()"
      ]
    },
    {
      "cell_type": "code",
      "execution_count": null,
      "metadata": {
        "id": "Wb9t2dgV0-vy",
        "outputId": "9cffe971-c847-45eb-f46b-6268c8713d57"
      },
      "outputs": [
        {
          "data": {
            "text/html": [
              "<div>\n",
              "<style scoped>\n",
              "    .dataframe tbody tr th:only-of-type {\n",
              "        vertical-align: middle;\n",
              "    }\n",
              "\n",
              "    .dataframe tbody tr th {\n",
              "        vertical-align: top;\n",
              "    }\n",
              "\n",
              "    .dataframe thead th {\n",
              "        text-align: right;\n",
              "    }\n",
              "</style>\n",
              "<table border=\"1\" class=\"dataframe\">\n",
              "  <thead>\n",
              "    <tr style=\"text-align: right;\">\n",
              "      <th></th>\n",
              "      <th>id</th>\n",
              "      <th>f0</th>\n",
              "      <th>f1</th>\n",
              "      <th>f2</th>\n",
              "      <th>product</th>\n",
              "    </tr>\n",
              "  </thead>\n",
              "  <tbody>\n",
              "    <tr>\n",
              "      <th>0</th>\n",
              "      <td>kBEdx</td>\n",
              "      <td>-15.001348</td>\n",
              "      <td>-8.276000</td>\n",
              "      <td>-0.005876</td>\n",
              "      <td>3.179103</td>\n",
              "    </tr>\n",
              "    <tr>\n",
              "      <th>1</th>\n",
              "      <td>62mP7</td>\n",
              "      <td>14.272088</td>\n",
              "      <td>-3.475083</td>\n",
              "      <td>0.999183</td>\n",
              "      <td>26.953261</td>\n",
              "    </tr>\n",
              "    <tr>\n",
              "      <th>2</th>\n",
              "      <td>vyE1P</td>\n",
              "      <td>6.263187</td>\n",
              "      <td>-5.948386</td>\n",
              "      <td>5.001160</td>\n",
              "      <td>134.766305</td>\n",
              "    </tr>\n",
              "    <tr>\n",
              "      <th>3</th>\n",
              "      <td>KcrkZ</td>\n",
              "      <td>-13.081196</td>\n",
              "      <td>-11.506057</td>\n",
              "      <td>4.999415</td>\n",
              "      <td>137.945408</td>\n",
              "    </tr>\n",
              "    <tr>\n",
              "      <th>4</th>\n",
              "      <td>AHL4O</td>\n",
              "      <td>12.702195</td>\n",
              "      <td>-8.147433</td>\n",
              "      <td>5.004363</td>\n",
              "      <td>134.766305</td>\n",
              "    </tr>\n",
              "  </tbody>\n",
              "</table>\n",
              "</div>"
            ],
            "text/plain": [
              "      id         f0         f1        f2     product\n",
              "0  kBEdx -15.001348  -8.276000 -0.005876    3.179103\n",
              "1  62mP7  14.272088  -3.475083  0.999183   26.953261\n",
              "2  vyE1P   6.263187  -5.948386  5.001160  134.766305\n",
              "3  KcrkZ -13.081196 -11.506057  4.999415  137.945408\n",
              "4  AHL4O  12.702195  -8.147433  5.004363  134.766305"
            ]
          },
          "execution_count": 146,
          "metadata": {},
          "output_type": "execute_result"
        }
      ],
      "source": [
        "# sample dataset Location 2\n",
        "df_2.head()"
      ]
    },
    {
      "cell_type": "code",
      "execution_count": null,
      "metadata": {
        "id": "bRFel8oB0-vz",
        "outputId": "6955a561-a95b-4a2d-a217-d0e2df5bac22"
      },
      "outputs": [
        {
          "data": {
            "text/html": [
              "<div>\n",
              "<style scoped>\n",
              "    .dataframe tbody tr th:only-of-type {\n",
              "        vertical-align: middle;\n",
              "    }\n",
              "\n",
              "    .dataframe tbody tr th {\n",
              "        vertical-align: top;\n",
              "    }\n",
              "\n",
              "    .dataframe thead th {\n",
              "        text-align: right;\n",
              "    }\n",
              "</style>\n",
              "<table border=\"1\" class=\"dataframe\">\n",
              "  <thead>\n",
              "    <tr style=\"text-align: right;\">\n",
              "      <th></th>\n",
              "      <th>id</th>\n",
              "      <th>f0</th>\n",
              "      <th>f1</th>\n",
              "      <th>f2</th>\n",
              "      <th>product</th>\n",
              "    </tr>\n",
              "  </thead>\n",
              "  <tbody>\n",
              "    <tr>\n",
              "      <th>0</th>\n",
              "      <td>fwXo0</td>\n",
              "      <td>-1.146987</td>\n",
              "      <td>0.963328</td>\n",
              "      <td>-0.828965</td>\n",
              "      <td>27.758673</td>\n",
              "    </tr>\n",
              "    <tr>\n",
              "      <th>1</th>\n",
              "      <td>WJtFt</td>\n",
              "      <td>0.262778</td>\n",
              "      <td>0.269839</td>\n",
              "      <td>-2.530187</td>\n",
              "      <td>56.069697</td>\n",
              "    </tr>\n",
              "    <tr>\n",
              "      <th>2</th>\n",
              "      <td>ovLUW</td>\n",
              "      <td>0.194587</td>\n",
              "      <td>0.289035</td>\n",
              "      <td>-5.586433</td>\n",
              "      <td>62.871910</td>\n",
              "    </tr>\n",
              "    <tr>\n",
              "      <th>3</th>\n",
              "      <td>q6cA6</td>\n",
              "      <td>2.236060</td>\n",
              "      <td>-0.553760</td>\n",
              "      <td>0.930038</td>\n",
              "      <td>114.572842</td>\n",
              "    </tr>\n",
              "    <tr>\n",
              "      <th>4</th>\n",
              "      <td>WPMUX</td>\n",
              "      <td>-0.515993</td>\n",
              "      <td>1.716266</td>\n",
              "      <td>5.899011</td>\n",
              "      <td>149.600746</td>\n",
              "    </tr>\n",
              "  </tbody>\n",
              "</table>\n",
              "</div>"
            ],
            "text/plain": [
              "      id        f0        f1        f2     product\n",
              "0  fwXo0 -1.146987  0.963328 -0.828965   27.758673\n",
              "1  WJtFt  0.262778  0.269839 -2.530187   56.069697\n",
              "2  ovLUW  0.194587  0.289035 -5.586433   62.871910\n",
              "3  q6cA6  2.236060 -0.553760  0.930038  114.572842\n",
              "4  WPMUX -0.515993  1.716266  5.899011  149.600746"
            ]
          },
          "execution_count": 147,
          "metadata": {},
          "output_type": "execute_result"
        }
      ],
      "source": [
        "# sample dataset Location 3\n",
        "df_3.head()"
      ]
    },
    {
      "cell_type": "code",
      "execution_count": null,
      "metadata": {
        "id": "eVIbESP30-vz",
        "outputId": "467209b5-2249-40b9-9806-77d49f8f8c46"
      },
      "outputs": [
        {
          "name": "stdout",
          "output_type": "stream",
          "text": [
            "<class 'pandas.core.frame.DataFrame'>\n",
            "RangeIndex: 100000 entries, 0 to 99999\n",
            "Data columns (total 5 columns):\n",
            " #   Column   Non-Null Count   Dtype  \n",
            "---  ------   --------------   -----  \n",
            " 0   id       100000 non-null  object \n",
            " 1   f0       100000 non-null  float64\n",
            " 2   f1       100000 non-null  float64\n",
            " 3   f2       100000 non-null  float64\n",
            " 4   product  100000 non-null  float64\n",
            "dtypes: float64(4), object(1)\n",
            "memory usage: 3.8+ MB\n"
          ]
        }
      ],
      "source": [
        "# general info of location 1\n",
        "df_1.info()"
      ]
    },
    {
      "cell_type": "code",
      "execution_count": null,
      "metadata": {
        "id": "5hXoxKF60-v0",
        "outputId": "09ca673f-aa68-4c2d-eac2-fdfa8cd93024"
      },
      "outputs": [
        {
          "name": "stdout",
          "output_type": "stream",
          "text": [
            "<class 'pandas.core.frame.DataFrame'>\n",
            "RangeIndex: 100000 entries, 0 to 99999\n",
            "Data columns (total 5 columns):\n",
            " #   Column   Non-Null Count   Dtype  \n",
            "---  ------   --------------   -----  \n",
            " 0   id       100000 non-null  object \n",
            " 1   f0       100000 non-null  float64\n",
            " 2   f1       100000 non-null  float64\n",
            " 3   f2       100000 non-null  float64\n",
            " 4   product  100000 non-null  float64\n",
            "dtypes: float64(4), object(1)\n",
            "memory usage: 3.8+ MB\n"
          ]
        }
      ],
      "source": [
        "# general info of location 2\n",
        "df_2.info()"
      ]
    },
    {
      "cell_type": "code",
      "execution_count": null,
      "metadata": {
        "id": "qiJHgNMM0-v1",
        "outputId": "05989f69-8719-4aa3-a369-1f317aaa0c88"
      },
      "outputs": [
        {
          "name": "stdout",
          "output_type": "stream",
          "text": [
            "<class 'pandas.core.frame.DataFrame'>\n",
            "RangeIndex: 100000 entries, 0 to 99999\n",
            "Data columns (total 5 columns):\n",
            " #   Column   Non-Null Count   Dtype  \n",
            "---  ------   --------------   -----  \n",
            " 0   id       100000 non-null  object \n",
            " 1   f0       100000 non-null  float64\n",
            " 2   f1       100000 non-null  float64\n",
            " 3   f2       100000 non-null  float64\n",
            " 4   product  100000 non-null  float64\n",
            "dtypes: float64(4), object(1)\n",
            "memory usage: 3.8+ MB\n"
          ]
        }
      ],
      "source": [
        "# general info of location 3\n",
        "df_3.info()"
      ]
    },
    {
      "cell_type": "code",
      "execution_count": null,
      "metadata": {
        "id": "5cBIviv30-v1",
        "outputId": "b9710518-d2f7-499c-8d1a-2876be5d1699"
      },
      "outputs": [
        {
          "data": {
            "text/html": [
              "<div>\n",
              "<style scoped>\n",
              "    .dataframe tbody tr th:only-of-type {\n",
              "        vertical-align: middle;\n",
              "    }\n",
              "\n",
              "    .dataframe tbody tr th {\n",
              "        vertical-align: top;\n",
              "    }\n",
              "\n",
              "    .dataframe thead th {\n",
              "        text-align: right;\n",
              "    }\n",
              "</style>\n",
              "<table border=\"1\" class=\"dataframe\">\n",
              "  <thead>\n",
              "    <tr style=\"text-align: right;\">\n",
              "      <th></th>\n",
              "      <th>f0</th>\n",
              "      <th>f1</th>\n",
              "      <th>f2</th>\n",
              "      <th>product</th>\n",
              "    </tr>\n",
              "  </thead>\n",
              "  <tbody>\n",
              "    <tr>\n",
              "      <th>count</th>\n",
              "      <td>100000.000000</td>\n",
              "      <td>100000.000000</td>\n",
              "      <td>100000.000000</td>\n",
              "      <td>100000.000000</td>\n",
              "    </tr>\n",
              "    <tr>\n",
              "      <th>mean</th>\n",
              "      <td>0.500419</td>\n",
              "      <td>0.250143</td>\n",
              "      <td>2.502647</td>\n",
              "      <td>92.500000</td>\n",
              "    </tr>\n",
              "    <tr>\n",
              "      <th>std</th>\n",
              "      <td>0.871832</td>\n",
              "      <td>0.504433</td>\n",
              "      <td>3.248248</td>\n",
              "      <td>44.288691</td>\n",
              "    </tr>\n",
              "    <tr>\n",
              "      <th>min</th>\n",
              "      <td>-1.408605</td>\n",
              "      <td>-0.848218</td>\n",
              "      <td>-12.088328</td>\n",
              "      <td>0.000000</td>\n",
              "    </tr>\n",
              "    <tr>\n",
              "      <th>25%</th>\n",
              "      <td>-0.072580</td>\n",
              "      <td>-0.200881</td>\n",
              "      <td>0.287748</td>\n",
              "      <td>56.497507</td>\n",
              "    </tr>\n",
              "    <tr>\n",
              "      <th>50%</th>\n",
              "      <td>0.502360</td>\n",
              "      <td>0.250252</td>\n",
              "      <td>2.515969</td>\n",
              "      <td>91.849972</td>\n",
              "    </tr>\n",
              "    <tr>\n",
              "      <th>75%</th>\n",
              "      <td>1.073581</td>\n",
              "      <td>0.700646</td>\n",
              "      <td>4.715088</td>\n",
              "      <td>128.564089</td>\n",
              "    </tr>\n",
              "    <tr>\n",
              "      <th>max</th>\n",
              "      <td>2.362331</td>\n",
              "      <td>1.343769</td>\n",
              "      <td>16.003790</td>\n",
              "      <td>185.364347</td>\n",
              "    </tr>\n",
              "  </tbody>\n",
              "</table>\n",
              "</div>"
            ],
            "text/plain": [
              "                  f0             f1             f2        product\n",
              "count  100000.000000  100000.000000  100000.000000  100000.000000\n",
              "mean        0.500419       0.250143       2.502647      92.500000\n",
              "std         0.871832       0.504433       3.248248      44.288691\n",
              "min        -1.408605      -0.848218     -12.088328       0.000000\n",
              "25%        -0.072580      -0.200881       0.287748      56.497507\n",
              "50%         0.502360       0.250252       2.515969      91.849972\n",
              "75%         1.073581       0.700646       4.715088     128.564089\n",
              "max         2.362331       1.343769      16.003790     185.364347"
            ]
          },
          "execution_count": 151,
          "metadata": {},
          "output_type": "execute_result"
        }
      ],
      "source": [
        "# general info of location 1\n",
        "df_1.describe()"
      ]
    },
    {
      "cell_type": "code",
      "execution_count": null,
      "metadata": {
        "id": "lKt0VYIY0-v2",
        "outputId": "69f63662-cefc-4336-f8c3-8e37e229a476"
      },
      "outputs": [
        {
          "data": {
            "text/html": [
              "<div>\n",
              "<style scoped>\n",
              "    .dataframe tbody tr th:only-of-type {\n",
              "        vertical-align: middle;\n",
              "    }\n",
              "\n",
              "    .dataframe tbody tr th {\n",
              "        vertical-align: top;\n",
              "    }\n",
              "\n",
              "    .dataframe thead th {\n",
              "        text-align: right;\n",
              "    }\n",
              "</style>\n",
              "<table border=\"1\" class=\"dataframe\">\n",
              "  <thead>\n",
              "    <tr style=\"text-align: right;\">\n",
              "      <th></th>\n",
              "      <th>f0</th>\n",
              "      <th>f1</th>\n",
              "      <th>f2</th>\n",
              "      <th>product</th>\n",
              "    </tr>\n",
              "  </thead>\n",
              "  <tbody>\n",
              "    <tr>\n",
              "      <th>count</th>\n",
              "      <td>100000.000000</td>\n",
              "      <td>100000.000000</td>\n",
              "      <td>100000.000000</td>\n",
              "      <td>100000.000000</td>\n",
              "    </tr>\n",
              "    <tr>\n",
              "      <th>mean</th>\n",
              "      <td>1.141296</td>\n",
              "      <td>-4.796579</td>\n",
              "      <td>2.494541</td>\n",
              "      <td>68.825000</td>\n",
              "    </tr>\n",
              "    <tr>\n",
              "      <th>std</th>\n",
              "      <td>8.965932</td>\n",
              "      <td>5.119872</td>\n",
              "      <td>1.703572</td>\n",
              "      <td>45.944423</td>\n",
              "    </tr>\n",
              "    <tr>\n",
              "      <th>min</th>\n",
              "      <td>-31.609576</td>\n",
              "      <td>-26.358598</td>\n",
              "      <td>-0.018144</td>\n",
              "      <td>0.000000</td>\n",
              "    </tr>\n",
              "    <tr>\n",
              "      <th>25%</th>\n",
              "      <td>-6.298551</td>\n",
              "      <td>-8.267985</td>\n",
              "      <td>1.000021</td>\n",
              "      <td>26.953261</td>\n",
              "    </tr>\n",
              "    <tr>\n",
              "      <th>50%</th>\n",
              "      <td>1.153055</td>\n",
              "      <td>-4.813172</td>\n",
              "      <td>2.011479</td>\n",
              "      <td>57.085625</td>\n",
              "    </tr>\n",
              "    <tr>\n",
              "      <th>75%</th>\n",
              "      <td>8.621015</td>\n",
              "      <td>-1.332816</td>\n",
              "      <td>3.999904</td>\n",
              "      <td>107.813044</td>\n",
              "    </tr>\n",
              "    <tr>\n",
              "      <th>max</th>\n",
              "      <td>29.421755</td>\n",
              "      <td>18.734063</td>\n",
              "      <td>5.019721</td>\n",
              "      <td>137.945408</td>\n",
              "    </tr>\n",
              "  </tbody>\n",
              "</table>\n",
              "</div>"
            ],
            "text/plain": [
              "                  f0             f1             f2        product\n",
              "count  100000.000000  100000.000000  100000.000000  100000.000000\n",
              "mean        1.141296      -4.796579       2.494541      68.825000\n",
              "std         8.965932       5.119872       1.703572      45.944423\n",
              "min       -31.609576     -26.358598      -0.018144       0.000000\n",
              "25%        -6.298551      -8.267985       1.000021      26.953261\n",
              "50%         1.153055      -4.813172       2.011479      57.085625\n",
              "75%         8.621015      -1.332816       3.999904     107.813044\n",
              "max        29.421755      18.734063       5.019721     137.945408"
            ]
          },
          "execution_count": 152,
          "metadata": {},
          "output_type": "execute_result"
        }
      ],
      "source": [
        "# general info of location 2\n",
        "df_2.describe()"
      ]
    },
    {
      "cell_type": "code",
      "execution_count": null,
      "metadata": {
        "id": "4dzzN8_S0-v2",
        "outputId": "13d9b9b8-5e96-4a8b-bad7-19d3b44d0307"
      },
      "outputs": [
        {
          "data": {
            "text/html": [
              "<div>\n",
              "<style scoped>\n",
              "    .dataframe tbody tr th:only-of-type {\n",
              "        vertical-align: middle;\n",
              "    }\n",
              "\n",
              "    .dataframe tbody tr th {\n",
              "        vertical-align: top;\n",
              "    }\n",
              "\n",
              "    .dataframe thead th {\n",
              "        text-align: right;\n",
              "    }\n",
              "</style>\n",
              "<table border=\"1\" class=\"dataframe\">\n",
              "  <thead>\n",
              "    <tr style=\"text-align: right;\">\n",
              "      <th></th>\n",
              "      <th>f0</th>\n",
              "      <th>f1</th>\n",
              "      <th>f2</th>\n",
              "      <th>product</th>\n",
              "    </tr>\n",
              "  </thead>\n",
              "  <tbody>\n",
              "    <tr>\n",
              "      <th>count</th>\n",
              "      <td>100000.000000</td>\n",
              "      <td>100000.000000</td>\n",
              "      <td>100000.000000</td>\n",
              "      <td>100000.000000</td>\n",
              "    </tr>\n",
              "    <tr>\n",
              "      <th>mean</th>\n",
              "      <td>0.002023</td>\n",
              "      <td>-0.002081</td>\n",
              "      <td>2.495128</td>\n",
              "      <td>95.000000</td>\n",
              "    </tr>\n",
              "    <tr>\n",
              "      <th>std</th>\n",
              "      <td>1.732045</td>\n",
              "      <td>1.730417</td>\n",
              "      <td>3.473445</td>\n",
              "      <td>44.749921</td>\n",
              "    </tr>\n",
              "    <tr>\n",
              "      <th>min</th>\n",
              "      <td>-8.760004</td>\n",
              "      <td>-7.084020</td>\n",
              "      <td>-11.970335</td>\n",
              "      <td>0.000000</td>\n",
              "    </tr>\n",
              "    <tr>\n",
              "      <th>25%</th>\n",
              "      <td>-1.162288</td>\n",
              "      <td>-1.174820</td>\n",
              "      <td>0.130359</td>\n",
              "      <td>59.450441</td>\n",
              "    </tr>\n",
              "    <tr>\n",
              "      <th>50%</th>\n",
              "      <td>0.009424</td>\n",
              "      <td>-0.009482</td>\n",
              "      <td>2.484236</td>\n",
              "      <td>94.925613</td>\n",
              "    </tr>\n",
              "    <tr>\n",
              "      <th>75%</th>\n",
              "      <td>1.158535</td>\n",
              "      <td>1.163678</td>\n",
              "      <td>4.858794</td>\n",
              "      <td>130.595027</td>\n",
              "    </tr>\n",
              "    <tr>\n",
              "      <th>max</th>\n",
              "      <td>7.238262</td>\n",
              "      <td>7.844801</td>\n",
              "      <td>16.739402</td>\n",
              "      <td>190.029838</td>\n",
              "    </tr>\n",
              "  </tbody>\n",
              "</table>\n",
              "</div>"
            ],
            "text/plain": [
              "                  f0             f1             f2        product\n",
              "count  100000.000000  100000.000000  100000.000000  100000.000000\n",
              "mean        0.002023      -0.002081       2.495128      95.000000\n",
              "std         1.732045       1.730417       3.473445      44.749921\n",
              "min        -8.760004      -7.084020     -11.970335       0.000000\n",
              "25%        -1.162288      -1.174820       0.130359      59.450441\n",
              "50%         0.009424      -0.009482       2.484236      94.925613\n",
              "75%         1.158535       1.163678       4.858794     130.595027\n",
              "max         7.238262       7.844801      16.739402     190.029838"
            ]
          },
          "execution_count": 153,
          "metadata": {},
          "output_type": "execute_result"
        }
      ],
      "source": [
        "# general info of location 3\n",
        "df_3.describe()"
      ]
    },
    {
      "cell_type": "code",
      "execution_count": null,
      "metadata": {
        "id": "gRda-9Ew0-v3",
        "outputId": "8a37da3d-139d-4dae-a75e-3459f7494d0f"
      },
      "outputs": [
        {
          "data": {
            "text/plain": [
              "0"
            ]
          },
          "execution_count": 154,
          "metadata": {},
          "output_type": "execute_result"
        }
      ],
      "source": [
        "# check duplicates in location 1\n",
        "df_1.duplicated().sum()"
      ]
    },
    {
      "cell_type": "code",
      "execution_count": null,
      "metadata": {
        "id": "j96FGAlJ0-v3",
        "outputId": "9bf4cc00-e314-4563-ee81-adac2099ec36"
      },
      "outputs": [
        {
          "data": {
            "text/plain": [
              "0"
            ]
          },
          "execution_count": 155,
          "metadata": {},
          "output_type": "execute_result"
        }
      ],
      "source": [
        "# check duplicates in location 2\n",
        "df_2.duplicated().sum()"
      ]
    },
    {
      "cell_type": "code",
      "execution_count": null,
      "metadata": {
        "id": "0kqNPWrg0-v5",
        "outputId": "d52fc1f0-c0f1-48a7-b5f6-be8b09aa582e"
      },
      "outputs": [
        {
          "data": {
            "text/plain": [
              "0"
            ]
          },
          "execution_count": 156,
          "metadata": {},
          "output_type": "execute_result"
        }
      ],
      "source": [
        "# check duplicates in location 3\n",
        "df_3.duplicated().sum()"
      ]
    },
    {
      "cell_type": "code",
      "execution_count": null,
      "metadata": {
        "id": "zoXFnyTF0-v5",
        "outputId": "27139c0e-751d-4ec4-bf85-f29eb6b62f6b"
      },
      "outputs": [
        {
          "data": {
            "text/plain": [
              "10"
            ]
          },
          "execution_count": 157,
          "metadata": {},
          "output_type": "execute_result"
        }
      ],
      "source": [
        "# check duplicates of oil well in location 1\n",
        "df_1.id.duplicated().sum()"
      ]
    },
    {
      "cell_type": "code",
      "execution_count": null,
      "metadata": {
        "id": "s3_95Ew20-v6",
        "outputId": "14071b26-cf1d-4c09-964c-b58647459c8c"
      },
      "outputs": [
        {
          "data": {
            "text/html": [
              "<div>\n",
              "<style scoped>\n",
              "    .dataframe tbody tr th:only-of-type {\n",
              "        vertical-align: middle;\n",
              "    }\n",
              "\n",
              "    .dataframe tbody tr th {\n",
              "        vertical-align: top;\n",
              "    }\n",
              "\n",
              "    .dataframe thead th {\n",
              "        text-align: right;\n",
              "    }\n",
              "</style>\n",
              "<table border=\"1\" class=\"dataframe\">\n",
              "  <thead>\n",
              "    <tr style=\"text-align: right;\">\n",
              "      <th></th>\n",
              "      <th>index</th>\n",
              "      <th>id</th>\n",
              "      <th>f0</th>\n",
              "      <th>f1</th>\n",
              "      <th>f2</th>\n",
              "      <th>product</th>\n",
              "    </tr>\n",
              "  </thead>\n",
              "  <tbody>\n",
              "    <tr>\n",
              "      <th>0</th>\n",
              "      <td>931</td>\n",
              "      <td>HZww2</td>\n",
              "      <td>0.755284</td>\n",
              "      <td>0.368511</td>\n",
              "      <td>1.863211</td>\n",
              "      <td>30.681774</td>\n",
              "    </tr>\n",
              "    <tr>\n",
              "      <th>1</th>\n",
              "      <td>1364</td>\n",
              "      <td>bxg6G</td>\n",
              "      <td>0.411645</td>\n",
              "      <td>0.856830</td>\n",
              "      <td>-3.653440</td>\n",
              "      <td>73.604260</td>\n",
              "    </tr>\n",
              "    <tr>\n",
              "      <th>2</th>\n",
              "      <td>1949</td>\n",
              "      <td>QcMuo</td>\n",
              "      <td>0.506563</td>\n",
              "      <td>-0.323775</td>\n",
              "      <td>-2.215583</td>\n",
              "      <td>75.496502</td>\n",
              "    </tr>\n",
              "    <tr>\n",
              "      <th>3</th>\n",
              "      <td>3389</td>\n",
              "      <td>A5aEY</td>\n",
              "      <td>-0.039949</td>\n",
              "      <td>0.156872</td>\n",
              "      <td>0.209861</td>\n",
              "      <td>89.249364</td>\n",
              "    </tr>\n",
              "    <tr>\n",
              "      <th>4</th>\n",
              "      <td>7530</td>\n",
              "      <td>HZww2</td>\n",
              "      <td>1.061194</td>\n",
              "      <td>-0.373969</td>\n",
              "      <td>10.430210</td>\n",
              "      <td>158.828695</td>\n",
              "    </tr>\n",
              "    <tr>\n",
              "      <th>5</th>\n",
              "      <td>16633</td>\n",
              "      <td>fiKDv</td>\n",
              "      <td>0.157341</td>\n",
              "      <td>1.028359</td>\n",
              "      <td>5.585586</td>\n",
              "      <td>95.817889</td>\n",
              "    </tr>\n",
              "    <tr>\n",
              "      <th>6</th>\n",
              "      <td>21426</td>\n",
              "      <td>Tdehs</td>\n",
              "      <td>0.829407</td>\n",
              "      <td>0.298807</td>\n",
              "      <td>-0.049563</td>\n",
              "      <td>96.035308</td>\n",
              "    </tr>\n",
              "    <tr>\n",
              "      <th>7</th>\n",
              "      <td>41724</td>\n",
              "      <td>bxg6G</td>\n",
              "      <td>-0.823752</td>\n",
              "      <td>0.546319</td>\n",
              "      <td>3.630479</td>\n",
              "      <td>93.007798</td>\n",
              "    </tr>\n",
              "    <tr>\n",
              "      <th>8</th>\n",
              "      <td>42529</td>\n",
              "      <td>AGS9W</td>\n",
              "      <td>1.454747</td>\n",
              "      <td>-0.479651</td>\n",
              "      <td>0.683380</td>\n",
              "      <td>126.370504</td>\n",
              "    </tr>\n",
              "    <tr>\n",
              "      <th>9</th>\n",
              "      <td>51970</td>\n",
              "      <td>A5aEY</td>\n",
              "      <td>-0.180335</td>\n",
              "      <td>0.935548</td>\n",
              "      <td>-2.094773</td>\n",
              "      <td>33.020205</td>\n",
              "    </tr>\n",
              "    <tr>\n",
              "      <th>10</th>\n",
              "      <td>60140</td>\n",
              "      <td>TtcGQ</td>\n",
              "      <td>0.569276</td>\n",
              "      <td>-0.104876</td>\n",
              "      <td>6.440215</td>\n",
              "      <td>85.350186</td>\n",
              "    </tr>\n",
              "    <tr>\n",
              "      <th>11</th>\n",
              "      <td>63593</td>\n",
              "      <td>QcMuo</td>\n",
              "      <td>0.635635</td>\n",
              "      <td>-0.473422</td>\n",
              "      <td>0.862670</td>\n",
              "      <td>64.578675</td>\n",
              "    </tr>\n",
              "    <tr>\n",
              "      <th>12</th>\n",
              "      <td>64022</td>\n",
              "      <td>74z30</td>\n",
              "      <td>0.741456</td>\n",
              "      <td>0.459229</td>\n",
              "      <td>5.153109</td>\n",
              "      <td>140.771492</td>\n",
              "    </tr>\n",
              "    <tr>\n",
              "      <th>13</th>\n",
              "      <td>66136</td>\n",
              "      <td>74z30</td>\n",
              "      <td>1.084962</td>\n",
              "      <td>-0.312358</td>\n",
              "      <td>6.990771</td>\n",
              "      <td>127.643327</td>\n",
              "    </tr>\n",
              "    <tr>\n",
              "      <th>14</th>\n",
              "      <td>69163</td>\n",
              "      <td>AGS9W</td>\n",
              "      <td>-0.933795</td>\n",
              "      <td>0.116194</td>\n",
              "      <td>-3.655896</td>\n",
              "      <td>19.230453</td>\n",
              "    </tr>\n",
              "    <tr>\n",
              "      <th>15</th>\n",
              "      <td>75715</td>\n",
              "      <td>Tdehs</td>\n",
              "      <td>0.112079</td>\n",
              "      <td>0.430296</td>\n",
              "      <td>3.218993</td>\n",
              "      <td>60.964018</td>\n",
              "    </tr>\n",
              "    <tr>\n",
              "      <th>16</th>\n",
              "      <td>89582</td>\n",
              "      <td>bsk9y</td>\n",
              "      <td>0.398908</td>\n",
              "      <td>-0.400253</td>\n",
              "      <td>10.122376</td>\n",
              "      <td>163.433078</td>\n",
              "    </tr>\n",
              "    <tr>\n",
              "      <th>17</th>\n",
              "      <td>90815</td>\n",
              "      <td>fiKDv</td>\n",
              "      <td>0.049883</td>\n",
              "      <td>0.841313</td>\n",
              "      <td>6.394613</td>\n",
              "      <td>137.346586</td>\n",
              "    </tr>\n",
              "    <tr>\n",
              "      <th>18</th>\n",
              "      <td>92341</td>\n",
              "      <td>TtcGQ</td>\n",
              "      <td>0.110711</td>\n",
              "      <td>1.022689</td>\n",
              "      <td>0.911381</td>\n",
              "      <td>101.318008</td>\n",
              "    </tr>\n",
              "    <tr>\n",
              "      <th>19</th>\n",
              "      <td>97785</td>\n",
              "      <td>bsk9y</td>\n",
              "      <td>0.378429</td>\n",
              "      <td>0.005837</td>\n",
              "      <td>0.160827</td>\n",
              "      <td>160.637302</td>\n",
              "    </tr>\n",
              "  </tbody>\n",
              "</table>\n",
              "</div>"
            ],
            "text/plain": [
              "    index     id        f0        f1         f2     product\n",
              "0     931  HZww2  0.755284  0.368511   1.863211   30.681774\n",
              "1    1364  bxg6G  0.411645  0.856830  -3.653440   73.604260\n",
              "2    1949  QcMuo  0.506563 -0.323775  -2.215583   75.496502\n",
              "3    3389  A5aEY -0.039949  0.156872   0.209861   89.249364\n",
              "4    7530  HZww2  1.061194 -0.373969  10.430210  158.828695\n",
              "5   16633  fiKDv  0.157341  1.028359   5.585586   95.817889\n",
              "6   21426  Tdehs  0.829407  0.298807  -0.049563   96.035308\n",
              "7   41724  bxg6G -0.823752  0.546319   3.630479   93.007798\n",
              "8   42529  AGS9W  1.454747 -0.479651   0.683380  126.370504\n",
              "9   51970  A5aEY -0.180335  0.935548  -2.094773   33.020205\n",
              "10  60140  TtcGQ  0.569276 -0.104876   6.440215   85.350186\n",
              "11  63593  QcMuo  0.635635 -0.473422   0.862670   64.578675\n",
              "12  64022  74z30  0.741456  0.459229   5.153109  140.771492\n",
              "13  66136  74z30  1.084962 -0.312358   6.990771  127.643327\n",
              "14  69163  AGS9W -0.933795  0.116194  -3.655896   19.230453\n",
              "15  75715  Tdehs  0.112079  0.430296   3.218993   60.964018\n",
              "16  89582  bsk9y  0.398908 -0.400253  10.122376  163.433078\n",
              "17  90815  fiKDv  0.049883  0.841313   6.394613  137.346586\n",
              "18  92341  TtcGQ  0.110711  1.022689   0.911381  101.318008\n",
              "19  97785  bsk9y  0.378429  0.005837   0.160827  160.637302"
            ]
          },
          "execution_count": 158,
          "metadata": {},
          "output_type": "execute_result"
        }
      ],
      "source": [
        "# check duplicated oil well in location 1\n",
        "df_1.loc[df_1.id.duplicated(keep=False)].reset_index()"
      ]
    },
    {
      "cell_type": "code",
      "execution_count": null,
      "metadata": {
        "id": "HrokjMs90-v6",
        "outputId": "d70e6429-0ded-4f90-e360-0cd7fea53d82"
      },
      "outputs": [
        {
          "data": {
            "text/plain": [
              "4"
            ]
          },
          "execution_count": 159,
          "metadata": {},
          "output_type": "execute_result"
        }
      ],
      "source": [
        "# check duplicates of oil well in location 2\n",
        "df_2.id.duplicated().sum()"
      ]
    },
    {
      "cell_type": "code",
      "execution_count": null,
      "metadata": {
        "id": "_aoluKNx0-v6",
        "outputId": "10c90b67-fc27-4279-eab1-8057972aa1f9"
      },
      "outputs": [
        {
          "data": {
            "text/plain": [
              "4"
            ]
          },
          "execution_count": 160,
          "metadata": {},
          "output_type": "execute_result"
        }
      ],
      "source": [
        "# check duplicates of oil well in location 2\n",
        "df_3.id.duplicated().sum()"
      ]
    },
    {
      "cell_type": "markdown",
      "metadata": {
        "id": "70ZkesIl0-v7"
      },
      "source": [
        "### Interim Conclusions\n",
        "\n",
        "There is no missing values. The data types are correct. \n",
        "\n",
        "There is a duplicate in ID of oil well in each of the three datasets, however each duplicate differs on their predictors and targets.\n",
        "\n",
        "Although the product's means of Location 1 and 3 are similar, and are higher that of Location 2, the standard deviations of Location 1 and 3 are similar with that of Location 2. This might show data of Location 2 as more dispersed than of other locations."
      ]
    },
    {
      "cell_type": "markdown",
      "metadata": {
        "id": "_2ekDC580-v7"
      },
      "source": [
        "## Exploratory Data Analysis\n",
        "\n",
        "In this step, correlation and distribution are analysed and visualised."
      ]
    },
    {
      "cell_type": "code",
      "execution_count": null,
      "metadata": {
        "id": "p6MYGG2b0-v7",
        "outputId": "cb19457a-67a5-45a4-90f8-e7f03dbc3bdf"
      },
      "outputs": [
        {
          "data": {
            "image/png": "[encoded data removed]",
            "text/plain": [
              "<Figure size 288x288 with 2 Axes>"
            ]
          },
          "metadata": {
            "needs_background": "light"
          },
          "output_type": "display_data"
        }
      ],
      "source": [
        "#Check for any strong correlation in variables with potential to be correlated in Location 1\n",
        "related_variables = df_1[['f0', 'f1', 'f2']]\n",
        "\n",
        "plt.figure(figsize=(4,4))\n",
        "plt.title('Correlation between Features in Location 1')\n",
        "sns.heatmap(related_variables.corr(),annot=True)\n",
        "plt.show()"
      ]
    },
    {
      "cell_type": "code",
      "execution_count": null,
      "metadata": {
        "id": "KoreP3xw0-v8",
        "outputId": "bc65791f-09a5-4ce4-d273-09c82c232514"
      },
      "outputs": [
        {
          "data": {
            "image/png": "[encoded data removed]",
            "text/plain": [
              "<Figure size 288x288 with 2 Axes>"
            ]
          },
          "metadata": {
            "needs_background": "light"
          },
          "output_type": "display_data"
        }
      ],
      "source": [
        "#Check for any strong correlation in variables with potential to be correlated Location 2\n",
        "related_variables = df_2[['f0', 'f1', 'f2']]\n",
        "\n",
        "plt.figure(figsize=(4,4))\n",
        "plt.title('Correlation between Features in Location 2')\n",
        "sns.heatmap(related_variables.corr(),annot=True)\n",
        "plt.show()"
      ]
    },
    {
      "cell_type": "code",
      "execution_count": null,
      "metadata": {
        "id": "K4b-6QC60-v8",
        "outputId": "8b960bbe-80df-4f2b-c5e9-e57033e66661"
      },
      "outputs": [
        {
          "data": {
            "image/png": "[encoded data removed]",
            "text/plain": [
              "<Figure size 288x288 with 2 Axes>"
            ]
          },
          "metadata": {
            "needs_background": "light"
          },
          "output_type": "display_data"
        }
      ],
      "source": [
        "#Check for any strong correlation in variables with potential to be correlated\n",
        "related_variables = df_3[['f0', 'f1', 'f2']]\n",
        "\n",
        "plt.figure(figsize=(4,4))\n",
        "plt.title('Correlation between Features in Location 3')\n",
        "sns.heatmap(related_variables.corr(),annot=True)\n",
        "plt.show()"
      ]
    },
    {
      "cell_type": "code",
      "execution_count": null,
      "metadata": {
        "id": "-cOMz7Me0-v9",
        "outputId": "08cb67d0-1a2a-49da-89b0-7fc9ab5e3f79"
      },
      "outputs": [
        {
          "data": {
            "image/png": "[encoded data removed]",
            "text/plain": [
              "<Figure size 1440x288 with 2 Axes>"
            ]
          },
          "metadata": {
            "needs_background": "light"
          },
          "output_type": "display_data"
        }
      ],
      "source": [
        "# Univariate analysis target - Location 1\n",
        "f = plt.figure(figsize=(20,4))\n",
        "f.add_subplot(1,2,1)\n",
        "sns.distplot(df_1['product'])\n",
        "plt.title('Distribution for Volume Oil Wells in Location 1')\n",
        "\n",
        "f.add_subplot(1,2,2)\n",
        "plt.xlim(-10,180)\n",
        "sns.boxplot(df_1['product'])\n",
        "plt.title('Boxplot for Volume of Oil Wells in Location 1')\n",
        "plt.show()"
      ]
    },
    {
      "cell_type": "code",
      "execution_count": null,
      "metadata": {
        "scrolled": true,
        "id": "6v6cOEEL0-v9",
        "outputId": "86c64064-94e8-4f29-fa6f-f5538308cc93"
      },
      "outputs": [
        {
          "data": {
            "text/plain": [
              "Text(0.5, 1.0, 'Distribution for Features f2 in Location 1')"
            ]
          },
          "execution_count": 165,
          "metadata": {},
          "output_type": "execute_result"
        },
        {
          "data": {
            "image/png": "[encoded data removed]",
            "text/plain": [
              "<Figure size 1440x288 with 3 Axes>"
            ]
          },
          "metadata": {
            "needs_background": "light"
          },
          "output_type": "display_data"
        }
      ],
      "source": [
        "# Univariate analysis target - Location 1\n",
        "\n",
        "f = plt.figure(figsize=(20,4))\n",
        "\n",
        "f.add_subplot(1,3,1)\n",
        "sns.distplot(df_1['f0'])\n",
        "plt.title('Distribution for Features f0 in Location 1')\n",
        "\n",
        "f.add_subplot(1,3,2)\n",
        "sns.distplot(df_1['f1'])\n",
        "plt.title('Distribution for Features f1 in Location 1')\n",
        "\n",
        "f.add_subplot(1,3,3)\n",
        "sns.distplot(df_1['f2'])\n",
        "plt.title('Distribution for Features f2 in Location 1')"
      ]
    },
    {
      "cell_type": "code",
      "execution_count": null,
      "metadata": {
        "id": "WIZDxCaT0-v9",
        "outputId": "d6750589-a683-49c4-9a43-8b20d8181b72"
      },
      "outputs": [
        {
          "data": {
            "image/png": "[encoded data removed]",
            "text/plain": [
              "<Figure size 1440x288 with 2 Axes>"
            ]
          },
          "metadata": {
            "needs_background": "light"
          },
          "output_type": "display_data"
        }
      ],
      "source": [
        "# Univariate analysis target - Location 2\n",
        "f = plt.figure(figsize=(20,4))\n",
        "f.add_subplot(1,2,1)\n",
        "sns.distplot(df_2['product'])\n",
        "plt.title('Distribution for Volume Oil Wells in Location 2')\n",
        "\n",
        "f.add_subplot(1,2,2)\n",
        "plt.xlim(-10,180)\n",
        "sns.boxplot(df_2['product'])\n",
        "plt.title('Boxplot for Volume of Oil Wells in Location 2')\n",
        "plt.show()"
      ]
    },
    {
      "cell_type": "code",
      "execution_count": null,
      "metadata": {
        "scrolled": true,
        "id": "JF7OIEWn0-v-",
        "outputId": "9b75279d-bb6f-421e-e7e4-fa34fde55c2c"
      },
      "outputs": [
        {
          "data": {
            "text/plain": [
              "Text(0.5, 1.0, 'Distribution for Features f2 in Location 2')"
            ]
          },
          "execution_count": 167,
          "metadata": {},
          "output_type": "execute_result"
        },
        {
          "data": {
            "image/png": "[encoded data removed]",
            "text/plain": [
              "<Figure size 1440x288 with 3 Axes>"
            ]
          },
          "metadata": {
            "needs_background": "light"
          },
          "output_type": "display_data"
        }
      ],
      "source": [
        "# Univariate analysis target - Location 2\n",
        "\n",
        "f = plt.figure(figsize=(20,4))\n",
        "\n",
        "f.add_subplot(1,3,1)\n",
        "sns.distplot(df_2['f0'])\n",
        "plt.title('Distribution for Features f0 in Location 2')\n",
        "\n",
        "f.add_subplot(1,3,2)\n",
        "sns.distplot(df_2['f1'])\n",
        "plt.title('Distribution for Features f1 in Location 2')\n",
        "\n",
        "f.add_subplot(1,3,3)\n",
        "sns.distplot(df_2['f2'])\n",
        "plt.title('Distribution for Features f2 in Location 2')"
      ]
    },
    {
      "cell_type": "code",
      "execution_count": null,
      "metadata": {
        "id": "tCefmk3l0-v-",
        "outputId": "538666ef-3372-4a51-f50d-44a53728eef8"
      },
      "outputs": [
        {
          "data": {
            "image/png": "[encoded data removed]",
            "text/plain": [
              "<Figure size 1440x288 with 2 Axes>"
            ]
          },
          "metadata": {
            "needs_background": "light"
          },
          "output_type": "display_data"
        }
      ],
      "source": [
        "# Univariate analysis target - Location 3\n",
        "f = plt.figure(figsize=(20,4))\n",
        "f.add_subplot(1,2,1)\n",
        "sns.distplot(df_3['product'])\n",
        "plt.title('Distribution for Volume Oil Wells in Location 3')\n",
        "\n",
        "f.add_subplot(1,2,2)\n",
        "plt.xlim(-10,180)\n",
        "sns.boxplot(df_3['product'])\n",
        "plt.title('Boxplot for Volume of Oil Wells in Location 3')\n",
        "plt.show()"
      ]
    },
    {
      "cell_type": "code",
      "execution_count": null,
      "metadata": {
        "scrolled": false,
        "id": "pqg6XCDP0-v-",
        "outputId": "cbb2ca85-47a9-4830-9392-b0c0adcb6c0d"
      },
      "outputs": [
        {
          "data": {
            "text/plain": [
              "Text(0.5, 1.0, 'Distribution for Features f2 in Location 3')"
            ]
          },
          "execution_count": 169,
          "metadata": {},
          "output_type": "execute_result"
        },
        {
          "data": {
            "image/png": "[encoded data removed]",
            "text/plain": [
              "<Figure size 1440x288 with 3 Axes>"
            ]
          },
          "metadata": {
            "needs_background": "light"
          },
          "output_type": "display_data"
        }
      ],
      "source": [
        "# Univariate analysis target - Location 3\n",
        "\n",
        "f = plt.figure(figsize=(20,4))\n",
        "\n",
        "f.add_subplot(1,3,1)\n",
        "sns.distplot(df_3['f0'])\n",
        "plt.title('Distribution for Features f0 in Location 3')\n",
        "\n",
        "f.add_subplot(1,3,2)\n",
        "sns.distplot(df_3['f1'])\n",
        "plt.title('Distribution for Features f1 in Location 3')\n",
        "\n",
        "f.add_subplot(1,3,3)\n",
        "sns.distplot(df_3['f2'])\n",
        "plt.title('Distribution for Features f2 in Location 3')"
      ]
    },
    {
      "cell_type": "markdown",
      "metadata": {
        "id": "rR53jIvk0-v_"
      },
      "source": [
        "### Interim Conclusions\n",
        "\n",
        "Targets are dispersed in between 0 to 200 in Location 1 and 3. And 0 to 150 in Location 2.\n",
        "\n",
        "There is no strong correlation between independent variables in all three datasets.\n",
        "\n",
        "Some other interesting informations from visualisation are:\n",
        "\n",
        "1. Distributions of targets in Location 1 and 3 are similar.\n",
        "\n",
        "2. There's similiarity in distributions of target and feature f2 in Location 2. Such similarity is not found with other features, nor in any other Locations."
      ]
    },
    {
      "cell_type": "markdown",
      "metadata": {
        "id": "8Cpg2JdQ0-v_"
      },
      "source": [
        "## Train-test split"
      ]
    },
    {
      "cell_type": "markdown",
      "metadata": {
        "id": "h0Pak7XH0-v_"
      },
      "source": [
        "In this step each dataset is splitted to train and test, with test proportion of 25%."
      ]
    },
    {
      "cell_type": "code",
      "execution_count": null,
      "metadata": {
        "id": "lWAKLVcG0-wA",
        "outputId": "e577c587-7370-4fd9-b29e-7052f7cbf9a9"
      },
      "outputs": [
        {
          "data": {
            "text/html": [
              "<div>\n",
              "<style scoped>\n",
              "    .dataframe tbody tr th:only-of-type {\n",
              "        vertical-align: middle;\n",
              "    }\n",
              "\n",
              "    .dataframe tbody tr th {\n",
              "        vertical-align: top;\n",
              "    }\n",
              "\n",
              "    .dataframe thead th {\n",
              "        text-align: right;\n",
              "    }\n",
              "</style>\n",
              "<table border=\"1\" class=\"dataframe\">\n",
              "  <thead>\n",
              "    <tr style=\"text-align: right;\">\n",
              "      <th></th>\n",
              "      <th>f0</th>\n",
              "      <th>f1</th>\n",
              "      <th>f2</th>\n",
              "    </tr>\n",
              "  </thead>\n",
              "  <tbody>\n",
              "    <tr>\n",
              "      <th>0</th>\n",
              "      <td>0.705745</td>\n",
              "      <td>-0.497823</td>\n",
              "      <td>1.221170</td>\n",
              "    </tr>\n",
              "    <tr>\n",
              "      <th>1</th>\n",
              "      <td>1.334711</td>\n",
              "      <td>-0.340164</td>\n",
              "      <td>4.365080</td>\n",
              "    </tr>\n",
              "    <tr>\n",
              "      <th>2</th>\n",
              "      <td>1.022732</td>\n",
              "      <td>0.151990</td>\n",
              "      <td>1.419926</td>\n",
              "    </tr>\n",
              "    <tr>\n",
              "      <th>3</th>\n",
              "      <td>-0.032172</td>\n",
              "      <td>0.139033</td>\n",
              "      <td>2.978566</td>\n",
              "    </tr>\n",
              "    <tr>\n",
              "      <th>4</th>\n",
              "      <td>1.988431</td>\n",
              "      <td>0.155413</td>\n",
              "      <td>4.751769</td>\n",
              "    </tr>\n",
              "  </tbody>\n",
              "</table>\n",
              "</div>"
            ],
            "text/plain": [
              "         f0        f1        f2\n",
              "0  0.705745 -0.497823  1.221170\n",
              "1  1.334711 -0.340164  4.365080\n",
              "2  1.022732  0.151990  1.419926\n",
              "3 -0.032172  0.139033  2.978566\n",
              "4  1.988431  0.155413  4.751769"
            ]
          },
          "execution_count": 170,
          "metadata": {},
          "output_type": "execute_result"
        }
      ],
      "source": [
        "# select only relevant variables for features\n",
        "df_1_x = df_1.drop(['id','product'], axis=1)\n",
        "df_1_x.head()"
      ]
    },
    {
      "cell_type": "code",
      "execution_count": null,
      "metadata": {
        "id": "1PQ60mkO0-wA",
        "outputId": "5e807a25-cde5-4b8e-b95a-1bd6e24620ef"
      },
      "outputs": [
        {
          "data": {
            "text/html": [
              "<div>\n",
              "<style scoped>\n",
              "    .dataframe tbody tr th:only-of-type {\n",
              "        vertical-align: middle;\n",
              "    }\n",
              "\n",
              "    .dataframe tbody tr th {\n",
              "        vertical-align: top;\n",
              "    }\n",
              "\n",
              "    .dataframe thead th {\n",
              "        text-align: right;\n",
              "    }\n",
              "</style>\n",
              "<table border=\"1\" class=\"dataframe\">\n",
              "  <thead>\n",
              "    <tr style=\"text-align: right;\">\n",
              "      <th></th>\n",
              "      <th>f0</th>\n",
              "      <th>f1</th>\n",
              "      <th>f2</th>\n",
              "    </tr>\n",
              "  </thead>\n",
              "  <tbody>\n",
              "    <tr>\n",
              "      <th>0</th>\n",
              "      <td>-15.001348</td>\n",
              "      <td>-8.276000</td>\n",
              "      <td>-0.005876</td>\n",
              "    </tr>\n",
              "    <tr>\n",
              "      <th>1</th>\n",
              "      <td>14.272088</td>\n",
              "      <td>-3.475083</td>\n",
              "      <td>0.999183</td>\n",
              "    </tr>\n",
              "    <tr>\n",
              "      <th>2</th>\n",
              "      <td>6.263187</td>\n",
              "      <td>-5.948386</td>\n",
              "      <td>5.001160</td>\n",
              "    </tr>\n",
              "    <tr>\n",
              "      <th>3</th>\n",
              "      <td>-13.081196</td>\n",
              "      <td>-11.506057</td>\n",
              "      <td>4.999415</td>\n",
              "    </tr>\n",
              "    <tr>\n",
              "      <th>4</th>\n",
              "      <td>12.702195</td>\n",
              "      <td>-8.147433</td>\n",
              "      <td>5.004363</td>\n",
              "    </tr>\n",
              "  </tbody>\n",
              "</table>\n",
              "</div>"
            ],
            "text/plain": [
              "          f0         f1        f2\n",
              "0 -15.001348  -8.276000 -0.005876\n",
              "1  14.272088  -3.475083  0.999183\n",
              "2   6.263187  -5.948386  5.001160\n",
              "3 -13.081196 -11.506057  4.999415\n",
              "4  12.702195  -8.147433  5.004363"
            ]
          },
          "execution_count": 171,
          "metadata": {},
          "output_type": "execute_result"
        }
      ],
      "source": [
        "# select only relevant variables for features\n",
        "df_2_x = df_2.drop(['id','product'], axis=1)\n",
        "df_2_x.head()"
      ]
    },
    {
      "cell_type": "code",
      "execution_count": null,
      "metadata": {
        "id": "pjdJM4SB0-wA",
        "outputId": "2b9777e2-f0ad-49e7-8aff-456aa6295f8d"
      },
      "outputs": [
        {
          "data": {
            "text/html": [
              "<div>\n",
              "<style scoped>\n",
              "    .dataframe tbody tr th:only-of-type {\n",
              "        vertical-align: middle;\n",
              "    }\n",
              "\n",
              "    .dataframe tbody tr th {\n",
              "        vertical-align: top;\n",
              "    }\n",
              "\n",
              "    .dataframe thead th {\n",
              "        text-align: right;\n",
              "    }\n",
              "</style>\n",
              "<table border=\"1\" class=\"dataframe\">\n",
              "  <thead>\n",
              "    <tr style=\"text-align: right;\">\n",
              "      <th></th>\n",
              "      <th>f0</th>\n",
              "      <th>f1</th>\n",
              "      <th>f2</th>\n",
              "    </tr>\n",
              "  </thead>\n",
              "  <tbody>\n",
              "    <tr>\n",
              "      <th>0</th>\n",
              "      <td>0.705745</td>\n",
              "      <td>-0.497823</td>\n",
              "      <td>1.221170</td>\n",
              "    </tr>\n",
              "    <tr>\n",
              "      <th>1</th>\n",
              "      <td>1.334711</td>\n",
              "      <td>-0.340164</td>\n",
              "      <td>4.365080</td>\n",
              "    </tr>\n",
              "    <tr>\n",
              "      <th>2</th>\n",
              "      <td>1.022732</td>\n",
              "      <td>0.151990</td>\n",
              "      <td>1.419926</td>\n",
              "    </tr>\n",
              "    <tr>\n",
              "      <th>3</th>\n",
              "      <td>-0.032172</td>\n",
              "      <td>0.139033</td>\n",
              "      <td>2.978566</td>\n",
              "    </tr>\n",
              "    <tr>\n",
              "      <th>4</th>\n",
              "      <td>1.988431</td>\n",
              "      <td>0.155413</td>\n",
              "      <td>4.751769</td>\n",
              "    </tr>\n",
              "  </tbody>\n",
              "</table>\n",
              "</div>"
            ],
            "text/plain": [
              "         f0        f1        f2\n",
              "0  0.705745 -0.497823  1.221170\n",
              "1  1.334711 -0.340164  4.365080\n",
              "2  1.022732  0.151990  1.419926\n",
              "3 -0.032172  0.139033  2.978566\n",
              "4  1.988431  0.155413  4.751769"
            ]
          },
          "execution_count": 172,
          "metadata": {},
          "output_type": "execute_result"
        }
      ],
      "source": [
        "# select only relevant variables for features\n",
        "df_3_x = df_1.drop(['id','product'], axis=1)\n",
        "df_3_x.head()"
      ]
    },
    {
      "cell_type": "code",
      "execution_count": null,
      "metadata": {
        "id": "Bv2aFpmf0-wA",
        "outputId": "8bd19264-69f7-4612-81bb-237f222792a5"
      },
      "outputs": [
        {
          "data": {
            "text/plain": [
              "0    105.280062\n",
              "1     73.037750\n",
              "2     85.265647\n",
              "3    168.620776\n",
              "4    154.036647\n",
              "Name: product, dtype: float64"
            ]
          },
          "execution_count": 173,
          "metadata": {},
          "output_type": "execute_result"
        }
      ],
      "source": [
        "# dataset for target\n",
        "df_1_y = df_1['product']\n",
        "df_1_y.head()"
      ]
    },
    {
      "cell_type": "code",
      "execution_count": null,
      "metadata": {
        "id": "KCNF3G600-wB",
        "outputId": "fa88fb02-932b-4615-dbae-54804754aaff"
      },
      "outputs": [
        {
          "data": {
            "text/plain": [
              "0      3.179103\n",
              "1     26.953261\n",
              "2    134.766305\n",
              "3    137.945408\n",
              "4    134.766305\n",
              "Name: product, dtype: float64"
            ]
          },
          "execution_count": 174,
          "metadata": {},
          "output_type": "execute_result"
        }
      ],
      "source": [
        "# dataset for target\n",
        "df_2_y = df_2['product']\n",
        "df_2_y.head()"
      ]
    },
    {
      "cell_type": "code",
      "execution_count": null,
      "metadata": {
        "id": "3o4z7jzl0-wC",
        "outputId": "b8881be8-d38c-4303-ca5d-75d142875323"
      },
      "outputs": [
        {
          "data": {
            "text/plain": [
              "0     27.758673\n",
              "1     56.069697\n",
              "2     62.871910\n",
              "3    114.572842\n",
              "4    149.600746\n",
              "Name: product, dtype: float64"
            ]
          },
          "execution_count": 175,
          "metadata": {},
          "output_type": "execute_result"
        }
      ],
      "source": [
        "# dataset for target\n",
        "df_3_y = df_3['product']\n",
        "df_3_y.head()"
      ]
    },
    {
      "cell_type": "code",
      "execution_count": null,
      "metadata": {
        "id": "Nh1SopAw0-wC",
        "outputId": "b646703d-9bfe-41fd-89ac-70d3c3bd4efa"
      },
      "outputs": [
        {
          "data": {
            "text/plain": [
              "(25000, 3)"
            ]
          },
          "execution_count": 176,
          "metadata": {},
          "output_type": "execute_result"
        }
      ],
      "source": [
        "# train-test split dataset 1\n",
        "# validation size of 25%\n",
        "x_train_1, x_valid_1, y_train_1, y_valid_1 = train_test_split(df_1_x, df_1_y, test_size = 0.25, random_state=123)\n",
        "x_valid_1.shape"
      ]
    },
    {
      "cell_type": "code",
      "execution_count": null,
      "metadata": {
        "id": "8-5UOEx90-wC",
        "outputId": "d79098b2-6331-4a2a-9962-ac288310d7c4"
      },
      "outputs": [
        {
          "data": {
            "text/plain": [
              "(25000, 3)"
            ]
          },
          "execution_count": 177,
          "metadata": {},
          "output_type": "execute_result"
        }
      ],
      "source": [
        "# train-test split dataset 2\n",
        "# validation size of 25%\n",
        "x_train_2, x_valid_2, y_train_2, y_valid_2 = train_test_split(df_2_x, df_2_y, test_size = 0.25, random_state=123)\n",
        "x_valid_2.shape"
      ]
    },
    {
      "cell_type": "code",
      "execution_count": null,
      "metadata": {
        "id": "WOBzttgX0-wD",
        "outputId": "01ee923f-50d2-4872-8713-13203c0440a3"
      },
      "outputs": [
        {
          "data": {
            "text/plain": [
              "(25000, 3)"
            ]
          },
          "execution_count": 178,
          "metadata": {},
          "output_type": "execute_result"
        }
      ],
      "source": [
        "# train-test split dataset 1\n",
        "# validation size of 25%\n",
        "x_train_3, x_valid_3, y_train_3, y_valid_3 = train_test_split(df_3_x, df_3_y, test_size = 0.25, random_state=123)\n",
        "x_valid_3.shape"
      ]
    },
    {
      "cell_type": "markdown",
      "metadata": {
        "id": "HkPTJvxz0-wD"
      },
      "source": [
        "## XGBoost\n",
        "\n",
        "In this step first model will be built, using XGBoost algorithm that lately is known as the best algorithm in machine learning world."
      ]
    },
    {
      "cell_type": "markdown",
      "metadata": {
        "id": "ujk7Plvp0-wD"
      },
      "source": [
        "### Build models with XGBoost Algorithm"
      ]
    },
    {
      "cell_type": "code",
      "execution_count": null,
      "metadata": {
        "id": "38otbmYW0-wE",
        "outputId": "b2b1ee33-258b-44c4-b03f-0d73b1fa4103"
      },
      "outputs": [
        {
          "name": "stdout",
          "output_type": "stream",
          "text": [
            "Best gamma: 7\n",
            "Best learning_rate: 0.4\n"
          ]
        }
      ],
      "source": [
        "# Using GridSearch to find combination of hyperparameter\n",
        "gamma = range(5, 10, 1)\n",
        "learning_rate = np.arange(0.4, 0.7, 0.1)\n",
        "\n",
        "hyperparameters = dict(gamma=gamma, learning_rate=learning_rate)\n",
        "\n",
        "#create model with grid search\n",
        "xgb_1 = XGBRegressor( objective='reg:squarederror', random_state=123)\n",
        "\n",
        "clf = GridSearchCV(xgb_1, hyperparameters, cv=5)\n",
        "\n",
        "# train model\n",
        "xgb_1 = clf.fit(x_train_1, y_train_1)\n",
        "print('Best gamma:', xgb_1.best_estimator_.get_params()['gamma'])\n",
        "print('Best learning_rate:', xgb_1.best_estimator_.get_params()['learning_rate'])\n"
      ]
    },
    {
      "cell_type": "code",
      "execution_count": null,
      "metadata": {
        "id": "PjML9ejq0-wE",
        "outputId": "2654db23-44ba-4b2e-950c-609532b662cd"
      },
      "outputs": [
        {
          "data": {
            "text/plain": [
              "0.28298789958782444"
            ]
          },
          "execution_count": 180,
          "metadata": {},
          "output_type": "execute_result"
        }
      ],
      "source": [
        "# apply the hyperparam to xgb model for dataset 1\n",
        "xgb_1 = XGBRegressor( objective='reg:squarederror', random_state=123, \n",
        "                     gamma=7, learning_rate=0.4)\n",
        "xgb_1.fit(x_train_1, y_train_1)\n",
        "predict_valid_1 = xgb_1.predict(x_valid_1)\n",
        "r2_score(y_valid_1, predict_valid_1)"
      ]
    },
    {
      "cell_type": "code",
      "execution_count": null,
      "metadata": {
        "id": "E72NW0xu0-wE",
        "outputId": "92b230f0-0be9-4a67-9008-4781d15e1fd2"
      },
      "outputs": [
        {
          "data": {
            "text/plain": [
              "0.999752529082184"
            ]
          },
          "execution_count": 181,
          "metadata": {},
          "output_type": "execute_result"
        }
      ],
      "source": [
        "# apply the similar hyperparam (as benchmarking) to xgb model for dataset 2\n",
        "xgb_2 = XGBRegressor( objective='reg:squarederror', random_state=123, \n",
        "                     gamma=7, learning_rate=0.4)\n",
        "xgb_2.fit(x_train_2, y_train_2)\n",
        "predict_valid_2 = xgb_2.predict(x_valid_2)\n",
        "r2_score(y_valid_2, predict_valid_2)"
      ]
    },
    {
      "cell_type": "code",
      "execution_count": null,
      "metadata": {
        "id": "Zn4wE5x_0-wF",
        "outputId": "09e96edb-41a6-4c85-e1e3-5ffc398fc044"
      },
      "outputs": [
        {
          "data": {
            "text/plain": [
              "0.9997784480735951"
            ]
          },
          "execution_count": 182,
          "metadata": {},
          "output_type": "execute_result"
        }
      ],
      "source": [
        "# find r2_score for dataset 2 using train dataset\n",
        "predict_train_2 = xgb_2.predict(x_train_2)\n",
        "r2_score(y_train_2, predict_train_2)"
      ]
    },
    {
      "cell_type": "code",
      "execution_count": null,
      "metadata": {
        "id": "TbwhP9bx0-wF",
        "outputId": "4fc4b0e2-b121-46e5-bb98-41fc31be52cb"
      },
      "outputs": [
        {
          "data": {
            "text/plain": [
              "-0.028442705358784126"
            ]
          },
          "execution_count": 183,
          "metadata": {},
          "output_type": "execute_result"
        }
      ],
      "source": [
        "# apply the similar hyperparam (as benchmarking) to xgb model for dataset 3\n",
        "xgb_3 = XGBRegressor( objective='reg:squarederror', random_state=123, \n",
        "                     gamma=7, learning_rate=0.4)\n",
        "xgb_3.fit(x_train_3, y_train_3)\n",
        "predict_valid_3 = xgb_3.predict(x_valid_3)\n",
        "r2_score(y_valid_3, predict_valid_3)"
      ]
    },
    {
      "cell_type": "markdown",
      "metadata": {
        "id": "y8Go--Fc0-wG"
      },
      "source": [
        "### Plotting the coefficients"
      ]
    },
    {
      "cell_type": "code",
      "execution_count": null,
      "metadata": {
        "id": "wZyxQ-Ns0-wG",
        "outputId": "152864fb-f144-4adf-d9f8-c37158ccd755"
      },
      "outputs": [
        {
          "data": {
            "image/png": "[encoded data removed]",
            "text/plain": [
              "<Figure size 468x324 with 1 Axes>"
            ]
          },
          "metadata": {
            "needs_background": "light"
          },
          "output_type": "display_data"
        },
        {
          "data": {
            "text/plain": [
              "<Figure size 360x360 with 0 Axes>"
            ]
          },
          "metadata": {},
          "output_type": "display_data"
        }
      ],
      "source": [
        "# check each feature's importance on xgb model dataset 1\n",
        "y = xgb_1.feature_importances_\n",
        "fig, ax = plt.subplots() \n",
        "width = 0.4\n",
        "ind = np.arange(len(y))\n",
        "ax.barh(ind, y, width, color='green')\n",
        "ax.set_yticks(ind+width/10)\n",
        "ax.set_yticklabels(x_train_1.columns, minor=False)\n",
        "plt.title('Feature Importance in XGBoost')\n",
        "plt.xlabel('Relative Importance')\n",
        "plt.ylabel('Feature') \n",
        "plt.figure(figsize=(5,5))\n",
        "fig.set_size_inches(6.5, 4.5, forward=True)"
      ]
    },
    {
      "cell_type": "code",
      "execution_count": null,
      "metadata": {
        "id": "05D95Zvo0-wG",
        "outputId": "14275635-f275-4eea-b7c5-4c416cd76853"
      },
      "outputs": [
        {
          "data": {
            "image/png": "[encoded data removed]",
            "text/plain": [
              "<Figure size 468x324 with 1 Axes>"
            ]
          },
          "metadata": {
            "needs_background": "light"
          },
          "output_type": "display_data"
        },
        {
          "data": {
            "text/plain": [
              "<Figure size 360x360 with 0 Axes>"
            ]
          },
          "metadata": {},
          "output_type": "display_data"
        }
      ],
      "source": [
        "# check each feature's importance on xgb model dataset 2\n",
        "y = xgb_2.feature_importances_\n",
        "fig, ax = plt.subplots() \n",
        "width = 0.4\n",
        "ind = np.arange(len(y))\n",
        "ax.barh(ind, y, width, color='green')\n",
        "ax.set_yticks(ind+width/10)\n",
        "ax.set_yticklabels(x_train_2.columns, minor=False)\n",
        "plt.title('Feature Importance in XGBoost')\n",
        "plt.xlabel('Relative Importance')\n",
        "plt.ylabel('Feature') \n",
        "plt.figure(figsize=(5,5))\n",
        "fig.set_size_inches(6.5, 4.5, forward=True)"
      ]
    },
    {
      "cell_type": "code",
      "execution_count": null,
      "metadata": {
        "id": "5w2Dugc80-wH",
        "outputId": "91cffd66-63b6-4e9f-a0fc-b5e233cc7d76"
      },
      "outputs": [
        {
          "data": {
            "image/png": "[encoded data removed]",
            "text/plain": [
              "<Figure size 468x324 with 1 Axes>"
            ]
          },
          "metadata": {
            "needs_background": "light"
          },
          "output_type": "display_data"
        },
        {
          "data": {
            "text/plain": [
              "<Figure size 360x360 with 0 Axes>"
            ]
          },
          "metadata": {},
          "output_type": "display_data"
        }
      ],
      "source": [
        "# check each feature's importance on xgb model dataset 3\n",
        "y = xgb_3.feature_importances_\n",
        "fig, ax = plt.subplots() \n",
        "width = 0.4\n",
        "ind = np.arange(len(y))\n",
        "ax.barh(ind, y, width, color='green')\n",
        "ax.set_yticks(ind+width/10)\n",
        "ax.set_yticklabels(x_train_3.columns, minor=False)\n",
        "plt.title('Feature Importance in XGBoost')\n",
        "plt.xlabel('Relative Importance')\n",
        "plt.ylabel('Feature') \n",
        "plt.figure(figsize=(5,5))\n",
        "fig.set_size_inches(6.5, 4.5, forward=True)"
      ]
    },
    {
      "cell_type": "markdown",
      "metadata": {
        "id": "eAIsZcHW0-wH"
      },
      "source": [
        "### Evaluation by RMSE"
      ]
    },
    {
      "cell_type": "code",
      "execution_count": null,
      "metadata": {
        "id": "OfcfMYzt0-wI",
        "outputId": "8fe07464-9280-4ce9-9ae2-934dd1a14e74"
      },
      "outputs": [
        {
          "data": {
            "text/plain": [
              "37.603563173739445"
            ]
          },
          "execution_count": 187,
          "metadata": {},
          "output_type": "execute_result"
        }
      ],
      "source": [
        "# rmse of Location 1\n",
        "mse_xgb_1 = mean_squared_error(y_valid_1, predict_valid_1)\n",
        "rmse_xgb_1 = mse_xgb_1**0.5\n",
        "rmse_xgb_1"
      ]
    },
    {
      "cell_type": "code",
      "execution_count": null,
      "metadata": {
        "id": "PFATUkDh0-wI",
        "outputId": "a2bc1293-d8e1-43ea-b5e5-2897b2c8e4b5"
      },
      "outputs": [
        {
          "data": {
            "text/plain": [
              "0.720786688578983"
            ]
          },
          "execution_count": 188,
          "metadata": {},
          "output_type": "execute_result"
        }
      ],
      "source": [
        "# rmse of Location 2\n",
        "mse_xgb_2 = mean_squared_error(y_valid_2, predict_valid_2)\n",
        "rmse_xgb_2 = mse_xgb_2**0.5\n",
        "rmse_xgb_2"
      ]
    },
    {
      "cell_type": "code",
      "execution_count": null,
      "metadata": {
        "id": "07BbwLjQ0-wI",
        "outputId": "817ac918-0047-4ee8-aa1a-1913dd0c240a"
      },
      "outputs": [
        {
          "data": {
            "text/plain": [
              "45.30413864059838"
            ]
          },
          "execution_count": 189,
          "metadata": {},
          "output_type": "execute_result"
        }
      ],
      "source": [
        "# rmse of Location 3\n",
        "mse_xgb_3 = mean_squared_error(y_valid_3, predict_valid_3)\n",
        "rmse_xgb_3 = mse_xgb_3**0.5\n",
        "rmse_xgb_3"
      ]
    },
    {
      "cell_type": "markdown",
      "metadata": {
        "id": "R9IeeBug0-wI"
      },
      "source": [
        "### Predictions vs targets for Location 1"
      ]
    },
    {
      "cell_type": "code",
      "execution_count": null,
      "metadata": {
        "id": "JZ0pqpW00-wJ",
        "outputId": "199ded32-6c71-4524-c8eb-2ba2771c5519"
      },
      "outputs": [
        {
          "data": {
            "text/html": [
              "<div>\n",
              "<style scoped>\n",
              "    .dataframe tbody tr th:only-of-type {\n",
              "        vertical-align: middle;\n",
              "    }\n",
              "\n",
              "    .dataframe tbody tr th {\n",
              "        vertical-align: top;\n",
              "    }\n",
              "\n",
              "    .dataframe thead th {\n",
              "        text-align: right;\n",
              "    }\n",
              "</style>\n",
              "<table border=\"1\" class=\"dataframe\">\n",
              "  <thead>\n",
              "    <tr style=\"text-align: right;\">\n",
              "      <th></th>\n",
              "      <th>index</th>\n",
              "      <th>product</th>\n",
              "    </tr>\n",
              "  </thead>\n",
              "  <tbody>\n",
              "    <tr>\n",
              "      <th>0</th>\n",
              "      <td>42083</td>\n",
              "      <td>145.825972</td>\n",
              "    </tr>\n",
              "    <tr>\n",
              "      <th>1</th>\n",
              "      <td>71825</td>\n",
              "      <td>134.020212</td>\n",
              "    </tr>\n",
              "    <tr>\n",
              "      <th>2</th>\n",
              "      <td>99535</td>\n",
              "      <td>88.905826</td>\n",
              "    </tr>\n",
              "    <tr>\n",
              "      <th>3</th>\n",
              "      <td>47879</td>\n",
              "      <td>19.508226</td>\n",
              "    </tr>\n",
              "    <tr>\n",
              "      <th>4</th>\n",
              "      <td>36734</td>\n",
              "      <td>108.713468</td>\n",
              "    </tr>\n",
              "  </tbody>\n",
              "</table>\n",
              "</div>"
            ],
            "text/plain": [
              "   index     product\n",
              "0  42083  145.825972\n",
              "1  71825  134.020212\n",
              "2  99535   88.905826\n",
              "3  47879   19.508226\n",
              "4  36734  108.713468"
            ]
          },
          "execution_count": 190,
          "metadata": {},
          "output_type": "execute_result"
        }
      ],
      "source": [
        "# save target valid Location 1\n",
        "target_valid_1 = pd.DataFrame(y_valid_1).reset_index()\n",
        "target_valid_1.head()"
      ]
    },
    {
      "cell_type": "code",
      "execution_count": null,
      "metadata": {
        "id": "I6Y9F6Qv0-wJ",
        "outputId": "5e62c4ee-9805-4728-fdf4-d392e5f45efe"
      },
      "outputs": [
        {
          "data": {
            "text/html": [
              "<div>\n",
              "<style scoped>\n",
              "    .dataframe tbody tr th:only-of-type {\n",
              "        vertical-align: middle;\n",
              "    }\n",
              "\n",
              "    .dataframe tbody tr th {\n",
              "        vertical-align: top;\n",
              "    }\n",
              "\n",
              "    .dataframe thead th {\n",
              "        text-align: right;\n",
              "    }\n",
              "</style>\n",
              "<table border=\"1\" class=\"dataframe\">\n",
              "  <thead>\n",
              "    <tr style=\"text-align: right;\">\n",
              "      <th></th>\n",
              "      <th>index</th>\n",
              "      <th>product</th>\n",
              "      <th>predict</th>\n",
              "    </tr>\n",
              "  </thead>\n",
              "  <tbody>\n",
              "    <tr>\n",
              "      <th>0</th>\n",
              "      <td>42083</td>\n",
              "      <td>145.825972</td>\n",
              "      <td>132.972809</td>\n",
              "    </tr>\n",
              "    <tr>\n",
              "      <th>1</th>\n",
              "      <td>71825</td>\n",
              "      <td>134.020212</td>\n",
              "      <td>88.778069</td>\n",
              "    </tr>\n",
              "    <tr>\n",
              "      <th>2</th>\n",
              "      <td>99535</td>\n",
              "      <td>88.905826</td>\n",
              "      <td>46.857273</td>\n",
              "    </tr>\n",
              "    <tr>\n",
              "      <th>3</th>\n",
              "      <td>47879</td>\n",
              "      <td>19.508226</td>\n",
              "      <td>87.723549</td>\n",
              "    </tr>\n",
              "    <tr>\n",
              "      <th>4</th>\n",
              "      <td>36734</td>\n",
              "      <td>108.713468</td>\n",
              "      <td>113.019241</td>\n",
              "    </tr>\n",
              "  </tbody>\n",
              "</table>\n",
              "</div>"
            ],
            "text/plain": [
              "   index     product     predict\n",
              "0  42083  145.825972  132.972809\n",
              "1  71825  134.020212   88.778069\n",
              "2  99535   88.905826   46.857273\n",
              "3  47879   19.508226   87.723549\n",
              "4  36734  108.713468  113.019241"
            ]
          },
          "execution_count": 191,
          "metadata": {},
          "output_type": "execute_result"
        }
      ],
      "source": [
        "# save dataframe target of dataset valid Location 1\n",
        "delta_xgb_1 = target_valid_1\n",
        "\n",
        "# add column for predictions\n",
        "delta_xgb_1['predict'] = pd.Series(predict_valid_1)\n",
        "delta_xgb_1.head()"
      ]
    },
    {
      "cell_type": "code",
      "execution_count": null,
      "metadata": {
        "id": "RAMN-2n70-wK",
        "outputId": "e2efe4e2-e90f-4cb2-e032-7bb6ee3b3d20"
      },
      "outputs": [
        {
          "data": {
            "text/html": [
              "<div>\n",
              "<style scoped>\n",
              "    .dataframe tbody tr th:only-of-type {\n",
              "        vertical-align: middle;\n",
              "    }\n",
              "\n",
              "    .dataframe tbody tr th {\n",
              "        vertical-align: top;\n",
              "    }\n",
              "\n",
              "    .dataframe thead th {\n",
              "        text-align: right;\n",
              "    }\n",
              "</style>\n",
              "<table border=\"1\" class=\"dataframe\">\n",
              "  <thead>\n",
              "    <tr style=\"text-align: right;\">\n",
              "      <th></th>\n",
              "      <th>product</th>\n",
              "      <th>predict</th>\n",
              "    </tr>\n",
              "    <tr>\n",
              "      <th>index</th>\n",
              "      <th></th>\n",
              "      <th></th>\n",
              "    </tr>\n",
              "  </thead>\n",
              "  <tbody>\n",
              "    <tr>\n",
              "      <th>42083</th>\n",
              "      <td>145.825972</td>\n",
              "      <td>132.972809</td>\n",
              "    </tr>\n",
              "    <tr>\n",
              "      <th>71825</th>\n",
              "      <td>134.020212</td>\n",
              "      <td>88.778069</td>\n",
              "    </tr>\n",
              "    <tr>\n",
              "      <th>99535</th>\n",
              "      <td>88.905826</td>\n",
              "      <td>46.857273</td>\n",
              "    </tr>\n",
              "    <tr>\n",
              "      <th>47879</th>\n",
              "      <td>19.508226</td>\n",
              "      <td>87.723549</td>\n",
              "    </tr>\n",
              "    <tr>\n",
              "      <th>36734</th>\n",
              "      <td>108.713468</td>\n",
              "      <td>113.019241</td>\n",
              "    </tr>\n",
              "    <tr>\n",
              "      <th>...</th>\n",
              "      <td>...</td>\n",
              "      <td>...</td>\n",
              "    </tr>\n",
              "    <tr>\n",
              "      <th>56405</th>\n",
              "      <td>80.100250</td>\n",
              "      <td>93.611244</td>\n",
              "    </tr>\n",
              "    <tr>\n",
              "      <th>50954</th>\n",
              "      <td>47.345664</td>\n",
              "      <td>47.240677</td>\n",
              "    </tr>\n",
              "    <tr>\n",
              "      <th>99121</th>\n",
              "      <td>176.382705</td>\n",
              "      <td>149.896820</td>\n",
              "    </tr>\n",
              "    <tr>\n",
              "      <th>4170</th>\n",
              "      <td>140.334745</td>\n",
              "      <td>103.187149</td>\n",
              "    </tr>\n",
              "    <tr>\n",
              "      <th>18144</th>\n",
              "      <td>117.324049</td>\n",
              "      <td>61.100914</td>\n",
              "    </tr>\n",
              "  </tbody>\n",
              "</table>\n",
              "<p>25000 rows × 2 columns</p>\n",
              "</div>"
            ],
            "text/plain": [
              "          product     predict\n",
              "index                        \n",
              "42083  145.825972  132.972809\n",
              "71825  134.020212   88.778069\n",
              "99535   88.905826   46.857273\n",
              "47879   19.508226   87.723549\n",
              "36734  108.713468  113.019241\n",
              "...           ...         ...\n",
              "56405   80.100250   93.611244\n",
              "50954   47.345664   47.240677\n",
              "99121  176.382705  149.896820\n",
              "4170   140.334745  103.187149\n",
              "18144  117.324049   61.100914\n",
              "\n",
              "[25000 rows x 2 columns]"
            ]
          },
          "execution_count": 192,
          "metadata": {},
          "output_type": "execute_result"
        }
      ],
      "source": [
        "# set original index as the index\n",
        "delta_xgb_1 = delta_xgb_1.set_index('index')\n",
        "delta_xgb_1"
      ]
    },
    {
      "cell_type": "code",
      "execution_count": null,
      "metadata": {
        "id": "Ajr5TMyw0-wK",
        "outputId": "592b8425-8c3c-4f48-a83d-fd08bdef436c"
      },
      "outputs": [
        {
          "data": {
            "text/html": [
              "<div>\n",
              "<style scoped>\n",
              "    .dataframe tbody tr th:only-of-type {\n",
              "        vertical-align: middle;\n",
              "    }\n",
              "\n",
              "    .dataframe tbody tr th {\n",
              "        vertical-align: top;\n",
              "    }\n",
              "\n",
              "    .dataframe thead th {\n",
              "        text-align: right;\n",
              "    }\n",
              "</style>\n",
              "<table border=\"1\" class=\"dataframe\">\n",
              "  <thead>\n",
              "    <tr style=\"text-align: right;\">\n",
              "      <th></th>\n",
              "      <th>product</th>\n",
              "      <th>predict</th>\n",
              "      <th>var</th>\n",
              "    </tr>\n",
              "    <tr>\n",
              "      <th>index</th>\n",
              "      <th></th>\n",
              "      <th></th>\n",
              "      <th></th>\n",
              "    </tr>\n",
              "  </thead>\n",
              "  <tbody>\n",
              "    <tr>\n",
              "      <th>42083</th>\n",
              "      <td>145.825972</td>\n",
              "      <td>132.972809</td>\n",
              "      <td>12.853163</td>\n",
              "    </tr>\n",
              "    <tr>\n",
              "      <th>71825</th>\n",
              "      <td>134.020212</td>\n",
              "      <td>88.778069</td>\n",
              "      <td>45.242143</td>\n",
              "    </tr>\n",
              "    <tr>\n",
              "      <th>99535</th>\n",
              "      <td>88.905826</td>\n",
              "      <td>46.857273</td>\n",
              "      <td>42.048553</td>\n",
              "    </tr>\n",
              "    <tr>\n",
              "      <th>47879</th>\n",
              "      <td>19.508226</td>\n",
              "      <td>87.723549</td>\n",
              "      <td>-68.215323</td>\n",
              "    </tr>\n",
              "    <tr>\n",
              "      <th>36734</th>\n",
              "      <td>108.713468</td>\n",
              "      <td>113.019241</td>\n",
              "      <td>-4.305773</td>\n",
              "    </tr>\n",
              "  </tbody>\n",
              "</table>\n",
              "</div>"
            ],
            "text/plain": [
              "          product     predict        var\n",
              "index                                   \n",
              "42083  145.825972  132.972809  12.853163\n",
              "71825  134.020212   88.778069  45.242143\n",
              "99535   88.905826   46.857273  42.048553\n",
              "47879   19.508226   87.723549 -68.215323\n",
              "36734  108.713468  113.019241  -4.305773"
            ]
          },
          "execution_count": 193,
          "metadata": {},
          "output_type": "execute_result"
        }
      ],
      "source": [
        "# add column for discrepancy predictions to actual\n",
        "delta_xgb_1['var'] = delta_xgb_1['product']-delta_xgb_1['predict']\n",
        "delta_xgb_1.head()"
      ]
    },
    {
      "cell_type": "code",
      "execution_count": null,
      "metadata": {
        "id": "o-YR9jaN0-wK",
        "outputId": "262c6c4a-1030-4090-b151-0c02f290fb8a"
      },
      "outputs": [
        {
          "data": {
            "text/html": [
              "<div>\n",
              "<style scoped>\n",
              "    .dataframe tbody tr th:only-of-type {\n",
              "        vertical-align: middle;\n",
              "    }\n",
              "\n",
              "    .dataframe tbody tr th {\n",
              "        vertical-align: top;\n",
              "    }\n",
              "\n",
              "    .dataframe thead th {\n",
              "        text-align: right;\n",
              "    }\n",
              "</style>\n",
              "<table border=\"1\" class=\"dataframe\">\n",
              "  <thead>\n",
              "    <tr style=\"text-align: right;\">\n",
              "      <th></th>\n",
              "      <th>product</th>\n",
              "      <th>predict</th>\n",
              "      <th>var</th>\n",
              "    </tr>\n",
              "  </thead>\n",
              "  <tbody>\n",
              "    <tr>\n",
              "      <th>count</th>\n",
              "      <td>25000.000000</td>\n",
              "      <td>25000.000000</td>\n",
              "      <td>25000.000000</td>\n",
              "    </tr>\n",
              "    <tr>\n",
              "      <th>mean</th>\n",
              "      <td>92.850624</td>\n",
              "      <td>92.532921</td>\n",
              "      <td>0.317708</td>\n",
              "    </tr>\n",
              "    <tr>\n",
              "      <th>std</th>\n",
              "      <td>44.409353</td>\n",
              "      <td>25.077299</td>\n",
              "      <td>37.602973</td>\n",
              "    </tr>\n",
              "    <tr>\n",
              "      <th>min</th>\n",
              "      <td>0.000000</td>\n",
              "      <td>15.608838</td>\n",
              "      <td>-119.119739</td>\n",
              "    </tr>\n",
              "    <tr>\n",
              "      <th>25%</th>\n",
              "      <td>56.798166</td>\n",
              "      <td>73.738487</td>\n",
              "      <td>-27.155096</td>\n",
              "    </tr>\n",
              "    <tr>\n",
              "      <th>50%</th>\n",
              "      <td>92.372796</td>\n",
              "      <td>92.705444</td>\n",
              "      <td>0.252241</td>\n",
              "    </tr>\n",
              "    <tr>\n",
              "      <th>75%</th>\n",
              "      <td>129.011163</td>\n",
              "      <td>110.867210</td>\n",
              "      <td>27.867575</td>\n",
              "    </tr>\n",
              "    <tr>\n",
              "      <th>max</th>\n",
              "      <td>185.355615</td>\n",
              "      <td>173.149918</td>\n",
              "      <td>124.884481</td>\n",
              "    </tr>\n",
              "  </tbody>\n",
              "</table>\n",
              "</div>"
            ],
            "text/plain": [
              "            product       predict           var\n",
              "count  25000.000000  25000.000000  25000.000000\n",
              "mean      92.850624     92.532921      0.317708\n",
              "std       44.409353     25.077299     37.602973\n",
              "min        0.000000     15.608838   -119.119739\n",
              "25%       56.798166     73.738487    -27.155096\n",
              "50%       92.372796     92.705444      0.252241\n",
              "75%      129.011163    110.867210     27.867575\n",
              "max      185.355615    173.149918    124.884481"
            ]
          },
          "execution_count": 194,
          "metadata": {},
          "output_type": "execute_result"
        }
      ],
      "source": [
        "# load statistical description\n",
        "delta_xgb_1.describe()"
      ]
    },
    {
      "cell_type": "markdown",
      "metadata": {
        "id": "a5jupFEf0-wL"
      },
      "source": [
        "### Predictions vs targets for Location 2"
      ]
    },
    {
      "cell_type": "code",
      "execution_count": null,
      "metadata": {
        "id": "xvzQ-nGc0-wL",
        "outputId": "dc6a9491-c48d-4f95-a828-2ebefd0dee1a"
      },
      "outputs": [
        {
          "data": {
            "text/html": [
              "<div>\n",
              "<style scoped>\n",
              "    .dataframe tbody tr th:only-of-type {\n",
              "        vertical-align: middle;\n",
              "    }\n",
              "\n",
              "    .dataframe tbody tr th {\n",
              "        vertical-align: top;\n",
              "    }\n",
              "\n",
              "    .dataframe thead th {\n",
              "        text-align: right;\n",
              "    }\n",
              "</style>\n",
              "<table border=\"1\" class=\"dataframe\">\n",
              "  <thead>\n",
              "    <tr style=\"text-align: right;\">\n",
              "      <th></th>\n",
              "      <th>index</th>\n",
              "      <th>product</th>\n",
              "    </tr>\n",
              "  </thead>\n",
              "  <tbody>\n",
              "    <tr>\n",
              "      <th>0</th>\n",
              "      <td>42083</td>\n",
              "      <td>57.085625</td>\n",
              "    </tr>\n",
              "    <tr>\n",
              "      <th>1</th>\n",
              "      <td>71825</td>\n",
              "      <td>80.859783</td>\n",
              "    </tr>\n",
              "    <tr>\n",
              "      <th>2</th>\n",
              "      <td>99535</td>\n",
              "      <td>53.906522</td>\n",
              "    </tr>\n",
              "    <tr>\n",
              "      <th>3</th>\n",
              "      <td>47879</td>\n",
              "      <td>107.813044</td>\n",
              "    </tr>\n",
              "    <tr>\n",
              "      <th>4</th>\n",
              "      <td>36734</td>\n",
              "      <td>53.906522</td>\n",
              "    </tr>\n",
              "  </tbody>\n",
              "</table>\n",
              "</div>"
            ],
            "text/plain": [
              "   index     product\n",
              "0  42083   57.085625\n",
              "1  71825   80.859783\n",
              "2  99535   53.906522\n",
              "3  47879  107.813044\n",
              "4  36734   53.906522"
            ]
          },
          "execution_count": 195,
          "metadata": {},
          "output_type": "execute_result"
        }
      ],
      "source": [
        "# save target valid Location 2\n",
        "target_valid_2 = pd.DataFrame(y_valid_2).reset_index()\n",
        "target_valid_2.head()"
      ]
    },
    {
      "cell_type": "code",
      "execution_count": null,
      "metadata": {
        "id": "5s0DyoL80-wL",
        "outputId": "03d08d7f-a485-4a7c-96ba-80d31a4bd68c"
      },
      "outputs": [
        {
          "data": {
            "text/html": [
              "<div>\n",
              "<style scoped>\n",
              "    .dataframe tbody tr th:only-of-type {\n",
              "        vertical-align: middle;\n",
              "    }\n",
              "\n",
              "    .dataframe tbody tr th {\n",
              "        vertical-align: top;\n",
              "    }\n",
              "\n",
              "    .dataframe thead th {\n",
              "        text-align: right;\n",
              "    }\n",
              "</style>\n",
              "<table border=\"1\" class=\"dataframe\">\n",
              "  <thead>\n",
              "    <tr style=\"text-align: right;\">\n",
              "      <th></th>\n",
              "      <th>index</th>\n",
              "      <th>product</th>\n",
              "      <th>predict</th>\n",
              "    </tr>\n",
              "  </thead>\n",
              "  <tbody>\n",
              "    <tr>\n",
              "      <th>0</th>\n",
              "      <td>42083</td>\n",
              "      <td>57.085625</td>\n",
              "      <td>56.821075</td>\n",
              "    </tr>\n",
              "    <tr>\n",
              "      <th>1</th>\n",
              "      <td>71825</td>\n",
              "      <td>80.859783</td>\n",
              "      <td>80.942795</td>\n",
              "    </tr>\n",
              "    <tr>\n",
              "      <th>2</th>\n",
              "      <td>99535</td>\n",
              "      <td>53.906522</td>\n",
              "      <td>53.942303</td>\n",
              "    </tr>\n",
              "    <tr>\n",
              "      <th>3</th>\n",
              "      <td>47879</td>\n",
              "      <td>107.813044</td>\n",
              "      <td>108.088951</td>\n",
              "    </tr>\n",
              "    <tr>\n",
              "      <th>4</th>\n",
              "      <td>36734</td>\n",
              "      <td>53.906522</td>\n",
              "      <td>53.949478</td>\n",
              "    </tr>\n",
              "  </tbody>\n",
              "</table>\n",
              "</div>"
            ],
            "text/plain": [
              "   index     product     predict\n",
              "0  42083   57.085625   56.821075\n",
              "1  71825   80.859783   80.942795\n",
              "2  99535   53.906522   53.942303\n",
              "3  47879  107.813044  108.088951\n",
              "4  36734   53.906522   53.949478"
            ]
          },
          "execution_count": 196,
          "metadata": {},
          "output_type": "execute_result"
        }
      ],
      "source": [
        "# save dataframe target of dataset valid Location 2\n",
        "delta_xgb_2 = target_valid_2\n",
        "\n",
        "# add column for predictions\n",
        "delta_xgb_2['predict'] = pd.Series(predict_valid_2)\n",
        "delta_xgb_2.head()"
      ]
    },
    {
      "cell_type": "code",
      "execution_count": null,
      "metadata": {
        "id": "gRPYvmjy0-wL",
        "outputId": "9fd667da-880c-412f-9e85-dd48f5762080"
      },
      "outputs": [
        {
          "data": {
            "text/html": [
              "<div>\n",
              "<style scoped>\n",
              "    .dataframe tbody tr th:only-of-type {\n",
              "        vertical-align: middle;\n",
              "    }\n",
              "\n",
              "    .dataframe tbody tr th {\n",
              "        vertical-align: top;\n",
              "    }\n",
              "\n",
              "    .dataframe thead th {\n",
              "        text-align: right;\n",
              "    }\n",
              "</style>\n",
              "<table border=\"1\" class=\"dataframe\">\n",
              "  <thead>\n",
              "    <tr style=\"text-align: right;\">\n",
              "      <th></th>\n",
              "      <th>product</th>\n",
              "      <th>predict</th>\n",
              "    </tr>\n",
              "    <tr>\n",
              "      <th>index</th>\n",
              "      <th></th>\n",
              "      <th></th>\n",
              "    </tr>\n",
              "  </thead>\n",
              "  <tbody>\n",
              "    <tr>\n",
              "      <th>42083</th>\n",
              "      <td>57.085625</td>\n",
              "      <td>56.821075</td>\n",
              "    </tr>\n",
              "    <tr>\n",
              "      <th>71825</th>\n",
              "      <td>80.859783</td>\n",
              "      <td>80.942795</td>\n",
              "    </tr>\n",
              "    <tr>\n",
              "      <th>99535</th>\n",
              "      <td>53.906522</td>\n",
              "      <td>53.942303</td>\n",
              "    </tr>\n",
              "    <tr>\n",
              "      <th>47879</th>\n",
              "      <td>107.813044</td>\n",
              "      <td>108.088951</td>\n",
              "    </tr>\n",
              "    <tr>\n",
              "      <th>36734</th>\n",
              "      <td>53.906522</td>\n",
              "      <td>53.949478</td>\n",
              "    </tr>\n",
              "    <tr>\n",
              "      <th>...</th>\n",
              "      <td>...</td>\n",
              "      <td>...</td>\n",
              "    </tr>\n",
              "    <tr>\n",
              "      <th>56405</th>\n",
              "      <td>30.132364</td>\n",
              "      <td>29.191818</td>\n",
              "    </tr>\n",
              "    <tr>\n",
              "      <th>50954</th>\n",
              "      <td>110.992147</td>\n",
              "      <td>110.943970</td>\n",
              "    </tr>\n",
              "    <tr>\n",
              "      <th>99121</th>\n",
              "      <td>3.179103</td>\n",
              "      <td>3.166249</td>\n",
              "    </tr>\n",
              "    <tr>\n",
              "      <th>4170</th>\n",
              "      <td>53.906522</td>\n",
              "      <td>53.911121</td>\n",
              "    </tr>\n",
              "    <tr>\n",
              "      <th>18144</th>\n",
              "      <td>134.766305</td>\n",
              "      <td>134.769669</td>\n",
              "    </tr>\n",
              "  </tbody>\n",
              "</table>\n",
              "<p>25000 rows × 2 columns</p>\n",
              "</div>"
            ],
            "text/plain": [
              "          product     predict\n",
              "index                        \n",
              "42083   57.085625   56.821075\n",
              "71825   80.859783   80.942795\n",
              "99535   53.906522   53.942303\n",
              "47879  107.813044  108.088951\n",
              "36734   53.906522   53.949478\n",
              "...           ...         ...\n",
              "56405   30.132364   29.191818\n",
              "50954  110.992147  110.943970\n",
              "99121    3.179103    3.166249\n",
              "4170    53.906522   53.911121\n",
              "18144  134.766305  134.769669\n",
              "\n",
              "[25000 rows x 2 columns]"
            ]
          },
          "execution_count": 197,
          "metadata": {},
          "output_type": "execute_result"
        }
      ],
      "source": [
        "# set original index as the index\n",
        "delta_xgb_2 = delta_xgb_2.set_index('index')\n",
        "delta_xgb_2"
      ]
    },
    {
      "cell_type": "code",
      "execution_count": null,
      "metadata": {
        "scrolled": true,
        "id": "bdfY50da0-wM",
        "outputId": "bbbdf5c8-b632-406d-c62e-a29ea5c2550c"
      },
      "outputs": [
        {
          "data": {
            "text/html": [
              "<div>\n",
              "<style scoped>\n",
              "    .dataframe tbody tr th:only-of-type {\n",
              "        vertical-align: middle;\n",
              "    }\n",
              "\n",
              "    .dataframe tbody tr th {\n",
              "        vertical-align: top;\n",
              "    }\n",
              "\n",
              "    .dataframe thead th {\n",
              "        text-align: right;\n",
              "    }\n",
              "</style>\n",
              "<table border=\"1\" class=\"dataframe\">\n",
              "  <thead>\n",
              "    <tr style=\"text-align: right;\">\n",
              "      <th></th>\n",
              "      <th>product</th>\n",
              "      <th>predict</th>\n",
              "      <th>var</th>\n",
              "    </tr>\n",
              "    <tr>\n",
              "      <th>index</th>\n",
              "      <th></th>\n",
              "      <th></th>\n",
              "      <th></th>\n",
              "    </tr>\n",
              "  </thead>\n",
              "  <tbody>\n",
              "    <tr>\n",
              "      <th>42083</th>\n",
              "      <td>57.085625</td>\n",
              "      <td>56.821075</td>\n",
              "      <td>0.264549</td>\n",
              "    </tr>\n",
              "    <tr>\n",
              "      <th>71825</th>\n",
              "      <td>80.859783</td>\n",
              "      <td>80.942795</td>\n",
              "      <td>-0.083012</td>\n",
              "    </tr>\n",
              "    <tr>\n",
              "      <th>99535</th>\n",
              "      <td>53.906522</td>\n",
              "      <td>53.942303</td>\n",
              "      <td>-0.035781</td>\n",
              "    </tr>\n",
              "    <tr>\n",
              "      <th>47879</th>\n",
              "      <td>107.813044</td>\n",
              "      <td>108.088951</td>\n",
              "      <td>-0.275907</td>\n",
              "    </tr>\n",
              "    <tr>\n",
              "      <th>36734</th>\n",
              "      <td>53.906522</td>\n",
              "      <td>53.949478</td>\n",
              "      <td>-0.042956</td>\n",
              "    </tr>\n",
              "  </tbody>\n",
              "</table>\n",
              "</div>"
            ],
            "text/plain": [
              "          product     predict       var\n",
              "index                                  \n",
              "42083   57.085625   56.821075  0.264549\n",
              "71825   80.859783   80.942795 -0.083012\n",
              "99535   53.906522   53.942303 -0.035781\n",
              "47879  107.813044  108.088951 -0.275907\n",
              "36734   53.906522   53.949478 -0.042956"
            ]
          },
          "execution_count": 198,
          "metadata": {},
          "output_type": "execute_result"
        }
      ],
      "source": [
        "# add column for discrepancy predictions to actual\n",
        "delta_xgb_2['var'] = delta_xgb_2['product']-delta_xgb_2['predict']\n",
        "delta_xgb_2.head()"
      ]
    },
    {
      "cell_type": "code",
      "execution_count": null,
      "metadata": {
        "id": "LMu9Iz_r0-wM",
        "outputId": "909b7b91-4460-486c-abce-05adb7ccd26e"
      },
      "outputs": [
        {
          "data": {
            "text/html": [
              "<div>\n",
              "<style scoped>\n",
              "    .dataframe tbody tr th:only-of-type {\n",
              "        vertical-align: middle;\n",
              "    }\n",
              "\n",
              "    .dataframe tbody tr th {\n",
              "        vertical-align: top;\n",
              "    }\n",
              "\n",
              "    .dataframe thead th {\n",
              "        text-align: right;\n",
              "    }\n",
              "</style>\n",
              "<table border=\"1\" class=\"dataframe\">\n",
              "  <thead>\n",
              "    <tr style=\"text-align: right;\">\n",
              "      <th></th>\n",
              "      <th>product</th>\n",
              "      <th>predict</th>\n",
              "      <th>var</th>\n",
              "    </tr>\n",
              "  </thead>\n",
              "  <tbody>\n",
              "    <tr>\n",
              "      <th>count</th>\n",
              "      <td>25000.000000</td>\n",
              "      <td>25000.000000</td>\n",
              "      <td>25000.000000</td>\n",
              "    </tr>\n",
              "    <tr>\n",
              "      <th>mean</th>\n",
              "      <td>69.273712</td>\n",
              "      <td>69.275299</td>\n",
              "      <td>-0.001584</td>\n",
              "    </tr>\n",
              "    <tr>\n",
              "      <th>std</th>\n",
              "      <td>45.819818</td>\n",
              "      <td>45.817478</td>\n",
              "      <td>0.720799</td>\n",
              "    </tr>\n",
              "    <tr>\n",
              "      <th>min</th>\n",
              "      <td>0.000000</td>\n",
              "      <td>-0.405139</td>\n",
              "      <td>-3.253839</td>\n",
              "    </tr>\n",
              "    <tr>\n",
              "      <th>25%</th>\n",
              "      <td>30.132364</td>\n",
              "      <td>29.045277</td>\n",
              "      <td>-0.037144</td>\n",
              "    </tr>\n",
              "    <tr>\n",
              "      <th>50%</th>\n",
              "      <td>80.859783</td>\n",
              "      <td>80.849648</td>\n",
              "      <td>0.000046</td>\n",
              "    </tr>\n",
              "    <tr>\n",
              "      <th>75%</th>\n",
              "      <td>107.813044</td>\n",
              "      <td>109.246998</td>\n",
              "      <td>0.037229</td>\n",
              "    </tr>\n",
              "    <tr>\n",
              "      <th>max</th>\n",
              "      <td>137.945408</td>\n",
              "      <td>138.142944</td>\n",
              "      <td>3.243641</td>\n",
              "    </tr>\n",
              "  </tbody>\n",
              "</table>\n",
              "</div>"
            ],
            "text/plain": [
              "            product       predict           var\n",
              "count  25000.000000  25000.000000  25000.000000\n",
              "mean      69.273712     69.275299     -0.001584\n",
              "std       45.819818     45.817478      0.720799\n",
              "min        0.000000     -0.405139     -3.253839\n",
              "25%       30.132364     29.045277     -0.037144\n",
              "50%       80.859783     80.849648      0.000046\n",
              "75%      107.813044    109.246998      0.037229\n",
              "max      137.945408    138.142944      3.243641"
            ]
          },
          "execution_count": 199,
          "metadata": {},
          "output_type": "execute_result"
        }
      ],
      "source": [
        "# load statistical description\n",
        "delta_xgb_2.describe()"
      ]
    },
    {
      "cell_type": "markdown",
      "metadata": {
        "id": "RO_JEVgP0-wM"
      },
      "source": [
        "### Predictions vs targets for Location 3"
      ]
    },
    {
      "cell_type": "code",
      "execution_count": null,
      "metadata": {
        "id": "4zTl65Rf0-wM",
        "outputId": "1c8ea3af-06d5-4663-8448-3d01aedaf8ca"
      },
      "outputs": [
        {
          "data": {
            "text/html": [
              "<div>\n",
              "<style scoped>\n",
              "    .dataframe tbody tr th:only-of-type {\n",
              "        vertical-align: middle;\n",
              "    }\n",
              "\n",
              "    .dataframe tbody tr th {\n",
              "        vertical-align: top;\n",
              "    }\n",
              "\n",
              "    .dataframe thead th {\n",
              "        text-align: right;\n",
              "    }\n",
              "</style>\n",
              "<table border=\"1\" class=\"dataframe\">\n",
              "  <thead>\n",
              "    <tr style=\"text-align: right;\">\n",
              "      <th></th>\n",
              "      <th>index</th>\n",
              "      <th>product</th>\n",
              "    </tr>\n",
              "  </thead>\n",
              "  <tbody>\n",
              "    <tr>\n",
              "      <th>0</th>\n",
              "      <td>42083</td>\n",
              "      <td>147.451978</td>\n",
              "    </tr>\n",
              "    <tr>\n",
              "      <th>1</th>\n",
              "      <td>71825</td>\n",
              "      <td>128.711794</td>\n",
              "    </tr>\n",
              "    <tr>\n",
              "      <th>2</th>\n",
              "      <td>99535</td>\n",
              "      <td>106.628185</td>\n",
              "    </tr>\n",
              "    <tr>\n",
              "      <th>3</th>\n",
              "      <td>47879</td>\n",
              "      <td>128.787131</td>\n",
              "    </tr>\n",
              "    <tr>\n",
              "      <th>4</th>\n",
              "      <td>36734</td>\n",
              "      <td>159.328488</td>\n",
              "    </tr>\n",
              "  </tbody>\n",
              "</table>\n",
              "</div>"
            ],
            "text/plain": [
              "   index     product\n",
              "0  42083  147.451978\n",
              "1  71825  128.711794\n",
              "2  99535  106.628185\n",
              "3  47879  128.787131\n",
              "4  36734  159.328488"
            ]
          },
          "execution_count": 200,
          "metadata": {},
          "output_type": "execute_result"
        }
      ],
      "source": [
        "# save target valid Location 3\n",
        "target_valid_3 = pd.DataFrame(y_valid_3).reset_index()\n",
        "target_valid_3.head()"
      ]
    },
    {
      "cell_type": "code",
      "execution_count": null,
      "metadata": {
        "id": "Pd83qKSW0-wN",
        "outputId": "68825dbe-4673-4bb8-c0d3-042c1d96f0bc"
      },
      "outputs": [
        {
          "data": {
            "text/html": [
              "<div>\n",
              "<style scoped>\n",
              "    .dataframe tbody tr th:only-of-type {\n",
              "        vertical-align: middle;\n",
              "    }\n",
              "\n",
              "    .dataframe tbody tr th {\n",
              "        vertical-align: top;\n",
              "    }\n",
              "\n",
              "    .dataframe thead th {\n",
              "        text-align: right;\n",
              "    }\n",
              "</style>\n",
              "<table border=\"1\" class=\"dataframe\">\n",
              "  <thead>\n",
              "    <tr style=\"text-align: right;\">\n",
              "      <th></th>\n",
              "      <th>index</th>\n",
              "      <th>product</th>\n",
              "      <th>predict</th>\n",
              "    </tr>\n",
              "  </thead>\n",
              "  <tbody>\n",
              "    <tr>\n",
              "      <th>0</th>\n",
              "      <td>42083</td>\n",
              "      <td>147.451978</td>\n",
              "      <td>95.434799</td>\n",
              "    </tr>\n",
              "    <tr>\n",
              "      <th>1</th>\n",
              "      <td>71825</td>\n",
              "      <td>128.711794</td>\n",
              "      <td>95.024704</td>\n",
              "    </tr>\n",
              "    <tr>\n",
              "      <th>2</th>\n",
              "      <td>99535</td>\n",
              "      <td>106.628185</td>\n",
              "      <td>92.522774</td>\n",
              "    </tr>\n",
              "    <tr>\n",
              "      <th>3</th>\n",
              "      <td>47879</td>\n",
              "      <td>128.787131</td>\n",
              "      <td>91.917236</td>\n",
              "    </tr>\n",
              "    <tr>\n",
              "      <th>4</th>\n",
              "      <td>36734</td>\n",
              "      <td>159.328488</td>\n",
              "      <td>94.946274</td>\n",
              "    </tr>\n",
              "  </tbody>\n",
              "</table>\n",
              "</div>"
            ],
            "text/plain": [
              "   index     product    predict\n",
              "0  42083  147.451978  95.434799\n",
              "1  71825  128.711794  95.024704\n",
              "2  99535  106.628185  92.522774\n",
              "3  47879  128.787131  91.917236\n",
              "4  36734  159.328488  94.946274"
            ]
          },
          "execution_count": 201,
          "metadata": {},
          "output_type": "execute_result"
        }
      ],
      "source": [
        "# save dataframe target of dataset valid Location 3\n",
        "delta_xgb_3 = target_valid_3\n",
        "\n",
        "# add column for predictions\n",
        "delta_xgb_3['predict'] = pd.Series(predict_valid_3)\n",
        "delta_xgb_3.head()"
      ]
    },
    {
      "cell_type": "code",
      "execution_count": null,
      "metadata": {
        "id": "6gK4U_KZ0-wN",
        "outputId": "cc962838-0db5-4229-d6e8-9b6784d6ad29"
      },
      "outputs": [
        {
          "data": {
            "text/html": [
              "<div>\n",
              "<style scoped>\n",
              "    .dataframe tbody tr th:only-of-type {\n",
              "        vertical-align: middle;\n",
              "    }\n",
              "\n",
              "    .dataframe tbody tr th {\n",
              "        vertical-align: top;\n",
              "    }\n",
              "\n",
              "    .dataframe thead th {\n",
              "        text-align: right;\n",
              "    }\n",
              "</style>\n",
              "<table border=\"1\" class=\"dataframe\">\n",
              "  <thead>\n",
              "    <tr style=\"text-align: right;\">\n",
              "      <th></th>\n",
              "      <th>product</th>\n",
              "      <th>predict</th>\n",
              "    </tr>\n",
              "    <tr>\n",
              "      <th>index</th>\n",
              "      <th></th>\n",
              "      <th></th>\n",
              "    </tr>\n",
              "  </thead>\n",
              "  <tbody>\n",
              "    <tr>\n",
              "      <th>42083</th>\n",
              "      <td>147.451978</td>\n",
              "      <td>95.434799</td>\n",
              "    </tr>\n",
              "    <tr>\n",
              "      <th>71825</th>\n",
              "      <td>128.711794</td>\n",
              "      <td>95.024704</td>\n",
              "    </tr>\n",
              "    <tr>\n",
              "      <th>99535</th>\n",
              "      <td>106.628185</td>\n",
              "      <td>92.522774</td>\n",
              "    </tr>\n",
              "    <tr>\n",
              "      <th>47879</th>\n",
              "      <td>128.787131</td>\n",
              "      <td>91.917236</td>\n",
              "    </tr>\n",
              "    <tr>\n",
              "      <th>36734</th>\n",
              "      <td>159.328488</td>\n",
              "      <td>94.946274</td>\n",
              "    </tr>\n",
              "    <tr>\n",
              "      <th>...</th>\n",
              "      <td>...</td>\n",
              "      <td>...</td>\n",
              "    </tr>\n",
              "    <tr>\n",
              "      <th>56405</th>\n",
              "      <td>114.783531</td>\n",
              "      <td>95.529266</td>\n",
              "    </tr>\n",
              "    <tr>\n",
              "      <th>50954</th>\n",
              "      <td>48.814291</td>\n",
              "      <td>81.277550</td>\n",
              "    </tr>\n",
              "    <tr>\n",
              "      <th>99121</th>\n",
              "      <td>152.196856</td>\n",
              "      <td>106.501190</td>\n",
              "    </tr>\n",
              "    <tr>\n",
              "      <th>4170</th>\n",
              "      <td>137.501887</td>\n",
              "      <td>70.911522</td>\n",
              "    </tr>\n",
              "    <tr>\n",
              "      <th>18144</th>\n",
              "      <td>125.854138</td>\n",
              "      <td>84.268692</td>\n",
              "    </tr>\n",
              "  </tbody>\n",
              "</table>\n",
              "<p>25000 rows × 2 columns</p>\n",
              "</div>"
            ],
            "text/plain": [
              "          product     predict\n",
              "index                        \n",
              "42083  147.451978   95.434799\n",
              "71825  128.711794   95.024704\n",
              "99535  106.628185   92.522774\n",
              "47879  128.787131   91.917236\n",
              "36734  159.328488   94.946274\n",
              "...           ...         ...\n",
              "56405  114.783531   95.529266\n",
              "50954   48.814291   81.277550\n",
              "99121  152.196856  106.501190\n",
              "4170   137.501887   70.911522\n",
              "18144  125.854138   84.268692\n",
              "\n",
              "[25000 rows x 2 columns]"
            ]
          },
          "execution_count": 202,
          "metadata": {},
          "output_type": "execute_result"
        }
      ],
      "source": [
        "# set original index as the index\n",
        "delta_xgb_3 = delta_xgb_3.set_index('index')\n",
        "delta_xgb_3"
      ]
    },
    {
      "cell_type": "code",
      "execution_count": null,
      "metadata": {
        "id": "HGl3R8u-0-wO",
        "outputId": "d955709a-ac31-4c14-c796-c9ee9e38da24"
      },
      "outputs": [
        {
          "data": {
            "text/html": [
              "<div>\n",
              "<style scoped>\n",
              "    .dataframe tbody tr th:only-of-type {\n",
              "        vertical-align: middle;\n",
              "    }\n",
              "\n",
              "    .dataframe tbody tr th {\n",
              "        vertical-align: top;\n",
              "    }\n",
              "\n",
              "    .dataframe thead th {\n",
              "        text-align: right;\n",
              "    }\n",
              "</style>\n",
              "<table border=\"1\" class=\"dataframe\">\n",
              "  <thead>\n",
              "    <tr style=\"text-align: right;\">\n",
              "      <th></th>\n",
              "      <th>product</th>\n",
              "      <th>predict</th>\n",
              "      <th>var</th>\n",
              "    </tr>\n",
              "    <tr>\n",
              "      <th>index</th>\n",
              "      <th></th>\n",
              "      <th></th>\n",
              "      <th></th>\n",
              "    </tr>\n",
              "  </thead>\n",
              "  <tbody>\n",
              "    <tr>\n",
              "      <th>42083</th>\n",
              "      <td>147.451978</td>\n",
              "      <td>95.434799</td>\n",
              "      <td>52.017179</td>\n",
              "    </tr>\n",
              "    <tr>\n",
              "      <th>71825</th>\n",
              "      <td>128.711794</td>\n",
              "      <td>95.024704</td>\n",
              "      <td>33.687090</td>\n",
              "    </tr>\n",
              "    <tr>\n",
              "      <th>99535</th>\n",
              "      <td>106.628185</td>\n",
              "      <td>92.522774</td>\n",
              "      <td>14.105411</td>\n",
              "    </tr>\n",
              "    <tr>\n",
              "      <th>47879</th>\n",
              "      <td>128.787131</td>\n",
              "      <td>91.917236</td>\n",
              "      <td>36.869895</td>\n",
              "    </tr>\n",
              "    <tr>\n",
              "      <th>36734</th>\n",
              "      <td>159.328488</td>\n",
              "      <td>94.946274</td>\n",
              "      <td>64.382214</td>\n",
              "    </tr>\n",
              "  </tbody>\n",
              "</table>\n",
              "</div>"
            ],
            "text/plain": [
              "          product    predict        var\n",
              "index                                  \n",
              "42083  147.451978  95.434799  52.017179\n",
              "71825  128.711794  95.024704  33.687090\n",
              "99535  106.628185  92.522774  14.105411\n",
              "47879  128.787131  91.917236  36.869895\n",
              "36734  159.328488  94.946274  64.382214"
            ]
          },
          "execution_count": 203,
          "metadata": {},
          "output_type": "execute_result"
        }
      ],
      "source": [
        "# add column for discrepancy predictions to actual\n",
        "delta_xgb_3['var'] = delta_xgb_3['product']-delta_xgb_3['predict']\n",
        "delta_xgb_3.head()"
      ]
    },
    {
      "cell_type": "code",
      "execution_count": null,
      "metadata": {
        "id": "0d0RLUas0-wO",
        "outputId": "87c14578-a681-415b-c0cb-65e2ba436502"
      },
      "outputs": [
        {
          "data": {
            "text/html": [
              "<div>\n",
              "<style scoped>\n",
              "    .dataframe tbody tr th:only-of-type {\n",
              "        vertical-align: middle;\n",
              "    }\n",
              "\n",
              "    .dataframe tbody tr th {\n",
              "        vertical-align: top;\n",
              "    }\n",
              "\n",
              "    .dataframe thead th {\n",
              "        text-align: right;\n",
              "    }\n",
              "</style>\n",
              "<table border=\"1\" class=\"dataframe\">\n",
              "  <thead>\n",
              "    <tr style=\"text-align: right;\">\n",
              "      <th></th>\n",
              "      <th>product</th>\n",
              "      <th>predict</th>\n",
              "      <th>var</th>\n",
              "    </tr>\n",
              "  </thead>\n",
              "  <tbody>\n",
              "    <tr>\n",
              "      <th>count</th>\n",
              "      <td>25000.000000</td>\n",
              "      <td>25000.000000</td>\n",
              "      <td>25000.000000</td>\n",
              "    </tr>\n",
              "    <tr>\n",
              "      <th>mean</th>\n",
              "      <td>94.873488</td>\n",
              "      <td>95.062408</td>\n",
              "      <td>-0.188928</td>\n",
              "    </tr>\n",
              "    <tr>\n",
              "      <th>std</th>\n",
              "      <td>44.674172</td>\n",
              "      <td>7.254315</td>\n",
              "      <td>45.304651</td>\n",
              "    </tr>\n",
              "    <tr>\n",
              "      <th>min</th>\n",
              "      <td>0.009204</td>\n",
              "      <td>30.165722</td>\n",
              "      <td>-128.692180</td>\n",
              "    </tr>\n",
              "    <tr>\n",
              "      <th>25%</th>\n",
              "      <td>59.427249</td>\n",
              "      <td>92.857744</td>\n",
              "      <td>-35.474833</td>\n",
              "    </tr>\n",
              "    <tr>\n",
              "      <th>50%</th>\n",
              "      <td>94.682593</td>\n",
              "      <td>95.028088</td>\n",
              "      <td>-0.180541</td>\n",
              "    </tr>\n",
              "    <tr>\n",
              "      <th>75%</th>\n",
              "      <td>130.407800</td>\n",
              "      <td>97.226650</td>\n",
              "      <td>35.523637</td>\n",
              "    </tr>\n",
              "    <tr>\n",
              "      <th>max</th>\n",
              "      <td>190.010982</td>\n",
              "      <td>160.532028</td>\n",
              "      <td>124.521087</td>\n",
              "    </tr>\n",
              "  </tbody>\n",
              "</table>\n",
              "</div>"
            ],
            "text/plain": [
              "            product       predict           var\n",
              "count  25000.000000  25000.000000  25000.000000\n",
              "mean      94.873488     95.062408     -0.188928\n",
              "std       44.674172      7.254315     45.304651\n",
              "min        0.009204     30.165722   -128.692180\n",
              "25%       59.427249     92.857744    -35.474833\n",
              "50%       94.682593     95.028088     -0.180541\n",
              "75%      130.407800     97.226650     35.523637\n",
              "max      190.010982    160.532028    124.521087"
            ]
          },
          "execution_count": 204,
          "metadata": {},
          "output_type": "execute_result"
        }
      ],
      "source": [
        "# load statistical description\n",
        "delta_xgb_3.describe()"
      ]
    },
    {
      "cell_type": "markdown",
      "metadata": {
        "id": "54OPbFgx0-wP"
      },
      "source": [
        "### Interim Conclusions\n",
        "\n",
        "Mean and RMSE of predicted volume of oil reserves are:\n",
        "\n",
        "- Location 1: 93 and 38, respectively\n",
        "\n",
        "- Location 2: 81 and 0.7, respectively\n",
        "\n",
        "- Location 3: 95 and 45, respectively\n",
        "\n",
        "Although the targets and predictions of dataset of Location 1 and Location 3 have similar means and medians, their standard deviations differ significantly. And the fact that the minimum value in their discrepancies is significantly negative, it shows that the model which are trained with features f0, f1, and f2 is not a well performing model for each of those two datasets.\n",
        "\n",
        "In addition to that, R2 score for model of Location 1 is as low as 0.3. And it is even negative for model of Location 3.\n",
        "That means the model does not predict better than the mean of the target values.\n",
        "\n",
        "On the contrary, targets and predictions of dataset of Location 2 have similar means and medians, standard deviations, even quartiles. And R2 score is as high as 0.9. It shows that the model which are trained with features f0, f1, and f2 performs well for Location 2.\n"
      ]
    },
    {
      "cell_type": "markdown",
      "metadata": {
        "id": "v_ApTZyl0-wP"
      },
      "source": [
        "## Linear Regression\n",
        "\n",
        "Previously, XGBoost algorithm is used to build models. The performance is satisfactory for Location 2, but such is not the case for Location 1 and Location 3. In the next steps, another models will be tried, using the Linear Regression algorithm."
      ]
    },
    {
      "cell_type": "markdown",
      "metadata": {
        "id": "NJ_lVUcV0-wP"
      },
      "source": [
        "### Build models with Linear Regression Algorithm"
      ]
    },
    {
      "cell_type": "code",
      "execution_count": null,
      "metadata": {
        "id": "Hzz39ObG0-wQ"
      },
      "outputs": [],
      "source": [
        "# load model\n",
        "LR = LinearRegression()"
      ]
    },
    {
      "cell_type": "code",
      "execution_count": null,
      "metadata": {
        "id": "Hadg4CTq0-wQ",
        "outputId": "de44626d-9ac8-4f9a-cdaa-661ddc69e261"
      },
      "outputs": [
        {
          "data": {
            "text/plain": [
              "0.2812975228159569"
            ]
          },
          "execution_count": 206,
          "metadata": {},
          "output_type": "execute_result"
        }
      ],
      "source": [
        "# train model and predict for Location 1\n",
        "LR1 = LR.fit(x_train_1, y_train_1)\n",
        "predict_lr_1 = LR1.predict(x_valid_1)\n",
        "r2_score(y_valid_1, predict_lr_1)"
      ]
    },
    {
      "cell_type": "code",
      "execution_count": null,
      "metadata": {
        "id": "ebMOFguS0-wQ",
        "outputId": "ce97862c-3caa-4352-d142-a019bb7ae648"
      },
      "outputs": [
        {
          "data": {
            "text/plain": [
              "0.9996180923165817"
            ]
          },
          "execution_count": 207,
          "metadata": {},
          "output_type": "execute_result"
        }
      ],
      "source": [
        "# train model and predict for Location 2\n",
        "LR2 = LR.fit(x_train_2, y_train_2)\n",
        "predict_lr_2 = LR2.predict(x_valid_2)\n",
        "r2_score(y_valid_2, predict_lr_2)"
      ]
    },
    {
      "cell_type": "code",
      "execution_count": null,
      "metadata": {
        "id": "mdxX-OlS0-wR",
        "outputId": "850a7db1-9b70-4ab2-87e4-f82c6e01f875"
      },
      "outputs": [
        {
          "data": {
            "text/plain": [
              "-9.194377655430408e-05"
            ]
          },
          "execution_count": 208,
          "metadata": {},
          "output_type": "execute_result"
        }
      ],
      "source": [
        "# train model and predict for Location 3\n",
        "LR3 = LR.fit(x_train_3, y_train_3)\n",
        "predict_lr_3 = LR2.predict(x_valid_3)\n",
        "r2_score(y_valid_3, predict_lr_3)"
      ]
    },
    {
      "cell_type": "markdown",
      "metadata": {
        "id": "WhhbyFJF0-wR"
      },
      "source": [
        "### Plotting the coefficients"
      ]
    },
    {
      "cell_type": "code",
      "execution_count": null,
      "metadata": {
        "scrolled": true,
        "id": "QgyUHAeN0-wS",
        "outputId": "a1d85310-602d-47f0-aeb0-31fac82c3fb2"
      },
      "outputs": [
        {
          "data": {
            "image/png": "[encoded data removed]",
            "text/plain": [
              "<Figure size 468x324 with 1 Axes>"
            ]
          },
          "metadata": {
            "needs_background": "light"
          },
          "output_type": "display_data"
        },
        {
          "data": {
            "text/plain": [
              "<Figure size 360x360 with 0 Axes>"
            ]
          },
          "metadata": {},
          "output_type": "display_data"
        }
      ],
      "source": [
        "# check each feature's coefficient on LinearRegression model dataset 1\n",
        "y = LR1.coef_\n",
        "fig, ax = plt.subplots() \n",
        "width = 0.4\n",
        "ind = np.arange(len(y))\n",
        "ax.barh(ind, y, width, color='green')\n",
        "ax.set_yticks(ind+width/10)\n",
        "ax.set_yticklabels(x_train_1.columns, minor=False)\n",
        "plt.title('Coefficient in LinearRegression')\n",
        "plt.xlabel('Coef')\n",
        "plt.ylabel('Feature') \n",
        "plt.figure(figsize=(5,5))\n",
        "fig.set_size_inches(6.5, 4.5, forward=True)"
      ]
    },
    {
      "cell_type": "code",
      "execution_count": null,
      "metadata": {
        "scrolled": true,
        "id": "xYSpIIcA0-wS",
        "outputId": "9d6db1f4-b526-4319-8bc7-e3bde7482ad9"
      },
      "outputs": [
        {
          "data": {
            "image/png": "[encoded data removed]",
            "text/plain": [
              "<Figure size 468x324 with 1 Axes>"
            ]
          },
          "metadata": {
            "needs_background": "light"
          },
          "output_type": "display_data"
        },
        {
          "data": {
            "text/plain": [
              "<Figure size 360x360 with 0 Axes>"
            ]
          },
          "metadata": {},
          "output_type": "display_data"
        }
      ],
      "source": [
        "# check each feature's coefficient on LinearRegression model dataset 2\n",
        "y = LR2.coef_\n",
        "fig, ax = plt.subplots() \n",
        "width = 0.4\n",
        "ind = np.arange(len(y))\n",
        "ax.barh(ind, y, width, color='green')\n",
        "ax.set_yticks(ind+width/10)\n",
        "ax.set_yticklabels(x_train_2.columns, minor=False)\n",
        "plt.title('Coefficient in LinearRegression')\n",
        "plt.xlabel('Coef')\n",
        "plt.ylabel('Feature') \n",
        "plt.figure(figsize=(5,5))\n",
        "fig.set_size_inches(6.5, 4.5, forward=True)"
      ]
    },
    {
      "cell_type": "code",
      "execution_count": null,
      "metadata": {
        "id": "3JaViApT0-wS",
        "outputId": "7632d9e7-0a57-451c-cdc0-dc24aeccb6fc"
      },
      "outputs": [
        {
          "data": {
            "image/png": "[encoded data removed]",
            "text/plain": [
              "<Figure size 468x324 with 1 Axes>"
            ]
          },
          "metadata": {
            "needs_background": "light"
          },
          "output_type": "display_data"
        },
        {
          "data": {
            "text/plain": [
              "<Figure size 360x360 with 0 Axes>"
            ]
          },
          "metadata": {},
          "output_type": "display_data"
        }
      ],
      "source": [
        "# check each feature's coefficient on LinearRegression model dataset 2\n",
        "y = LR3.coef_\n",
        "fig, ax = plt.subplots() \n",
        "width = 0.4\n",
        "ind = np.arange(len(y))\n",
        "ax.barh(ind, y, width, color='green')\n",
        "ax.set_yticks(ind+width/10)\n",
        "ax.set_yticklabels(x_train_3.columns, minor=False)\n",
        "plt.title('Coefficient in LinearRegression')\n",
        "plt.xlabel('Coef')\n",
        "plt.ylabel('Feature') \n",
        "plt.figure(figsize=(5,5))\n",
        "fig.set_size_inches(6.5, 4.5, forward=True)"
      ]
    },
    {
      "cell_type": "markdown",
      "metadata": {
        "id": "jBVaRX6f0-wT"
      },
      "source": [
        "### Evaluation by RMSE"
      ]
    },
    {
      "cell_type": "code",
      "execution_count": null,
      "metadata": {
        "id": "CgUeO_io0-wT",
        "outputId": "ab53dc55-f254-43ea-d378-f52f362df720"
      },
      "outputs": [
        {
          "data": {
            "text/plain": [
              "37.64786282376176"
            ]
          },
          "execution_count": 212,
          "metadata": {},
          "output_type": "execute_result"
        }
      ],
      "source": [
        "# rmse of Location 1\n",
        "mse_lr_1 = mean_squared_error(y_valid_1, predict_lr_1)\n",
        "rmse_lr_1 = mse_lr_1**0.5\n",
        "rmse_lr_1"
      ]
    },
    {
      "cell_type": "code",
      "execution_count": null,
      "metadata": {
        "id": "NKjcax-K0-wT",
        "outputId": "d47983bb-6d4f-42f9-c2cf-efa1ef09b7d9"
      },
      "outputs": [
        {
          "data": {
            "text/plain": [
              "0.8954139804944313"
            ]
          },
          "execution_count": 213,
          "metadata": {},
          "output_type": "execute_result"
        }
      ],
      "source": [
        "# rmse of Location 2\n",
        "mse_lr_2 = mean_squared_error(y_valid_2, predict_lr_2)\n",
        "rmse_lr_2 = mse_lr_2**0.5\n",
        "rmse_lr_2"
      ]
    },
    {
      "cell_type": "code",
      "execution_count": null,
      "metadata": {
        "id": "y6fDJaBh0-wU",
        "outputId": "68f413ec-42c9-4f20-bf0d-9d3a3ea8e983"
      },
      "outputs": [
        {
          "data": {
            "text/plain": [
              "44.675332248377046"
            ]
          },
          "execution_count": 214,
          "metadata": {},
          "output_type": "execute_result"
        }
      ],
      "source": [
        "# rmse of Location 3\n",
        "mse_lr_3 = mean_squared_error(y_valid_3, predict_lr_3)\n",
        "rmse_lr_3 = mse_lr_3**0.5\n",
        "rmse_lr_3"
      ]
    },
    {
      "cell_type": "markdown",
      "metadata": {
        "id": "nfZ73sn80-wU"
      },
      "source": [
        "### Predictions vs targets for Location 1"
      ]
    },
    {
      "cell_type": "code",
      "execution_count": null,
      "metadata": {
        "id": "98fd8_Ba0-wU",
        "outputId": "3520acec-aab0-4c22-c26d-9617f9d00681"
      },
      "outputs": [
        {
          "data": {
            "text/html": [
              "<div>\n",
              "<style scoped>\n",
              "    .dataframe tbody tr th:only-of-type {\n",
              "        vertical-align: middle;\n",
              "    }\n",
              "\n",
              "    .dataframe tbody tr th {\n",
              "        vertical-align: top;\n",
              "    }\n",
              "\n",
              "    .dataframe thead th {\n",
              "        text-align: right;\n",
              "    }\n",
              "</style>\n",
              "<table border=\"1\" class=\"dataframe\">\n",
              "  <thead>\n",
              "    <tr style=\"text-align: right;\">\n",
              "      <th></th>\n",
              "      <th>index</th>\n",
              "      <th>product</th>\n",
              "      <th>predict</th>\n",
              "    </tr>\n",
              "  </thead>\n",
              "  <tbody>\n",
              "    <tr>\n",
              "      <th>0</th>\n",
              "      <td>42083</td>\n",
              "      <td>145.825972</td>\n",
              "      <td>123.284256</td>\n",
              "    </tr>\n",
              "    <tr>\n",
              "      <th>1</th>\n",
              "      <td>71825</td>\n",
              "      <td>134.020212</td>\n",
              "      <td>75.838240</td>\n",
              "    </tr>\n",
              "    <tr>\n",
              "      <th>2</th>\n",
              "      <td>99535</td>\n",
              "      <td>88.905826</td>\n",
              "      <td>55.526760</td>\n",
              "    </tr>\n",
              "    <tr>\n",
              "      <th>3</th>\n",
              "      <td>47879</td>\n",
              "      <td>19.508226</td>\n",
              "      <td>86.673045</td>\n",
              "    </tr>\n",
              "    <tr>\n",
              "      <th>4</th>\n",
              "      <td>36734</td>\n",
              "      <td>108.713468</td>\n",
              "      <td>109.909327</td>\n",
              "    </tr>\n",
              "  </tbody>\n",
              "</table>\n",
              "</div>"
            ],
            "text/plain": [
              "   index     product     predict\n",
              "0  42083  145.825972  123.284256\n",
              "1  71825  134.020212   75.838240\n",
              "2  99535   88.905826   55.526760\n",
              "3  47879   19.508226   86.673045\n",
              "4  36734  108.713468  109.909327"
            ]
          },
          "execution_count": 215,
          "metadata": {},
          "output_type": "execute_result"
        }
      ],
      "source": [
        "# save dataframe target of dataset valid Location 1\n",
        "delta_lr_1 = target_valid_1\n",
        "\n",
        "# add column for predictions\n",
        "delta_lr_1['predict'] = pd.Series(predict_lr_1)\n",
        "delta_lr_1.head()"
      ]
    },
    {
      "cell_type": "code",
      "execution_count": null,
      "metadata": {
        "id": "Jaxel2I40-wV",
        "outputId": "567e6a1e-37cd-4c4b-a3ad-1a37e602bafc"
      },
      "outputs": [
        {
          "data": {
            "text/html": [
              "<div>\n",
              "<style scoped>\n",
              "    .dataframe tbody tr th:only-of-type {\n",
              "        vertical-align: middle;\n",
              "    }\n",
              "\n",
              "    .dataframe tbody tr th {\n",
              "        vertical-align: top;\n",
              "    }\n",
              "\n",
              "    .dataframe thead th {\n",
              "        text-align: right;\n",
              "    }\n",
              "</style>\n",
              "<table border=\"1\" class=\"dataframe\">\n",
              "  <thead>\n",
              "    <tr style=\"text-align: right;\">\n",
              "      <th></th>\n",
              "      <th>product</th>\n",
              "      <th>predict</th>\n",
              "    </tr>\n",
              "    <tr>\n",
              "      <th>index</th>\n",
              "      <th></th>\n",
              "      <th></th>\n",
              "    </tr>\n",
              "  </thead>\n",
              "  <tbody>\n",
              "    <tr>\n",
              "      <th>42083</th>\n",
              "      <td>145.825972</td>\n",
              "      <td>123.284256</td>\n",
              "    </tr>\n",
              "    <tr>\n",
              "      <th>71825</th>\n",
              "      <td>134.020212</td>\n",
              "      <td>75.838240</td>\n",
              "    </tr>\n",
              "    <tr>\n",
              "      <th>99535</th>\n",
              "      <td>88.905826</td>\n",
              "      <td>55.526760</td>\n",
              "    </tr>\n",
              "    <tr>\n",
              "      <th>47879</th>\n",
              "      <td>19.508226</td>\n",
              "      <td>86.673045</td>\n",
              "    </tr>\n",
              "    <tr>\n",
              "      <th>36734</th>\n",
              "      <td>108.713468</td>\n",
              "      <td>109.909327</td>\n",
              "    </tr>\n",
              "    <tr>\n",
              "      <th>...</th>\n",
              "      <td>...</td>\n",
              "      <td>...</td>\n",
              "    </tr>\n",
              "    <tr>\n",
              "      <th>56405</th>\n",
              "      <td>80.100250</td>\n",
              "      <td>89.708779</td>\n",
              "    </tr>\n",
              "    <tr>\n",
              "      <th>50954</th>\n",
              "      <td>47.345664</td>\n",
              "      <td>55.672078</td>\n",
              "    </tr>\n",
              "    <tr>\n",
              "      <th>99121</th>\n",
              "      <td>176.382705</td>\n",
              "      <td>139.042911</td>\n",
              "    </tr>\n",
              "    <tr>\n",
              "      <th>4170</th>\n",
              "      <td>140.334745</td>\n",
              "      <td>96.867927</td>\n",
              "    </tr>\n",
              "    <tr>\n",
              "      <th>18144</th>\n",
              "      <td>117.324049</td>\n",
              "      <td>54.714331</td>\n",
              "    </tr>\n",
              "  </tbody>\n",
              "</table>\n",
              "<p>25000 rows × 2 columns</p>\n",
              "</div>"
            ],
            "text/plain": [
              "          product     predict\n",
              "index                        \n",
              "42083  145.825972  123.284256\n",
              "71825  134.020212   75.838240\n",
              "99535   88.905826   55.526760\n",
              "47879   19.508226   86.673045\n",
              "36734  108.713468  109.909327\n",
              "...           ...         ...\n",
              "56405   80.100250   89.708779\n",
              "50954   47.345664   55.672078\n",
              "99121  176.382705  139.042911\n",
              "4170   140.334745   96.867927\n",
              "18144  117.324049   54.714331\n",
              "\n",
              "[25000 rows x 2 columns]"
            ]
          },
          "execution_count": 216,
          "metadata": {},
          "output_type": "execute_result"
        }
      ],
      "source": [
        "# set original index as the index\n",
        "delta_lr_1 = delta_lr_1.set_index('index')\n",
        "delta_lr_1"
      ]
    },
    {
      "cell_type": "code",
      "execution_count": null,
      "metadata": {
        "id": "l5ReLCkQ0-wV",
        "outputId": "7608079c-8b76-457c-b866-6e6868e5d570"
      },
      "outputs": [
        {
          "data": {
            "text/html": [
              "<div>\n",
              "<style scoped>\n",
              "    .dataframe tbody tr th:only-of-type {\n",
              "        vertical-align: middle;\n",
              "    }\n",
              "\n",
              "    .dataframe tbody tr th {\n",
              "        vertical-align: top;\n",
              "    }\n",
              "\n",
              "    .dataframe thead th {\n",
              "        text-align: right;\n",
              "    }\n",
              "</style>\n",
              "<table border=\"1\" class=\"dataframe\">\n",
              "  <thead>\n",
              "    <tr style=\"text-align: right;\">\n",
              "      <th></th>\n",
              "      <th>product</th>\n",
              "      <th>predict</th>\n",
              "      <th>var</th>\n",
              "    </tr>\n",
              "    <tr>\n",
              "      <th>index</th>\n",
              "      <th></th>\n",
              "      <th></th>\n",
              "      <th></th>\n",
              "    </tr>\n",
              "  </thead>\n",
              "  <tbody>\n",
              "    <tr>\n",
              "      <th>42083</th>\n",
              "      <td>145.825972</td>\n",
              "      <td>123.284256</td>\n",
              "      <td>22.541716</td>\n",
              "    </tr>\n",
              "    <tr>\n",
              "      <th>71825</th>\n",
              "      <td>134.020212</td>\n",
              "      <td>75.838240</td>\n",
              "      <td>58.181971</td>\n",
              "    </tr>\n",
              "    <tr>\n",
              "      <th>99535</th>\n",
              "      <td>88.905826</td>\n",
              "      <td>55.526760</td>\n",
              "      <td>33.379067</td>\n",
              "    </tr>\n",
              "    <tr>\n",
              "      <th>47879</th>\n",
              "      <td>19.508226</td>\n",
              "      <td>86.673045</td>\n",
              "      <td>-67.164819</td>\n",
              "    </tr>\n",
              "    <tr>\n",
              "      <th>36734</th>\n",
              "      <td>108.713468</td>\n",
              "      <td>109.909327</td>\n",
              "      <td>-1.195859</td>\n",
              "    </tr>\n",
              "  </tbody>\n",
              "</table>\n",
              "</div>"
            ],
            "text/plain": [
              "          product     predict        var\n",
              "index                                   \n",
              "42083  145.825972  123.284256  22.541716\n",
              "71825  134.020212   75.838240  58.181971\n",
              "99535   88.905826   55.526760  33.379067\n",
              "47879   19.508226   86.673045 -67.164819\n",
              "36734  108.713468  109.909327  -1.195859"
            ]
          },
          "execution_count": 217,
          "metadata": {},
          "output_type": "execute_result"
        }
      ],
      "source": [
        "# add column for discrepancy predictions to actual\n",
        "delta_lr_1['var'] = delta_lr_1['product']-delta_lr_1['predict']\n",
        "delta_lr_1.head()"
      ]
    },
    {
      "cell_type": "code",
      "execution_count": null,
      "metadata": {
        "id": "0QpLGCWK0-wV",
        "outputId": "7fea29d8-4248-400c-9952-e9d5e1f99934"
      },
      "outputs": [
        {
          "data": {
            "text/html": [
              "<div>\n",
              "<style scoped>\n",
              "    .dataframe tbody tr th:only-of-type {\n",
              "        vertical-align: middle;\n",
              "    }\n",
              "\n",
              "    .dataframe tbody tr th {\n",
              "        vertical-align: top;\n",
              "    }\n",
              "\n",
              "    .dataframe thead th {\n",
              "        text-align: right;\n",
              "    }\n",
              "</style>\n",
              "<table border=\"1\" class=\"dataframe\">\n",
              "  <thead>\n",
              "    <tr style=\"text-align: right;\">\n",
              "      <th></th>\n",
              "      <th>product</th>\n",
              "      <th>predict</th>\n",
              "      <th>var</th>\n",
              "    </tr>\n",
              "  </thead>\n",
              "  <tbody>\n",
              "    <tr>\n",
              "      <th>count</th>\n",
              "      <td>25000.000000</td>\n",
              "      <td>25000.000000</td>\n",
              "      <td>25000.000000</td>\n",
              "    </tr>\n",
              "    <tr>\n",
              "      <th>mean</th>\n",
              "      <td>92.850624</td>\n",
              "      <td>92.549362</td>\n",
              "      <td>0.301262</td>\n",
              "    </tr>\n",
              "    <tr>\n",
              "      <th>std</th>\n",
              "      <td>44.409353</td>\n",
              "      <td>23.417413</td>\n",
              "      <td>37.647410</td>\n",
              "    </tr>\n",
              "    <tr>\n",
              "      <th>min</th>\n",
              "      <td>0.000000</td>\n",
              "      <td>-9.834307</td>\n",
              "      <td>-119.250502</td>\n",
              "    </tr>\n",
              "    <tr>\n",
              "      <th>25%</th>\n",
              "      <td>56.798166</td>\n",
              "      <td>76.555717</td>\n",
              "      <td>-27.302916</td>\n",
              "    </tr>\n",
              "    <tr>\n",
              "      <th>50%</th>\n",
              "      <td>92.372796</td>\n",
              "      <td>92.687630</td>\n",
              "      <td>-0.112553</td>\n",
              "    </tr>\n",
              "    <tr>\n",
              "      <th>75%</th>\n",
              "      <td>129.011163</td>\n",
              "      <td>108.463616</td>\n",
              "      <td>28.049328</td>\n",
              "    </tr>\n",
              "    <tr>\n",
              "      <th>max</th>\n",
              "      <td>185.355615</td>\n",
              "      <td>180.192010</td>\n",
              "      <td>126.967065</td>\n",
              "    </tr>\n",
              "  </tbody>\n",
              "</table>\n",
              "</div>"
            ],
            "text/plain": [
              "            product       predict           var\n",
              "count  25000.000000  25000.000000  25000.000000\n",
              "mean      92.850624     92.549362      0.301262\n",
              "std       44.409353     23.417413     37.647410\n",
              "min        0.000000     -9.834307   -119.250502\n",
              "25%       56.798166     76.555717    -27.302916\n",
              "50%       92.372796     92.687630     -0.112553\n",
              "75%      129.011163    108.463616     28.049328\n",
              "max      185.355615    180.192010    126.967065"
            ]
          },
          "execution_count": 218,
          "metadata": {},
          "output_type": "execute_result"
        }
      ],
      "source": [
        "# load statistical description\n",
        "delta_lr_1.describe()"
      ]
    },
    {
      "cell_type": "markdown",
      "metadata": {
        "id": "DepdP7PI0-wW"
      },
      "source": [
        "### Predictions vs targets for Location 2"
      ]
    },
    {
      "cell_type": "code",
      "execution_count": null,
      "metadata": {
        "id": "wlUquKAt0-wW",
        "outputId": "d219281f-e652-457d-edc7-53145476da10"
      },
      "outputs": [
        {
          "data": {
            "text/html": [
              "<div>\n",
              "<style scoped>\n",
              "    .dataframe tbody tr th:only-of-type {\n",
              "        vertical-align: middle;\n",
              "    }\n",
              "\n",
              "    .dataframe tbody tr th {\n",
              "        vertical-align: top;\n",
              "    }\n",
              "\n",
              "    .dataframe thead th {\n",
              "        text-align: right;\n",
              "    }\n",
              "</style>\n",
              "<table border=\"1\" class=\"dataframe\">\n",
              "  <thead>\n",
              "    <tr style=\"text-align: right;\">\n",
              "      <th></th>\n",
              "      <th>index</th>\n",
              "      <th>product</th>\n",
              "      <th>predict</th>\n",
              "    </tr>\n",
              "  </thead>\n",
              "  <tbody>\n",
              "    <tr>\n",
              "      <th>0</th>\n",
              "      <td>42083</td>\n",
              "      <td>57.085625</td>\n",
              "      <td>56.056314</td>\n",
              "    </tr>\n",
              "    <tr>\n",
              "      <th>1</th>\n",
              "      <td>71825</td>\n",
              "      <td>80.859783</td>\n",
              "      <td>81.589811</td>\n",
              "    </tr>\n",
              "    <tr>\n",
              "      <th>2</th>\n",
              "      <td>99535</td>\n",
              "      <td>53.906522</td>\n",
              "      <td>54.461926</td>\n",
              "    </tr>\n",
              "    <tr>\n",
              "      <th>3</th>\n",
              "      <td>47879</td>\n",
              "      <td>107.813044</td>\n",
              "      <td>108.660979</td>\n",
              "    </tr>\n",
              "    <tr>\n",
              "      <th>4</th>\n",
              "      <td>36734</td>\n",
              "      <td>53.906522</td>\n",
              "      <td>54.479416</td>\n",
              "    </tr>\n",
              "  </tbody>\n",
              "</table>\n",
              "</div>"
            ],
            "text/plain": [
              "   index     product     predict\n",
              "0  42083   57.085625   56.056314\n",
              "1  71825   80.859783   81.589811\n",
              "2  99535   53.906522   54.461926\n",
              "3  47879  107.813044  108.660979\n",
              "4  36734   53.906522   54.479416"
            ]
          },
          "execution_count": 219,
          "metadata": {},
          "output_type": "execute_result"
        }
      ],
      "source": [
        "# save dataframe target of dataset valid Location 2\n",
        "delta_lr_2 = target_valid_2\n",
        "\n",
        "# add column for predictions\n",
        "delta_lr_2['predict'] = pd.Series(predict_lr_2)\n",
        "delta_lr_2.head()"
      ]
    },
    {
      "cell_type": "code",
      "execution_count": null,
      "metadata": {
        "id": "r5o6NpVk0-wX",
        "outputId": "e625c8ba-2613-4a52-f5bf-6c864ea5c6f5"
      },
      "outputs": [
        {
          "data": {
            "text/html": [
              "<div>\n",
              "<style scoped>\n",
              "    .dataframe tbody tr th:only-of-type {\n",
              "        vertical-align: middle;\n",
              "    }\n",
              "\n",
              "    .dataframe tbody tr th {\n",
              "        vertical-align: top;\n",
              "    }\n",
              "\n",
              "    .dataframe thead th {\n",
              "        text-align: right;\n",
              "    }\n",
              "</style>\n",
              "<table border=\"1\" class=\"dataframe\">\n",
              "  <thead>\n",
              "    <tr style=\"text-align: right;\">\n",
              "      <th></th>\n",
              "      <th>product</th>\n",
              "      <th>predict</th>\n",
              "    </tr>\n",
              "    <tr>\n",
              "      <th>index</th>\n",
              "      <th></th>\n",
              "      <th></th>\n",
              "    </tr>\n",
              "  </thead>\n",
              "  <tbody>\n",
              "    <tr>\n",
              "      <th>42083</th>\n",
              "      <td>57.085625</td>\n",
              "      <td>56.056314</td>\n",
              "    </tr>\n",
              "    <tr>\n",
              "      <th>71825</th>\n",
              "      <td>80.859783</td>\n",
              "      <td>81.589811</td>\n",
              "    </tr>\n",
              "    <tr>\n",
              "      <th>99535</th>\n",
              "      <td>53.906522</td>\n",
              "      <td>54.461926</td>\n",
              "    </tr>\n",
              "    <tr>\n",
              "      <th>47879</th>\n",
              "      <td>107.813044</td>\n",
              "      <td>108.660979</td>\n",
              "    </tr>\n",
              "    <tr>\n",
              "      <th>36734</th>\n",
              "      <td>53.906522</td>\n",
              "      <td>54.479416</td>\n",
              "    </tr>\n",
              "    <tr>\n",
              "      <th>...</th>\n",
              "      <td>...</td>\n",
              "      <td>...</td>\n",
              "    </tr>\n",
              "    <tr>\n",
              "      <th>56405</th>\n",
              "      <td>30.132364</td>\n",
              "      <td>28.805734</td>\n",
              "    </tr>\n",
              "    <tr>\n",
              "      <th>50954</th>\n",
              "      <td>110.992147</td>\n",
              "      <td>110.025164</td>\n",
              "    </tr>\n",
              "    <tr>\n",
              "      <th>99121</th>\n",
              "      <td>3.179103</td>\n",
              "      <td>3.278982</td>\n",
              "    </tr>\n",
              "    <tr>\n",
              "      <th>4170</th>\n",
              "      <td>53.906522</td>\n",
              "      <td>53.705839</td>\n",
              "    </tr>\n",
              "    <tr>\n",
              "      <th>18144</th>\n",
              "      <td>134.766305</td>\n",
              "      <td>135.021879</td>\n",
              "    </tr>\n",
              "  </tbody>\n",
              "</table>\n",
              "<p>25000 rows × 2 columns</p>\n",
              "</div>"
            ],
            "text/plain": [
              "          product     predict\n",
              "index                        \n",
              "42083   57.085625   56.056314\n",
              "71825   80.859783   81.589811\n",
              "99535   53.906522   54.461926\n",
              "47879  107.813044  108.660979\n",
              "36734   53.906522   54.479416\n",
              "...           ...         ...\n",
              "56405   30.132364   28.805734\n",
              "50954  110.992147  110.025164\n",
              "99121    3.179103    3.278982\n",
              "4170    53.906522   53.705839\n",
              "18144  134.766305  135.021879\n",
              "\n",
              "[25000 rows x 2 columns]"
            ]
          },
          "execution_count": 220,
          "metadata": {},
          "output_type": "execute_result"
        }
      ],
      "source": [
        "# set original index as the index\n",
        "delta_lr_2 = delta_lr_2.set_index('index')\n",
        "delta_lr_2"
      ]
    },
    {
      "cell_type": "code",
      "execution_count": null,
      "metadata": {
        "scrolled": true,
        "id": "9gN_7Blx0-wX",
        "outputId": "658a9616-d28f-4645-9898-892c7fdfa68a"
      },
      "outputs": [
        {
          "data": {
            "text/html": [
              "<div>\n",
              "<style scoped>\n",
              "    .dataframe tbody tr th:only-of-type {\n",
              "        vertical-align: middle;\n",
              "    }\n",
              "\n",
              "    .dataframe tbody tr th {\n",
              "        vertical-align: top;\n",
              "    }\n",
              "\n",
              "    .dataframe thead th {\n",
              "        text-align: right;\n",
              "    }\n",
              "</style>\n",
              "<table border=\"1\" class=\"dataframe\">\n",
              "  <thead>\n",
              "    <tr style=\"text-align: right;\">\n",
              "      <th></th>\n",
              "      <th>product</th>\n",
              "      <th>predict</th>\n",
              "      <th>var</th>\n",
              "    </tr>\n",
              "    <tr>\n",
              "      <th>index</th>\n",
              "      <th></th>\n",
              "      <th></th>\n",
              "      <th></th>\n",
              "    </tr>\n",
              "  </thead>\n",
              "  <tbody>\n",
              "    <tr>\n",
              "      <th>42083</th>\n",
              "      <td>57.085625</td>\n",
              "      <td>56.056314</td>\n",
              "      <td>1.029311</td>\n",
              "    </tr>\n",
              "    <tr>\n",
              "      <th>71825</th>\n",
              "      <td>80.859783</td>\n",
              "      <td>81.589811</td>\n",
              "      <td>-0.730027</td>\n",
              "    </tr>\n",
              "    <tr>\n",
              "      <th>99535</th>\n",
              "      <td>53.906522</td>\n",
              "      <td>54.461926</td>\n",
              "      <td>-0.555404</td>\n",
              "    </tr>\n",
              "    <tr>\n",
              "      <th>47879</th>\n",
              "      <td>107.813044</td>\n",
              "      <td>108.660979</td>\n",
              "      <td>-0.847935</td>\n",
              "    </tr>\n",
              "    <tr>\n",
              "      <th>36734</th>\n",
              "      <td>53.906522</td>\n",
              "      <td>54.479416</td>\n",
              "      <td>-0.572894</td>\n",
              "    </tr>\n",
              "  </tbody>\n",
              "</table>\n",
              "</div>"
            ],
            "text/plain": [
              "          product     predict       var\n",
              "index                                  \n",
              "42083   57.085625   56.056314  1.029311\n",
              "71825   80.859783   81.589811 -0.730027\n",
              "99535   53.906522   54.461926 -0.555404\n",
              "47879  107.813044  108.660979 -0.847935\n",
              "36734   53.906522   54.479416 -0.572894"
            ]
          },
          "execution_count": 221,
          "metadata": {},
          "output_type": "execute_result"
        }
      ],
      "source": [
        "# add column for discrepancy predictions to actual\n",
        "delta_lr_2['var'] = delta_lr_2['product']-delta_lr_2['predict']\n",
        "delta_lr_2.head()"
      ]
    },
    {
      "cell_type": "code",
      "execution_count": null,
      "metadata": {
        "id": "Wxblmuc90-wY",
        "outputId": "c28a53ce-c521-4899-dd56-67990cf06e7e"
      },
      "outputs": [
        {
          "data": {
            "text/html": [
              "<div>\n",
              "<style scoped>\n",
              "    .dataframe tbody tr th:only-of-type {\n",
              "        vertical-align: middle;\n",
              "    }\n",
              "\n",
              "    .dataframe tbody tr th {\n",
              "        vertical-align: top;\n",
              "    }\n",
              "\n",
              "    .dataframe thead th {\n",
              "        text-align: right;\n",
              "    }\n",
              "</style>\n",
              "<table border=\"1\" class=\"dataframe\">\n",
              "  <thead>\n",
              "    <tr style=\"text-align: right;\">\n",
              "      <th></th>\n",
              "      <th>product</th>\n",
              "      <th>predict</th>\n",
              "      <th>var</th>\n",
              "    </tr>\n",
              "  </thead>\n",
              "  <tbody>\n",
              "    <tr>\n",
              "      <th>count</th>\n",
              "      <td>25000.000000</td>\n",
              "      <td>25000.000000</td>\n",
              "      <td>25000.000000</td>\n",
              "    </tr>\n",
              "    <tr>\n",
              "      <th>mean</th>\n",
              "      <td>69.273712</td>\n",
              "      <td>69.280019</td>\n",
              "      <td>-0.006306</td>\n",
              "    </tr>\n",
              "    <tr>\n",
              "      <th>std</th>\n",
              "      <td>45.819818</td>\n",
              "      <td>45.819890</td>\n",
              "      <td>0.895410</td>\n",
              "    </tr>\n",
              "    <tr>\n",
              "      <th>min</th>\n",
              "      <td>0.000000</td>\n",
              "      <td>-2.066353</td>\n",
              "      <td>-3.418324</td>\n",
              "    </tr>\n",
              "    <tr>\n",
              "      <th>25%</th>\n",
              "      <td>30.132364</td>\n",
              "      <td>28.689663</td>\n",
              "      <td>-0.622355</td>\n",
              "    </tr>\n",
              "    <tr>\n",
              "      <th>50%</th>\n",
              "      <td>80.859783</td>\n",
              "      <td>79.987224</td>\n",
              "      <td>-0.006127</td>\n",
              "    </tr>\n",
              "    <tr>\n",
              "      <th>75%</th>\n",
              "      <td>107.813044</td>\n",
              "      <td>109.351179</td>\n",
              "      <td>0.609787</td>\n",
              "    </tr>\n",
              "    <tr>\n",
              "      <th>max</th>\n",
              "      <td>137.945408</td>\n",
              "      <td>139.906443</td>\n",
              "      <td>3.554354</td>\n",
              "    </tr>\n",
              "  </tbody>\n",
              "</table>\n",
              "</div>"
            ],
            "text/plain": [
              "            product       predict           var\n",
              "count  25000.000000  25000.000000  25000.000000\n",
              "mean      69.273712     69.280019     -0.006306\n",
              "std       45.819818     45.819890      0.895410\n",
              "min        0.000000     -2.066353     -3.418324\n",
              "25%       30.132364     28.689663     -0.622355\n",
              "50%       80.859783     79.987224     -0.006127\n",
              "75%      107.813044    109.351179      0.609787\n",
              "max      137.945408    139.906443      3.554354"
            ]
          },
          "execution_count": 222,
          "metadata": {},
          "output_type": "execute_result"
        }
      ],
      "source": [
        "# load statistical description\n",
        "delta_lr_2.describe()"
      ]
    },
    {
      "cell_type": "markdown",
      "metadata": {
        "id": "QnJLKSug0-wZ"
      },
      "source": [
        "### Predictions vs targets for Location 3"
      ]
    },
    {
      "cell_type": "code",
      "execution_count": null,
      "metadata": {
        "id": "-cjzmE5P0-wZ",
        "outputId": "dae6c721-4c17-43fc-dbe2-c24355b0500b"
      },
      "outputs": [
        {
          "data": {
            "text/html": [
              "<div>\n",
              "<style scoped>\n",
              "    .dataframe tbody tr th:only-of-type {\n",
              "        vertical-align: middle;\n",
              "    }\n",
              "\n",
              "    .dataframe tbody tr th {\n",
              "        vertical-align: top;\n",
              "    }\n",
              "\n",
              "    .dataframe thead th {\n",
              "        text-align: right;\n",
              "    }\n",
              "</style>\n",
              "<table border=\"1\" class=\"dataframe\">\n",
              "  <thead>\n",
              "    <tr style=\"text-align: right;\">\n",
              "      <th></th>\n",
              "      <th>index</th>\n",
              "      <th>product</th>\n",
              "      <th>predict</th>\n",
              "    </tr>\n",
              "  </thead>\n",
              "  <tbody>\n",
              "    <tr>\n",
              "      <th>0</th>\n",
              "      <td>42083</td>\n",
              "      <td>147.451978</td>\n",
              "      <td>95.237438</td>\n",
              "    </tr>\n",
              "    <tr>\n",
              "      <th>1</th>\n",
              "      <td>71825</td>\n",
              "      <td>128.711794</td>\n",
              "      <td>94.878937</td>\n",
              "    </tr>\n",
              "    <tr>\n",
              "      <th>2</th>\n",
              "      <td>99535</td>\n",
              "      <td>106.628185</td>\n",
              "      <td>94.717125</td>\n",
              "    </tr>\n",
              "    <tr>\n",
              "      <th>3</th>\n",
              "      <td>47879</td>\n",
              "      <td>128.787131</td>\n",
              "      <td>95.090568</td>\n",
              "    </tr>\n",
              "    <tr>\n",
              "      <th>4</th>\n",
              "      <td>36734</td>\n",
              "      <td>159.328488</td>\n",
              "      <td>95.278331</td>\n",
              "    </tr>\n",
              "  </tbody>\n",
              "</table>\n",
              "</div>"
            ],
            "text/plain": [
              "   index     product    predict\n",
              "0  42083  147.451978  95.237438\n",
              "1  71825  128.711794  94.878937\n",
              "2  99535  106.628185  94.717125\n",
              "3  47879  128.787131  95.090568\n",
              "4  36734  159.328488  95.278331"
            ]
          },
          "execution_count": 223,
          "metadata": {},
          "output_type": "execute_result"
        }
      ],
      "source": [
        "# save dataframe target of dataset valid Location 3\n",
        "delta_lr_3 = target_valid_3\n",
        "\n",
        "# add column for predictions\n",
        "delta_lr_3['predict'] = pd.Series(predict_lr_3)\n",
        "delta_lr_3.head()"
      ]
    },
    {
      "cell_type": "code",
      "execution_count": null,
      "metadata": {
        "id": "f161ZU3x0-wa",
        "outputId": "b5c15d76-c3e8-4736-f349-388e90769aba"
      },
      "outputs": [
        {
          "data": {
            "text/html": [
              "<div>\n",
              "<style scoped>\n",
              "    .dataframe tbody tr th:only-of-type {\n",
              "        vertical-align: middle;\n",
              "    }\n",
              "\n",
              "    .dataframe tbody tr th {\n",
              "        vertical-align: top;\n",
              "    }\n",
              "\n",
              "    .dataframe thead th {\n",
              "        text-align: right;\n",
              "    }\n",
              "</style>\n",
              "<table border=\"1\" class=\"dataframe\">\n",
              "  <thead>\n",
              "    <tr style=\"text-align: right;\">\n",
              "      <th></th>\n",
              "      <th>product</th>\n",
              "      <th>predict</th>\n",
              "    </tr>\n",
              "    <tr>\n",
              "      <th>index</th>\n",
              "      <th></th>\n",
              "      <th></th>\n",
              "    </tr>\n",
              "  </thead>\n",
              "  <tbody>\n",
              "    <tr>\n",
              "      <th>42083</th>\n",
              "      <td>147.451978</td>\n",
              "      <td>95.237438</td>\n",
              "    </tr>\n",
              "    <tr>\n",
              "      <th>71825</th>\n",
              "      <td>128.711794</td>\n",
              "      <td>94.878937</td>\n",
              "    </tr>\n",
              "    <tr>\n",
              "      <th>99535</th>\n",
              "      <td>106.628185</td>\n",
              "      <td>94.717125</td>\n",
              "    </tr>\n",
              "    <tr>\n",
              "      <th>47879</th>\n",
              "      <td>128.787131</td>\n",
              "      <td>95.090568</td>\n",
              "    </tr>\n",
              "    <tr>\n",
              "      <th>36734</th>\n",
              "      <td>159.328488</td>\n",
              "      <td>95.278331</td>\n",
              "    </tr>\n",
              "    <tr>\n",
              "      <th>...</th>\n",
              "      <td>...</td>\n",
              "      <td>...</td>\n",
              "    </tr>\n",
              "    <tr>\n",
              "      <th>56405</th>\n",
              "      <td>114.783531</td>\n",
              "      <td>95.171650</td>\n",
              "    </tr>\n",
              "    <tr>\n",
              "      <th>50954</th>\n",
              "      <td>48.814291</td>\n",
              "      <td>94.719597</td>\n",
              "    </tr>\n",
              "    <tr>\n",
              "      <th>99121</th>\n",
              "      <td>152.196856</td>\n",
              "      <td>95.381697</td>\n",
              "    </tr>\n",
              "    <tr>\n",
              "      <th>4170</th>\n",
              "      <td>137.501887</td>\n",
              "      <td>95.213991</td>\n",
              "    </tr>\n",
              "    <tr>\n",
              "      <th>18144</th>\n",
              "      <td>125.854138</td>\n",
              "      <td>94.783540</td>\n",
              "    </tr>\n",
              "  </tbody>\n",
              "</table>\n",
              "<p>25000 rows × 2 columns</p>\n",
              "</div>"
            ],
            "text/plain": [
              "          product    predict\n",
              "index                       \n",
              "42083  147.451978  95.237438\n",
              "71825  128.711794  94.878937\n",
              "99535  106.628185  94.717125\n",
              "47879  128.787131  95.090568\n",
              "36734  159.328488  95.278331\n",
              "...           ...        ...\n",
              "56405  114.783531  95.171650\n",
              "50954   48.814291  94.719597\n",
              "99121  152.196856  95.381697\n",
              "4170   137.501887  95.213991\n",
              "18144  125.854138  94.783540\n",
              "\n",
              "[25000 rows x 2 columns]"
            ]
          },
          "execution_count": 224,
          "metadata": {},
          "output_type": "execute_result"
        }
      ],
      "source": [
        "# set original index as the index\n",
        "delta_lr_3 = delta_lr_3.set_index('index')\n",
        "delta_lr_3"
      ]
    },
    {
      "cell_type": "code",
      "execution_count": null,
      "metadata": {
        "scrolled": true,
        "id": "WaC4X5Zq0-wa",
        "outputId": "31f3b7cc-7c91-452a-e5a1-d286dd4c68fb"
      },
      "outputs": [
        {
          "data": {
            "text/html": [
              "<div>\n",
              "<style scoped>\n",
              "    .dataframe tbody tr th:only-of-type {\n",
              "        vertical-align: middle;\n",
              "    }\n",
              "\n",
              "    .dataframe tbody tr th {\n",
              "        vertical-align: top;\n",
              "    }\n",
              "\n",
              "    .dataframe thead th {\n",
              "        text-align: right;\n",
              "    }\n",
              "</style>\n",
              "<table border=\"1\" class=\"dataframe\">\n",
              "  <thead>\n",
              "    <tr style=\"text-align: right;\">\n",
              "      <th></th>\n",
              "      <th>product</th>\n",
              "      <th>predict</th>\n",
              "      <th>var</th>\n",
              "    </tr>\n",
              "    <tr>\n",
              "      <th>index</th>\n",
              "      <th></th>\n",
              "      <th></th>\n",
              "      <th></th>\n",
              "    </tr>\n",
              "  </thead>\n",
              "  <tbody>\n",
              "    <tr>\n",
              "      <th>42083</th>\n",
              "      <td>147.451978</td>\n",
              "      <td>95.237438</td>\n",
              "      <td>52.214541</td>\n",
              "    </tr>\n",
              "    <tr>\n",
              "      <th>71825</th>\n",
              "      <td>128.711794</td>\n",
              "      <td>94.878937</td>\n",
              "      <td>33.832856</td>\n",
              "    </tr>\n",
              "    <tr>\n",
              "      <th>99535</th>\n",
              "      <td>106.628185</td>\n",
              "      <td>94.717125</td>\n",
              "      <td>11.911060</td>\n",
              "    </tr>\n",
              "    <tr>\n",
              "      <th>47879</th>\n",
              "      <td>128.787131</td>\n",
              "      <td>95.090568</td>\n",
              "      <td>33.696563</td>\n",
              "    </tr>\n",
              "    <tr>\n",
              "      <th>36734</th>\n",
              "      <td>159.328488</td>\n",
              "      <td>95.278331</td>\n",
              "      <td>64.050157</td>\n",
              "    </tr>\n",
              "  </tbody>\n",
              "</table>\n",
              "</div>"
            ],
            "text/plain": [
              "          product    predict        var\n",
              "index                                  \n",
              "42083  147.451978  95.237438  52.214541\n",
              "71825  128.711794  94.878937  33.832856\n",
              "99535  106.628185  94.717125  11.911060\n",
              "47879  128.787131  95.090568  33.696563\n",
              "36734  159.328488  95.278331  64.050157"
            ]
          },
          "execution_count": 225,
          "metadata": {},
          "output_type": "execute_result"
        }
      ],
      "source": [
        "# add column for discrepancy preditions to actual\n",
        "delta_lr_3['var'] = delta_lr_3['product']-delta_lr_3['predict']\n",
        "delta_lr_3.head()"
      ]
    },
    {
      "cell_type": "code",
      "execution_count": null,
      "metadata": {
        "id": "WRa2q1X20-wa",
        "outputId": "93c81e4c-003c-4bf2-bdb5-3f1cccecc6fc"
      },
      "outputs": [
        {
          "data": {
            "text/html": [
              "<div>\n",
              "<style scoped>\n",
              "    .dataframe tbody tr th:only-of-type {\n",
              "        vertical-align: middle;\n",
              "    }\n",
              "\n",
              "    .dataframe tbody tr th {\n",
              "        vertical-align: top;\n",
              "    }\n",
              "\n",
              "    .dataframe thead th {\n",
              "        text-align: right;\n",
              "    }\n",
              "</style>\n",
              "<table border=\"1\" class=\"dataframe\">\n",
              "  <thead>\n",
              "    <tr style=\"text-align: right;\">\n",
              "      <th></th>\n",
              "      <th>product</th>\n",
              "      <th>predict</th>\n",
              "      <th>var</th>\n",
              "    </tr>\n",
              "  </thead>\n",
              "  <tbody>\n",
              "    <tr>\n",
              "      <th>count</th>\n",
              "      <td>25000.000000</td>\n",
              "      <td>25000.000000</td>\n",
              "      <td>25000.000000</td>\n",
              "    </tr>\n",
              "    <tr>\n",
              "      <th>mean</th>\n",
              "      <td>94.873488</td>\n",
              "      <td>95.042691</td>\n",
              "      <td>-0.169203</td>\n",
              "    </tr>\n",
              "    <tr>\n",
              "      <th>std</th>\n",
              "      <td>44.674172</td>\n",
              "      <td>0.209087</td>\n",
              "      <td>44.675905</td>\n",
              "    </tr>\n",
              "    <tr>\n",
              "      <th>min</th>\n",
              "      <td>0.009204</td>\n",
              "      <td>94.088042</td>\n",
              "      <td>-95.356261</td>\n",
              "    </tr>\n",
              "    <tr>\n",
              "      <th>25%</th>\n",
              "      <td>59.427249</td>\n",
              "      <td>94.901130</td>\n",
              "      <td>-35.576216</td>\n",
              "    </tr>\n",
              "    <tr>\n",
              "      <th>50%</th>\n",
              "      <td>94.682593</td>\n",
              "      <td>95.042763</td>\n",
              "      <td>-0.339876</td>\n",
              "    </tr>\n",
              "    <tr>\n",
              "      <th>75%</th>\n",
              "      <td>130.407800</td>\n",
              "      <td>95.184537</td>\n",
              "      <td>35.338199</td>\n",
              "    </tr>\n",
              "    <tr>\n",
              "      <th>max</th>\n",
              "      <td>190.010982</td>\n",
              "      <td>95.814861</td>\n",
              "      <td>95.140909</td>\n",
              "    </tr>\n",
              "  </tbody>\n",
              "</table>\n",
              "</div>"
            ],
            "text/plain": [
              "            product       predict           var\n",
              "count  25000.000000  25000.000000  25000.000000\n",
              "mean      94.873488     95.042691     -0.169203\n",
              "std       44.674172      0.209087     44.675905\n",
              "min        0.009204     94.088042    -95.356261\n",
              "25%       59.427249     94.901130    -35.576216\n",
              "50%       94.682593     95.042763     -0.339876\n",
              "75%      130.407800     95.184537     35.338199\n",
              "max      190.010982     95.814861     95.140909"
            ]
          },
          "execution_count": 226,
          "metadata": {},
          "output_type": "execute_result"
        }
      ],
      "source": [
        "# load statistical description\n",
        "delta_lr_3.describe()"
      ]
    },
    {
      "cell_type": "markdown",
      "metadata": {
        "id": "P9ctAORa0-wa"
      },
      "source": [
        "### Interim Conclusions\n",
        "\n",
        "Mean and RMSE of predicted volume of oil reserve are:\n",
        "\n",
        "- Location 1: 93 and 38, respectively\n",
        "\n",
        "- Location 2: 80 and 0.9, respectively\n",
        "\n",
        "- Location 3: 95 and 45, respectively\n",
        "\n",
        "Although the targets and predictions of dataset of each Location 1 and Location 3 have similar means and medians, their standard deviations differ significantly. And the fact that the minimum value in their discrepancies is significantly negative, it shows that the model which are trained with features f0, f1, and f2 is not a well performing model for each of the two datasets.\n",
        "\n",
        "In addition to that, R2 score for model of Location 1 is as low as 0.3. And it is even negative for model of Location 3, that means the model does not predict better than the mean of the target values.\n",
        "\n",
        "On the contrary, targets and predictions of dataset of Location 2 have similar means and medians, standard deviations, even quartiles. And R2 score is high as 0.9. It shows that the model which are trained with features f0, f1, and f2 performs well for Location 2.\n",
        "\n"
      ]
    },
    {
      "cell_type": "markdown",
      "metadata": {
        "id": "L2u0Vsjb0-wb"
      },
      "source": [
        "## LightGBM\n",
        "\n",
        "This time a model using LightGBM will be built in an effort to find a model that can predict for Location 1 and Location 3 better than the XGBoost and the LinearRegression do."
      ]
    },
    {
      "cell_type": "markdown",
      "metadata": {
        "id": "B9J9QPVU0-wb"
      },
      "source": [
        "### Build models with LightGBM Algorithm"
      ]
    },
    {
      "cell_type": "code",
      "execution_count": null,
      "metadata": {
        "scrolled": false,
        "id": "92Gpn7k_0-wb",
        "outputId": "1f33528a-684c-448a-e5b0-befd1521c5dc"
      },
      "outputs": [
        {
          "name": "stdout",
          "output_type": "stream",
          "text": [
            "Best max_depth: 4\n",
            "Best n_estimators: 90\n"
          ]
        }
      ],
      "source": [
        "# Using GridSearch to find combination of hyperparameter\n",
        "max_depth = range(3, 8, 1)\n",
        "n_estimators = range(40, 101, 10)\n",
        "\n",
        "hyperparameters = dict(max_depth=max_depth, n_estimators=n_estimators)\n",
        "\n",
        "#create model with grid search\n",
        "lgbm = LGBMRegressor(random_state=123)\n",
        "\n",
        "clf = GridSearchCV(lgbm, hyperparameters, cv=5)\n",
        "\n",
        "# train model\n",
        "lgbm = clf.fit(x_train_1, y_train_1)\n",
        "print('Best max_depth:', lgbm.best_params_['max_depth'])\n",
        "print('Best n_estimators:', lgbm.best_params_['n_estimators'])\n"
      ]
    },
    {
      "cell_type": "code",
      "execution_count": null,
      "metadata": {
        "id": "cY4Zdyjj0-wb",
        "outputId": "a474f2f8-367a-4994-80b6-46b3c442ea2d"
      },
      "outputs": [
        {
          "data": {
            "text/plain": [
              "0.3013302894935276"
            ]
          },
          "execution_count": 228,
          "metadata": {},
          "output_type": "execute_result"
        }
      ],
      "source": [
        "# build model for Location 1\n",
        "lgbm1 = LGBMRegressor(random_state=123,learning_rate=0.1,max_depth=4,n_estimators=90)\n",
        "lgbm1.fit(x_train_1, y_train_1)\n",
        "predict_lgbm_1 = lgbm1.predict(x_valid_1)\n",
        "r2_score_lgbm_1 = r2_score(y_valid_1, predict_lgbm_1)\n",
        "r2_score_lgbm_1"
      ]
    },
    {
      "cell_type": "code",
      "execution_count": null,
      "metadata": {
        "id": "GfK3FCOL0-wc",
        "outputId": "1a0e158d-5a2c-4de8-96c7-c678f018d37b"
      },
      "outputs": [
        {
          "data": {
            "text/plain": [
              "0.9990714140345803"
            ]
          },
          "execution_count": 229,
          "metadata": {},
          "output_type": "execute_result"
        }
      ],
      "source": [
        "# build model for Location 2\n",
        "lgbm2 = LGBMRegressor(random_state=123,learning_rate=0.1,max_depth=4,n_estimators=90)\n",
        "lgbm2.fit(x_train_2, y_train_2)\n",
        "predict_lgbm_2 = lgbm2.predict(x_valid_2)\n",
        "r2_score_lgbm_2 = r2_score(y_valid_2, predict_lgbm_2)\n",
        "r2_score_lgbm_2"
      ]
    },
    {
      "cell_type": "code",
      "execution_count": null,
      "metadata": {
        "id": "7jZuurs30-wc",
        "outputId": "de1be203-6f34-47d8-dda6-04e6a7746947"
      },
      "outputs": [
        {
          "data": {
            "text/plain": [
              "-0.0006298683881862388"
            ]
          },
          "execution_count": 230,
          "metadata": {},
          "output_type": "execute_result"
        }
      ],
      "source": [
        "# build model for Location 3\n",
        "lgbm3 = LGBMRegressor(random_state=123,learning_rate=0.1,max_depth=4,n_estimators=90)\n",
        "lgbm3.fit(x_train_3, y_train_3)\n",
        "predict_lgbm_3 = lgbm3.predict(x_valid_3)\n",
        "r2_score_lgbm_3 = r2_score(y_valid_3, predict_lgbm_3)\n",
        "r2_score_lgbm_3"
      ]
    },
    {
      "cell_type": "markdown",
      "metadata": {
        "id": "zPyvZsFG0-wc"
      },
      "source": [
        "### Plotting the feature importance"
      ]
    },
    {
      "cell_type": "code",
      "execution_count": null,
      "metadata": {
        "scrolled": true,
        "id": "g8BWdUD_0-wc",
        "outputId": "cc20ce60-b54c-4d58-edc2-43f83321b76d"
      },
      "outputs": [
        {
          "data": {
            "image/png": "[encoded data removed]",
            "text/plain": [
              "<Figure size 468x324 with 1 Axes>"
            ]
          },
          "metadata": {
            "needs_background": "light"
          },
          "output_type": "display_data"
        },
        {
          "data": {
            "text/plain": [
              "<Figure size 360x360 with 0 Axes>"
            ]
          },
          "metadata": {},
          "output_type": "display_data"
        }
      ],
      "source": [
        "# check each feature's coefficient on LightGBM model dataset 1\n",
        "y = lgbm1.feature_importances_\n",
        "fig, ax = plt.subplots() \n",
        "width = 0.4\n",
        "ind = np.arange(len(y))\n",
        "\n",
        "ax.barh(ind, y, width, color='green')\n",
        "ax.set_yticks(ind+width/10)\n",
        "ax.set_yticklabels(x_train_1.columns, minor=False)\n",
        "plt.title('Feature Importances in LightGBM')\n",
        "plt.xlabel('Importances')\n",
        "plt.ylabel('Feature') \n",
        "plt.figure(figsize=(5,5))\n",
        "fig.set_size_inches(6.5, 4.5, forward=True)"
      ]
    },
    {
      "cell_type": "code",
      "execution_count": null,
      "metadata": {
        "scrolled": true,
        "id": "Y896374g0-wd",
        "outputId": "083b29e2-fc3f-4b1a-8d84-69f43154fdfd"
      },
      "outputs": [
        {
          "data": {
            "image/png": "[encoded data removed]",
            "text/plain": [
              "<Figure size 468x324 with 1 Axes>"
            ]
          },
          "metadata": {
            "needs_background": "light"
          },
          "output_type": "display_data"
        },
        {
          "data": {
            "text/plain": [
              "<Figure size 360x360 with 0 Axes>"
            ]
          },
          "metadata": {},
          "output_type": "display_data"
        }
      ],
      "source": [
        "# check each feature's coefficient on LightGBM model dataset 2\n",
        "y = lgbm2.feature_importances_\n",
        "fig, ax = plt.subplots() \n",
        "width = 0.4\n",
        "ind = np.arange(len(y))\n",
        "\n",
        "ax.barh(ind, y, width, color='green')\n",
        "ax.set_yticks(ind+width/10)\n",
        "ax.set_yticklabels(x_train_2.columns, minor=False)\n",
        "plt.title('Feature Importances in LightGBM')\n",
        "plt.xlabel('Importances')\n",
        "plt.ylabel('Feature') \n",
        "plt.figure(figsize=(5,5))\n",
        "fig.set_size_inches(6.5, 4.5, forward=True)"
      ]
    },
    {
      "cell_type": "code",
      "execution_count": null,
      "metadata": {
        "id": "8lcBT2LJ0-wd",
        "outputId": "26be4436-ade0-4fb8-8c00-7285b65ec164"
      },
      "outputs": [
        {
          "data": {
            "image/png": "[encoded data removed]",
            "text/plain": [
              "<Figure size 468x324 with 1 Axes>"
            ]
          },
          "metadata": {
            "needs_background": "light"
          },
          "output_type": "display_data"
        },
        {
          "data": {
            "text/plain": [
              "<Figure size 360x360 with 0 Axes>"
            ]
          },
          "metadata": {},
          "output_type": "display_data"
        }
      ],
      "source": [
        "# check each feature's coefficient on LightGBM model dataset 3\n",
        "y = lgbm3.feature_importances_\n",
        "fig, ax = plt.subplots() \n",
        "width = 0.4\n",
        "ind = np.arange(len(y))\n",
        "\n",
        "ax.barh(ind, y, width, color='green')\n",
        "ax.set_yticks(ind+width/10)\n",
        "ax.set_yticklabels(x_train_3.columns, minor=False)\n",
        "plt.title('Feature Importances in LightGBM')\n",
        "plt.xlabel('Importances')\n",
        "plt.ylabel('Feature') \n",
        "plt.figure(figsize=(5,5))\n",
        "fig.set_size_inches(6.5, 4.5, forward=True)"
      ]
    },
    {
      "cell_type": "markdown",
      "metadata": {
        "id": "DSq7W8CB0-we"
      },
      "source": [
        "### Evaluation by RMSE"
      ]
    },
    {
      "cell_type": "code",
      "execution_count": null,
      "metadata": {
        "id": "8cEwk9f20-we",
        "outputId": "a2db0250-49f1-445f-e212-80192ac7742f"
      },
      "outputs": [
        {
          "data": {
            "text/plain": [
              "37.119465531423465"
            ]
          },
          "execution_count": 234,
          "metadata": {},
          "output_type": "execute_result"
        }
      ],
      "source": [
        "# rmse of Location 1\n",
        "mse_lgbm_1 = mean_squared_error(y_valid_1, predict_lgbm_1)\n",
        "rmse_lgbm_1 = mse_lgbm_1**0.5\n",
        "rmse_lgbm_1"
      ]
    },
    {
      "cell_type": "code",
      "execution_count": null,
      "metadata": {
        "id": "nvjq6TjL0-wf",
        "outputId": "7ccdbb60-cc88-40da-977e-9d996191be3c"
      },
      "outputs": [
        {
          "data": {
            "text/plain": [
              "1.3962260313350665"
            ]
          },
          "execution_count": 235,
          "metadata": {},
          "output_type": "execute_result"
        }
      ],
      "source": [
        "# rmse of Location 2\n",
        "mse_lgbm_2 = mean_squared_error(y_valid_2, predict_lgbm_2)\n",
        "rmse_lgbm_2 = mse_lgbm_2**0.5\n",
        "rmse_lgbm_2"
      ]
    },
    {
      "cell_type": "code",
      "execution_count": null,
      "metadata": {
        "id": "LSrhOAXy0-wg",
        "outputId": "7aeb48b3-fafc-46df-ecb0-dd9959e21e42"
      },
      "outputs": [
        {
          "data": {
            "text/plain": [
              "44.68734550886719"
            ]
          },
          "execution_count": 236,
          "metadata": {},
          "output_type": "execute_result"
        }
      ],
      "source": [
        "# rmse of Location 3\n",
        "mse_lgbm_3 = mean_squared_error(y_valid_3, predict_lgbm_3)\n",
        "rmse_lgbm_3 = mse_lgbm_3**0.5\n",
        "rmse_lgbm_3"
      ]
    },
    {
      "cell_type": "markdown",
      "metadata": {
        "id": "ofgvymJg0-wg"
      },
      "source": [
        "### Predictions vs targets for Location 1"
      ]
    },
    {
      "cell_type": "code",
      "execution_count": null,
      "metadata": {
        "scrolled": true,
        "id": "E3WdE9WT0-wg",
        "outputId": "ea6524ee-5fe6-4a43-aab4-794e655794b0"
      },
      "outputs": [
        {
          "data": {
            "text/html": [
              "<div>\n",
              "<style scoped>\n",
              "    .dataframe tbody tr th:only-of-type {\n",
              "        vertical-align: middle;\n",
              "    }\n",
              "\n",
              "    .dataframe tbody tr th {\n",
              "        vertical-align: top;\n",
              "    }\n",
              "\n",
              "    .dataframe thead th {\n",
              "        text-align: right;\n",
              "    }\n",
              "</style>\n",
              "<table border=\"1\" class=\"dataframe\">\n",
              "  <thead>\n",
              "    <tr style=\"text-align: right;\">\n",
              "      <th></th>\n",
              "      <th>index</th>\n",
              "      <th>product</th>\n",
              "      <th>predict</th>\n",
              "    </tr>\n",
              "  </thead>\n",
              "  <tbody>\n",
              "    <tr>\n",
              "      <th>0</th>\n",
              "      <td>42083</td>\n",
              "      <td>145.825972</td>\n",
              "      <td>132.073954</td>\n",
              "    </tr>\n",
              "    <tr>\n",
              "      <th>1</th>\n",
              "      <td>71825</td>\n",
              "      <td>134.020212</td>\n",
              "      <td>86.908232</td>\n",
              "    </tr>\n",
              "    <tr>\n",
              "      <th>2</th>\n",
              "      <td>99535</td>\n",
              "      <td>88.905826</td>\n",
              "      <td>50.336323</td>\n",
              "    </tr>\n",
              "    <tr>\n",
              "      <th>3</th>\n",
              "      <td>47879</td>\n",
              "      <td>19.508226</td>\n",
              "      <td>83.251903</td>\n",
              "    </tr>\n",
              "    <tr>\n",
              "      <th>4</th>\n",
              "      <td>36734</td>\n",
              "      <td>108.713468</td>\n",
              "      <td>109.043717</td>\n",
              "    </tr>\n",
              "  </tbody>\n",
              "</table>\n",
              "</div>"
            ],
            "text/plain": [
              "   index     product     predict\n",
              "0  42083  145.825972  132.073954\n",
              "1  71825  134.020212   86.908232\n",
              "2  99535   88.905826   50.336323\n",
              "3  47879   19.508226   83.251903\n",
              "4  36734  108.713468  109.043717"
            ]
          },
          "execution_count": 237,
          "metadata": {},
          "output_type": "execute_result"
        }
      ],
      "source": [
        "# save dataframe target of dataset valid Location 1\n",
        "delta_lgbm_1 = target_valid_1\n",
        "\n",
        "# add column for predictions\n",
        "delta_lgbm_1['predict'] = pd.Series(predict_lgbm_1)\n",
        "delta_lgbm_1.head()"
      ]
    },
    {
      "cell_type": "code",
      "execution_count": null,
      "metadata": {
        "id": "z_2Qorhq0-wh",
        "outputId": "c6085b68-d40c-4f1a-e165-3d20bea12722"
      },
      "outputs": [
        {
          "data": {
            "text/html": [
              "<div>\n",
              "<style scoped>\n",
              "    .dataframe tbody tr th:only-of-type {\n",
              "        vertical-align: middle;\n",
              "    }\n",
              "\n",
              "    .dataframe tbody tr th {\n",
              "        vertical-align: top;\n",
              "    }\n",
              "\n",
              "    .dataframe thead th {\n",
              "        text-align: right;\n",
              "    }\n",
              "</style>\n",
              "<table border=\"1\" class=\"dataframe\">\n",
              "  <thead>\n",
              "    <tr style=\"text-align: right;\">\n",
              "      <th></th>\n",
              "      <th>product</th>\n",
              "      <th>predict</th>\n",
              "    </tr>\n",
              "    <tr>\n",
              "      <th>index</th>\n",
              "      <th></th>\n",
              "      <th></th>\n",
              "    </tr>\n",
              "  </thead>\n",
              "  <tbody>\n",
              "    <tr>\n",
              "      <th>42083</th>\n",
              "      <td>145.825972</td>\n",
              "      <td>132.073954</td>\n",
              "    </tr>\n",
              "    <tr>\n",
              "      <th>71825</th>\n",
              "      <td>134.020212</td>\n",
              "      <td>86.908232</td>\n",
              "    </tr>\n",
              "    <tr>\n",
              "      <th>99535</th>\n",
              "      <td>88.905826</td>\n",
              "      <td>50.336323</td>\n",
              "    </tr>\n",
              "    <tr>\n",
              "      <th>47879</th>\n",
              "      <td>19.508226</td>\n",
              "      <td>83.251903</td>\n",
              "    </tr>\n",
              "    <tr>\n",
              "      <th>36734</th>\n",
              "      <td>108.713468</td>\n",
              "      <td>109.043717</td>\n",
              "    </tr>\n",
              "    <tr>\n",
              "      <th>...</th>\n",
              "      <td>...</td>\n",
              "      <td>...</td>\n",
              "    </tr>\n",
              "    <tr>\n",
              "      <th>56405</th>\n",
              "      <td>80.100250</td>\n",
              "      <td>92.054323</td>\n",
              "    </tr>\n",
              "    <tr>\n",
              "      <th>50954</th>\n",
              "      <td>47.345664</td>\n",
              "      <td>50.434867</td>\n",
              "    </tr>\n",
              "    <tr>\n",
              "      <th>99121</th>\n",
              "      <td>176.382705</td>\n",
              "      <td>146.338633</td>\n",
              "    </tr>\n",
              "    <tr>\n",
              "      <th>4170</th>\n",
              "      <td>140.334745</td>\n",
              "      <td>100.705787</td>\n",
              "    </tr>\n",
              "    <tr>\n",
              "      <th>18144</th>\n",
              "      <td>117.324049</td>\n",
              "      <td>51.632317</td>\n",
              "    </tr>\n",
              "  </tbody>\n",
              "</table>\n",
              "<p>25000 rows × 2 columns</p>\n",
              "</div>"
            ],
            "text/plain": [
              "          product     predict\n",
              "index                        \n",
              "42083  145.825972  132.073954\n",
              "71825  134.020212   86.908232\n",
              "99535   88.905826   50.336323\n",
              "47879   19.508226   83.251903\n",
              "36734  108.713468  109.043717\n",
              "...           ...         ...\n",
              "56405   80.100250   92.054323\n",
              "50954   47.345664   50.434867\n",
              "99121  176.382705  146.338633\n",
              "4170   140.334745  100.705787\n",
              "18144  117.324049   51.632317\n",
              "\n",
              "[25000 rows x 2 columns]"
            ]
          },
          "execution_count": 238,
          "metadata": {},
          "output_type": "execute_result"
        }
      ],
      "source": [
        "# set original index as the index\n",
        "delta_lgbm_1 = delta_lgbm_1.set_index('index')\n",
        "delta_lgbm_1"
      ]
    },
    {
      "cell_type": "code",
      "execution_count": null,
      "metadata": {
        "id": "ONnnW5CF0-wh",
        "outputId": "28a2da2d-94db-43af-db6d-13f629e463a5"
      },
      "outputs": [
        {
          "data": {
            "text/html": [
              "<div>\n",
              "<style scoped>\n",
              "    .dataframe tbody tr th:only-of-type {\n",
              "        vertical-align: middle;\n",
              "    }\n",
              "\n",
              "    .dataframe tbody tr th {\n",
              "        vertical-align: top;\n",
              "    }\n",
              "\n",
              "    .dataframe thead th {\n",
              "        text-align: right;\n",
              "    }\n",
              "</style>\n",
              "<table border=\"1\" class=\"dataframe\">\n",
              "  <thead>\n",
              "    <tr style=\"text-align: right;\">\n",
              "      <th></th>\n",
              "      <th>product</th>\n",
              "      <th>predict</th>\n",
              "      <th>var</th>\n",
              "    </tr>\n",
              "    <tr>\n",
              "      <th>index</th>\n",
              "      <th></th>\n",
              "      <th></th>\n",
              "      <th></th>\n",
              "    </tr>\n",
              "  </thead>\n",
              "  <tbody>\n",
              "    <tr>\n",
              "      <th>42083</th>\n",
              "      <td>145.825972</td>\n",
              "      <td>132.073954</td>\n",
              "      <td>13.752018</td>\n",
              "    </tr>\n",
              "    <tr>\n",
              "      <th>71825</th>\n",
              "      <td>134.020212</td>\n",
              "      <td>86.908232</td>\n",
              "      <td>47.111980</td>\n",
              "    </tr>\n",
              "    <tr>\n",
              "      <th>99535</th>\n",
              "      <td>88.905826</td>\n",
              "      <td>50.336323</td>\n",
              "      <td>38.569503</td>\n",
              "    </tr>\n",
              "    <tr>\n",
              "      <th>47879</th>\n",
              "      <td>19.508226</td>\n",
              "      <td>83.251903</td>\n",
              "      <td>-63.743677</td>\n",
              "    </tr>\n",
              "    <tr>\n",
              "      <th>36734</th>\n",
              "      <td>108.713468</td>\n",
              "      <td>109.043717</td>\n",
              "      <td>-0.330249</td>\n",
              "    </tr>\n",
              "  </tbody>\n",
              "</table>\n",
              "</div>"
            ],
            "text/plain": [
              "          product     predict        var\n",
              "index                                   \n",
              "42083  145.825972  132.073954  13.752018\n",
              "71825  134.020212   86.908232  47.111980\n",
              "99535   88.905826   50.336323  38.569503\n",
              "47879   19.508226   83.251903 -63.743677\n",
              "36734  108.713468  109.043717  -0.330249"
            ]
          },
          "execution_count": 239,
          "metadata": {},
          "output_type": "execute_result"
        }
      ],
      "source": [
        "# add column for discrepancy predictions to actual\n",
        "delta_lgbm_1['var'] = delta_lgbm_1['product']-delta_lgbm_1['predict']\n",
        "delta_lgbm_1.head()"
      ]
    },
    {
      "cell_type": "code",
      "execution_count": null,
      "metadata": {
        "id": "GF9WWu6i0-wi",
        "outputId": "189c7237-8549-4c2d-e9c7-cbff6dc1bf17"
      },
      "outputs": [
        {
          "data": {
            "text/html": [
              "<div>\n",
              "<style scoped>\n",
              "    .dataframe tbody tr th:only-of-type {\n",
              "        vertical-align: middle;\n",
              "    }\n",
              "\n",
              "    .dataframe tbody tr th {\n",
              "        vertical-align: top;\n",
              "    }\n",
              "\n",
              "    .dataframe thead th {\n",
              "        text-align: right;\n",
              "    }\n",
              "</style>\n",
              "<table border=\"1\" class=\"dataframe\">\n",
              "  <thead>\n",
              "    <tr style=\"text-align: right;\">\n",
              "      <th></th>\n",
              "      <th>product</th>\n",
              "      <th>predict</th>\n",
              "      <th>var</th>\n",
              "    </tr>\n",
              "  </thead>\n",
              "  <tbody>\n",
              "    <tr>\n",
              "      <th>count</th>\n",
              "      <td>25000.000000</td>\n",
              "      <td>25000.000000</td>\n",
              "      <td>25000.000000</td>\n",
              "    </tr>\n",
              "    <tr>\n",
              "      <th>mean</th>\n",
              "      <td>92.850624</td>\n",
              "      <td>92.523463</td>\n",
              "      <td>0.327160</td>\n",
              "    </tr>\n",
              "    <tr>\n",
              "      <th>std</th>\n",
              "      <td>44.409353</td>\n",
              "      <td>24.153294</td>\n",
              "      <td>37.118766</td>\n",
              "    </tr>\n",
              "    <tr>\n",
              "      <th>min</th>\n",
              "      <td>0.000000</td>\n",
              "      <td>28.715521</td>\n",
              "      <td>-110.583189</td>\n",
              "    </tr>\n",
              "    <tr>\n",
              "      <th>25%</th>\n",
              "      <td>56.798166</td>\n",
              "      <td>73.999610</td>\n",
              "      <td>-26.834516</td>\n",
              "    </tr>\n",
              "    <tr>\n",
              "      <th>50%</th>\n",
              "      <td>92.372796</td>\n",
              "      <td>92.437900</td>\n",
              "      <td>0.064470</td>\n",
              "    </tr>\n",
              "    <tr>\n",
              "      <th>75%</th>\n",
              "      <td>129.011163</td>\n",
              "      <td>110.423371</td>\n",
              "      <td>27.572480</td>\n",
              "    </tr>\n",
              "    <tr>\n",
              "      <th>max</th>\n",
              "      <td>185.355615</td>\n",
              "      <td>158.314740</td>\n",
              "      <td>118.208773</td>\n",
              "    </tr>\n",
              "  </tbody>\n",
              "</table>\n",
              "</div>"
            ],
            "text/plain": [
              "            product       predict           var\n",
              "count  25000.000000  25000.000000  25000.000000\n",
              "mean      92.850624     92.523463      0.327160\n",
              "std       44.409353     24.153294     37.118766\n",
              "min        0.000000     28.715521   -110.583189\n",
              "25%       56.798166     73.999610    -26.834516\n",
              "50%       92.372796     92.437900      0.064470\n",
              "75%      129.011163    110.423371     27.572480\n",
              "max      185.355615    158.314740    118.208773"
            ]
          },
          "execution_count": 240,
          "metadata": {},
          "output_type": "execute_result"
        }
      ],
      "source": [
        "# load statistical description\n",
        "delta_lgbm_1.describe()"
      ]
    },
    {
      "cell_type": "markdown",
      "metadata": {
        "id": "rlu-s9XA0-wi"
      },
      "source": [
        "### Predictions vs targets for Location 2"
      ]
    },
    {
      "cell_type": "code",
      "execution_count": null,
      "metadata": {
        "id": "MsYtsOFB0-wi",
        "outputId": "6c2f4a44-b034-4f1e-c58e-41fc863ad486"
      },
      "outputs": [
        {
          "data": {
            "text/html": [
              "<div>\n",
              "<style scoped>\n",
              "    .dataframe tbody tr th:only-of-type {\n",
              "        vertical-align: middle;\n",
              "    }\n",
              "\n",
              "    .dataframe tbody tr th {\n",
              "        vertical-align: top;\n",
              "    }\n",
              "\n",
              "    .dataframe thead th {\n",
              "        text-align: right;\n",
              "    }\n",
              "</style>\n",
              "<table border=\"1\" class=\"dataframe\">\n",
              "  <thead>\n",
              "    <tr style=\"text-align: right;\">\n",
              "      <th></th>\n",
              "      <th>index</th>\n",
              "      <th>product</th>\n",
              "      <th>predict</th>\n",
              "    </tr>\n",
              "  </thead>\n",
              "  <tbody>\n",
              "    <tr>\n",
              "      <th>0</th>\n",
              "      <td>42083</td>\n",
              "      <td>57.085625</td>\n",
              "      <td>56.695103</td>\n",
              "    </tr>\n",
              "    <tr>\n",
              "      <th>1</th>\n",
              "      <td>71825</td>\n",
              "      <td>80.859783</td>\n",
              "      <td>80.989428</td>\n",
              "    </tr>\n",
              "    <tr>\n",
              "      <th>2</th>\n",
              "      <td>99535</td>\n",
              "      <td>53.906522</td>\n",
              "      <td>53.953506</td>\n",
              "    </tr>\n",
              "    <tr>\n",
              "      <th>3</th>\n",
              "      <td>47879</td>\n",
              "      <td>107.813044</td>\n",
              "      <td>107.950359</td>\n",
              "    </tr>\n",
              "    <tr>\n",
              "      <th>4</th>\n",
              "      <td>36734</td>\n",
              "      <td>53.906522</td>\n",
              "      <td>53.904458</td>\n",
              "    </tr>\n",
              "  </tbody>\n",
              "</table>\n",
              "</div>"
            ],
            "text/plain": [
              "   index     product     predict\n",
              "0  42083   57.085625   56.695103\n",
              "1  71825   80.859783   80.989428\n",
              "2  99535   53.906522   53.953506\n",
              "3  47879  107.813044  107.950359\n",
              "4  36734   53.906522   53.904458"
            ]
          },
          "execution_count": 241,
          "metadata": {},
          "output_type": "execute_result"
        }
      ],
      "source": [
        "# save dataframe target of dataset valid Location 2\n",
        "delta_lgbm_2 = target_valid_2\n",
        "\n",
        "# add column for predictions\n",
        "delta_lgbm_2['predict'] = pd.Series(predict_lgbm_2)\n",
        "delta_lgbm_2.head()"
      ]
    },
    {
      "cell_type": "code",
      "execution_count": null,
      "metadata": {
        "id": "-SGxy-SM0-wi",
        "outputId": "7146527e-485d-4238-96bb-b82a6c3f26b7"
      },
      "outputs": [
        {
          "data": {
            "text/html": [
              "<div>\n",
              "<style scoped>\n",
              "    .dataframe tbody tr th:only-of-type {\n",
              "        vertical-align: middle;\n",
              "    }\n",
              "\n",
              "    .dataframe tbody tr th {\n",
              "        vertical-align: top;\n",
              "    }\n",
              "\n",
              "    .dataframe thead th {\n",
              "        text-align: right;\n",
              "    }\n",
              "</style>\n",
              "<table border=\"1\" class=\"dataframe\">\n",
              "  <thead>\n",
              "    <tr style=\"text-align: right;\">\n",
              "      <th></th>\n",
              "      <th>product</th>\n",
              "      <th>predict</th>\n",
              "    </tr>\n",
              "    <tr>\n",
              "      <th>index</th>\n",
              "      <th></th>\n",
              "      <th></th>\n",
              "    </tr>\n",
              "  </thead>\n",
              "  <tbody>\n",
              "    <tr>\n",
              "      <th>42083</th>\n",
              "      <td>57.085625</td>\n",
              "      <td>56.695103</td>\n",
              "    </tr>\n",
              "    <tr>\n",
              "      <th>71825</th>\n",
              "      <td>80.859783</td>\n",
              "      <td>80.989428</td>\n",
              "    </tr>\n",
              "    <tr>\n",
              "      <th>99535</th>\n",
              "      <td>53.906522</td>\n",
              "      <td>53.953506</td>\n",
              "    </tr>\n",
              "    <tr>\n",
              "      <th>47879</th>\n",
              "      <td>107.813044</td>\n",
              "      <td>107.950359</td>\n",
              "    </tr>\n",
              "    <tr>\n",
              "      <th>36734</th>\n",
              "      <td>53.906522</td>\n",
              "      <td>53.904458</td>\n",
              "    </tr>\n",
              "    <tr>\n",
              "      <th>...</th>\n",
              "      <td>...</td>\n",
              "      <td>...</td>\n",
              "    </tr>\n",
              "    <tr>\n",
              "      <th>56405</th>\n",
              "      <td>30.132364</td>\n",
              "      <td>29.338433</td>\n",
              "    </tr>\n",
              "    <tr>\n",
              "      <th>50954</th>\n",
              "      <td>110.992147</td>\n",
              "      <td>110.858905</td>\n",
              "    </tr>\n",
              "    <tr>\n",
              "      <th>99121</th>\n",
              "      <td>3.179103</td>\n",
              "      <td>3.205948</td>\n",
              "    </tr>\n",
              "    <tr>\n",
              "      <th>4170</th>\n",
              "      <td>53.906522</td>\n",
              "      <td>53.864934</td>\n",
              "    </tr>\n",
              "    <tr>\n",
              "      <th>18144</th>\n",
              "      <td>134.766305</td>\n",
              "      <td>134.759950</td>\n",
              "    </tr>\n",
              "  </tbody>\n",
              "</table>\n",
              "<p>25000 rows × 2 columns</p>\n",
              "</div>"
            ],
            "text/plain": [
              "          product     predict\n",
              "index                        \n",
              "42083   57.085625   56.695103\n",
              "71825   80.859783   80.989428\n",
              "99535   53.906522   53.953506\n",
              "47879  107.813044  107.950359\n",
              "36734   53.906522   53.904458\n",
              "...           ...         ...\n",
              "56405   30.132364   29.338433\n",
              "50954  110.992147  110.858905\n",
              "99121    3.179103    3.205948\n",
              "4170    53.906522   53.864934\n",
              "18144  134.766305  134.759950\n",
              "\n",
              "[25000 rows x 2 columns]"
            ]
          },
          "execution_count": 242,
          "metadata": {},
          "output_type": "execute_result"
        }
      ],
      "source": [
        "# set original index as the index\n",
        "delta_lgbm_2 = delta_lgbm_2.set_index('index')\n",
        "delta_lgbm_2"
      ]
    },
    {
      "cell_type": "code",
      "execution_count": null,
      "metadata": {
        "id": "uLKBFkvr0-wj",
        "outputId": "2e51bfe0-fb4d-4fa5-d03c-aa5efb6857f3"
      },
      "outputs": [
        {
          "data": {
            "text/html": [
              "<div>\n",
              "<style scoped>\n",
              "    .dataframe tbody tr th:only-of-type {\n",
              "        vertical-align: middle;\n",
              "    }\n",
              "\n",
              "    .dataframe tbody tr th {\n",
              "        vertical-align: top;\n",
              "    }\n",
              "\n",
              "    .dataframe thead th {\n",
              "        text-align: right;\n",
              "    }\n",
              "</style>\n",
              "<table border=\"1\" class=\"dataframe\">\n",
              "  <thead>\n",
              "    <tr style=\"text-align: right;\">\n",
              "      <th></th>\n",
              "      <th>product</th>\n",
              "      <th>predict</th>\n",
              "      <th>var</th>\n",
              "    </tr>\n",
              "    <tr>\n",
              "      <th>index</th>\n",
              "      <th></th>\n",
              "      <th></th>\n",
              "      <th></th>\n",
              "    </tr>\n",
              "  </thead>\n",
              "  <tbody>\n",
              "    <tr>\n",
              "      <th>42083</th>\n",
              "      <td>57.085625</td>\n",
              "      <td>56.695103</td>\n",
              "      <td>0.390521</td>\n",
              "    </tr>\n",
              "    <tr>\n",
              "      <th>71825</th>\n",
              "      <td>80.859783</td>\n",
              "      <td>80.989428</td>\n",
              "      <td>-0.129645</td>\n",
              "    </tr>\n",
              "    <tr>\n",
              "      <th>99535</th>\n",
              "      <td>53.906522</td>\n",
              "      <td>53.953506</td>\n",
              "      <td>-0.046984</td>\n",
              "    </tr>\n",
              "    <tr>\n",
              "      <th>47879</th>\n",
              "      <td>107.813044</td>\n",
              "      <td>107.950359</td>\n",
              "      <td>-0.137315</td>\n",
              "    </tr>\n",
              "    <tr>\n",
              "      <th>36734</th>\n",
              "      <td>53.906522</td>\n",
              "      <td>53.904458</td>\n",
              "      <td>0.002064</td>\n",
              "    </tr>\n",
              "  </tbody>\n",
              "</table>\n",
              "</div>"
            ],
            "text/plain": [
              "          product     predict       var\n",
              "index                                  \n",
              "42083   57.085625   56.695103  0.390521\n",
              "71825   80.859783   80.989428 -0.129645\n",
              "99535   53.906522   53.953506 -0.046984\n",
              "47879  107.813044  107.950359 -0.137315\n",
              "36734   53.906522   53.904458  0.002064"
            ]
          },
          "execution_count": 243,
          "metadata": {},
          "output_type": "execute_result"
        }
      ],
      "source": [
        "# add column for discrepancy predictions to actual\n",
        "delta_lgbm_2['var'] = delta_lgbm_2['product']-delta_lgbm_2['predict']\n",
        "delta_lgbm_2.head()"
      ]
    },
    {
      "cell_type": "code",
      "execution_count": null,
      "metadata": {
        "id": "e4AZtA2v0-wj",
        "outputId": "404fbe2b-0d6e-4c8d-d270-a84963883393"
      },
      "outputs": [
        {
          "data": {
            "text/html": [
              "<div>\n",
              "<style scoped>\n",
              "    .dataframe tbody tr th:only-of-type {\n",
              "        vertical-align: middle;\n",
              "    }\n",
              "\n",
              "    .dataframe tbody tr th {\n",
              "        vertical-align: top;\n",
              "    }\n",
              "\n",
              "    .dataframe thead th {\n",
              "        text-align: right;\n",
              "    }\n",
              "</style>\n",
              "<table border=\"1\" class=\"dataframe\">\n",
              "  <thead>\n",
              "    <tr style=\"text-align: right;\">\n",
              "      <th></th>\n",
              "      <th>product</th>\n",
              "      <th>predict</th>\n",
              "      <th>var</th>\n",
              "    </tr>\n",
              "  </thead>\n",
              "  <tbody>\n",
              "    <tr>\n",
              "      <th>count</th>\n",
              "      <td>25000.000000</td>\n",
              "      <td>25000.000000</td>\n",
              "      <td>25000.000000</td>\n",
              "    </tr>\n",
              "    <tr>\n",
              "      <th>mean</th>\n",
              "      <td>69.273712</td>\n",
              "      <td>69.292032</td>\n",
              "      <td>-0.018320</td>\n",
              "    </tr>\n",
              "    <tr>\n",
              "      <th>std</th>\n",
              "      <td>45.819818</td>\n",
              "      <td>45.788898</td>\n",
              "      <td>1.396134</td>\n",
              "    </tr>\n",
              "    <tr>\n",
              "      <th>min</th>\n",
              "      <td>0.000000</td>\n",
              "      <td>-0.088906</td>\n",
              "      <td>-25.871401</td>\n",
              "    </tr>\n",
              "    <tr>\n",
              "      <th>25%</th>\n",
              "      <td>30.132364</td>\n",
              "      <td>28.993106</td>\n",
              "      <td>-0.058827</td>\n",
              "    </tr>\n",
              "    <tr>\n",
              "      <th>50%</th>\n",
              "      <td>80.859783</td>\n",
              "      <td>80.805014</td>\n",
              "      <td>0.002521</td>\n",
              "    </tr>\n",
              "    <tr>\n",
              "      <th>75%</th>\n",
              "      <td>107.813044</td>\n",
              "      <td>109.245839</td>\n",
              "      <td>0.062039</td>\n",
              "    </tr>\n",
              "    <tr>\n",
              "      <th>max</th>\n",
              "      <td>137.945408</td>\n",
              "      <td>137.998343</td>\n",
              "      <td>25.307569</td>\n",
              "    </tr>\n",
              "  </tbody>\n",
              "</table>\n",
              "</div>"
            ],
            "text/plain": [
              "            product       predict           var\n",
              "count  25000.000000  25000.000000  25000.000000\n",
              "mean      69.273712     69.292032     -0.018320\n",
              "std       45.819818     45.788898      1.396134\n",
              "min        0.000000     -0.088906    -25.871401\n",
              "25%       30.132364     28.993106     -0.058827\n",
              "50%       80.859783     80.805014      0.002521\n",
              "75%      107.813044    109.245839      0.062039\n",
              "max      137.945408    137.998343     25.307569"
            ]
          },
          "execution_count": 244,
          "metadata": {},
          "output_type": "execute_result"
        }
      ],
      "source": [
        "# load statistical description\n",
        "delta_lgbm_2.describe()"
      ]
    },
    {
      "cell_type": "markdown",
      "metadata": {
        "id": "fWLDRTdQ0-wj"
      },
      "source": [
        "### Predictions vs targets for Location 3"
      ]
    },
    {
      "cell_type": "code",
      "execution_count": null,
      "metadata": {
        "id": "2haSisS20-wj",
        "outputId": "6b71d5a0-fdb5-4b3f-e2ad-fba61819bc69"
      },
      "outputs": [
        {
          "data": {
            "text/html": [
              "<div>\n",
              "<style scoped>\n",
              "    .dataframe tbody tr th:only-of-type {\n",
              "        vertical-align: middle;\n",
              "    }\n",
              "\n",
              "    .dataframe tbody tr th {\n",
              "        vertical-align: top;\n",
              "    }\n",
              "\n",
              "    .dataframe thead th {\n",
              "        text-align: right;\n",
              "    }\n",
              "</style>\n",
              "<table border=\"1\" class=\"dataframe\">\n",
              "  <thead>\n",
              "    <tr style=\"text-align: right;\">\n",
              "      <th></th>\n",
              "      <th>index</th>\n",
              "      <th>product</th>\n",
              "      <th>predict</th>\n",
              "    </tr>\n",
              "  </thead>\n",
              "  <tbody>\n",
              "    <tr>\n",
              "      <th>0</th>\n",
              "      <td>42083</td>\n",
              "      <td>147.451978</td>\n",
              "      <td>94.843209</td>\n",
              "    </tr>\n",
              "    <tr>\n",
              "      <th>1</th>\n",
              "      <td>71825</td>\n",
              "      <td>128.711794</td>\n",
              "      <td>93.133319</td>\n",
              "    </tr>\n",
              "    <tr>\n",
              "      <th>2</th>\n",
              "      <td>99535</td>\n",
              "      <td>106.628185</td>\n",
              "      <td>92.843130</td>\n",
              "    </tr>\n",
              "    <tr>\n",
              "      <th>3</th>\n",
              "      <td>47879</td>\n",
              "      <td>128.787131</td>\n",
              "      <td>95.266120</td>\n",
              "    </tr>\n",
              "    <tr>\n",
              "      <th>4</th>\n",
              "      <td>36734</td>\n",
              "      <td>159.328488</td>\n",
              "      <td>94.701188</td>\n",
              "    </tr>\n",
              "  </tbody>\n",
              "</table>\n",
              "</div>"
            ],
            "text/plain": [
              "   index     product    predict\n",
              "0  42083  147.451978  94.843209\n",
              "1  71825  128.711794  93.133319\n",
              "2  99535  106.628185  92.843130\n",
              "3  47879  128.787131  95.266120\n",
              "4  36734  159.328488  94.701188"
            ]
          },
          "execution_count": 245,
          "metadata": {},
          "output_type": "execute_result"
        }
      ],
      "source": [
        "# save dataframe target of dataset valid Location 3\n",
        "delta_lgbm_3 = target_valid_3\n",
        "\n",
        "# add column for predictions\n",
        "delta_lgbm_3['predict'] = pd.Series(predict_lgbm_3)\n",
        "delta_lgbm_3.head()"
      ]
    },
    {
      "cell_type": "code",
      "execution_count": null,
      "metadata": {
        "id": "l4fVvTT80-wk",
        "outputId": "e3d60883-edb1-452d-fdd2-8527481a8bce"
      },
      "outputs": [
        {
          "data": {
            "text/html": [
              "<div>\n",
              "<style scoped>\n",
              "    .dataframe tbody tr th:only-of-type {\n",
              "        vertical-align: middle;\n",
              "    }\n",
              "\n",
              "    .dataframe tbody tr th {\n",
              "        vertical-align: top;\n",
              "    }\n",
              "\n",
              "    .dataframe thead th {\n",
              "        text-align: right;\n",
              "    }\n",
              "</style>\n",
              "<table border=\"1\" class=\"dataframe\">\n",
              "  <thead>\n",
              "    <tr style=\"text-align: right;\">\n",
              "      <th></th>\n",
              "      <th>product</th>\n",
              "      <th>predict</th>\n",
              "    </tr>\n",
              "    <tr>\n",
              "      <th>index</th>\n",
              "      <th></th>\n",
              "      <th></th>\n",
              "    </tr>\n",
              "  </thead>\n",
              "  <tbody>\n",
              "    <tr>\n",
              "      <th>42083</th>\n",
              "      <td>147.451978</td>\n",
              "      <td>94.843209</td>\n",
              "    </tr>\n",
              "    <tr>\n",
              "      <th>71825</th>\n",
              "      <td>128.711794</td>\n",
              "      <td>93.133319</td>\n",
              "    </tr>\n",
              "    <tr>\n",
              "      <th>99535</th>\n",
              "      <td>106.628185</td>\n",
              "      <td>92.843130</td>\n",
              "    </tr>\n",
              "    <tr>\n",
              "      <th>47879</th>\n",
              "      <td>128.787131</td>\n",
              "      <td>95.266120</td>\n",
              "    </tr>\n",
              "    <tr>\n",
              "      <th>36734</th>\n",
              "      <td>159.328488</td>\n",
              "      <td>94.701188</td>\n",
              "    </tr>\n",
              "    <tr>\n",
              "      <th>...</th>\n",
              "      <td>...</td>\n",
              "      <td>...</td>\n",
              "    </tr>\n",
              "    <tr>\n",
              "      <th>56405</th>\n",
              "      <td>114.783531</td>\n",
              "      <td>93.365611</td>\n",
              "    </tr>\n",
              "    <tr>\n",
              "      <th>50954</th>\n",
              "      <td>48.814291</td>\n",
              "      <td>95.681158</td>\n",
              "    </tr>\n",
              "    <tr>\n",
              "      <th>99121</th>\n",
              "      <td>152.196856</td>\n",
              "      <td>94.750139</td>\n",
              "    </tr>\n",
              "    <tr>\n",
              "      <th>4170</th>\n",
              "      <td>137.501887</td>\n",
              "      <td>95.514629</td>\n",
              "    </tr>\n",
              "    <tr>\n",
              "      <th>18144</th>\n",
              "      <td>125.854138</td>\n",
              "      <td>93.974156</td>\n",
              "    </tr>\n",
              "  </tbody>\n",
              "</table>\n",
              "<p>25000 rows × 2 columns</p>\n",
              "</div>"
            ],
            "text/plain": [
              "          product    predict\n",
              "index                       \n",
              "42083  147.451978  94.843209\n",
              "71825  128.711794  93.133319\n",
              "99535  106.628185  92.843130\n",
              "47879  128.787131  95.266120\n",
              "36734  159.328488  94.701188\n",
              "...           ...        ...\n",
              "56405  114.783531  93.365611\n",
              "50954   48.814291  95.681158\n",
              "99121  152.196856  94.750139\n",
              "4170   137.501887  95.514629\n",
              "18144  125.854138  93.974156\n",
              "\n",
              "[25000 rows x 2 columns]"
            ]
          },
          "execution_count": 246,
          "metadata": {},
          "output_type": "execute_result"
        }
      ],
      "source": [
        "# set original index as the index\n",
        "delta_lgbm_3 = delta_lgbm_3.set_index('index')\n",
        "delta_lgbm_3"
      ]
    },
    {
      "cell_type": "code",
      "execution_count": null,
      "metadata": {
        "id": "bw89rabk0-wk",
        "outputId": "a3e8b01f-d76e-4696-faa7-e84ec321b2bf"
      },
      "outputs": [
        {
          "data": {
            "text/html": [
              "<div>\n",
              "<style scoped>\n",
              "    .dataframe tbody tr th:only-of-type {\n",
              "        vertical-align: middle;\n",
              "    }\n",
              "\n",
              "    .dataframe tbody tr th {\n",
              "        vertical-align: top;\n",
              "    }\n",
              "\n",
              "    .dataframe thead th {\n",
              "        text-align: right;\n",
              "    }\n",
              "</style>\n",
              "<table border=\"1\" class=\"dataframe\">\n",
              "  <thead>\n",
              "    <tr style=\"text-align: right;\">\n",
              "      <th></th>\n",
              "      <th>product</th>\n",
              "      <th>predict</th>\n",
              "      <th>var</th>\n",
              "    </tr>\n",
              "    <tr>\n",
              "      <th>index</th>\n",
              "      <th></th>\n",
              "      <th></th>\n",
              "      <th></th>\n",
              "    </tr>\n",
              "  </thead>\n",
              "  <tbody>\n",
              "    <tr>\n",
              "      <th>42083</th>\n",
              "      <td>147.451978</td>\n",
              "      <td>94.843209</td>\n",
              "      <td>52.608769</td>\n",
              "    </tr>\n",
              "    <tr>\n",
              "      <th>71825</th>\n",
              "      <td>128.711794</td>\n",
              "      <td>93.133319</td>\n",
              "      <td>35.578475</td>\n",
              "    </tr>\n",
              "    <tr>\n",
              "      <th>99535</th>\n",
              "      <td>106.628185</td>\n",
              "      <td>92.843130</td>\n",
              "      <td>13.785055</td>\n",
              "    </tr>\n",
              "    <tr>\n",
              "      <th>47879</th>\n",
              "      <td>128.787131</td>\n",
              "      <td>95.266120</td>\n",
              "      <td>33.521011</td>\n",
              "    </tr>\n",
              "    <tr>\n",
              "      <th>36734</th>\n",
              "      <td>159.328488</td>\n",
              "      <td>94.701188</td>\n",
              "      <td>64.627300</td>\n",
              "    </tr>\n",
              "  </tbody>\n",
              "</table>\n",
              "</div>"
            ],
            "text/plain": [
              "          product    predict        var\n",
              "index                                  \n",
              "42083  147.451978  94.843209  52.608769\n",
              "71825  128.711794  93.133319  35.578475\n",
              "99535  106.628185  92.843130  13.785055\n",
              "47879  128.787131  95.266120  33.521011\n",
              "36734  159.328488  94.701188  64.627300"
            ]
          },
          "execution_count": 247,
          "metadata": {},
          "output_type": "execute_result"
        }
      ],
      "source": [
        "# add column for discrepancy predictions to actual\n",
        "delta_lgbm_3['var'] = delta_lgbm_3['product']-delta_lgbm_3['predict']\n",
        "delta_lgbm_3.head()"
      ]
    },
    {
      "cell_type": "code",
      "execution_count": null,
      "metadata": {
        "id": "wTvFZA7h0-wk",
        "outputId": "806988b9-5ecd-4a36-bb24-f028a02f9e70"
      },
      "outputs": [
        {
          "data": {
            "text/html": [
              "<div>\n",
              "<style scoped>\n",
              "    .dataframe tbody tr th:only-of-type {\n",
              "        vertical-align: middle;\n",
              "    }\n",
              "\n",
              "    .dataframe tbody tr th {\n",
              "        vertical-align: top;\n",
              "    }\n",
              "\n",
              "    .dataframe thead th {\n",
              "        text-align: right;\n",
              "    }\n",
              "</style>\n",
              "<table border=\"1\" class=\"dataframe\">\n",
              "  <thead>\n",
              "    <tr style=\"text-align: right;\">\n",
              "      <th></th>\n",
              "      <th>product</th>\n",
              "      <th>predict</th>\n",
              "      <th>var</th>\n",
              "    </tr>\n",
              "  </thead>\n",
              "  <tbody>\n",
              "    <tr>\n",
              "      <th>count</th>\n",
              "      <td>25000.000000</td>\n",
              "      <td>25000.000000</td>\n",
              "      <td>25000.000000</td>\n",
              "    </tr>\n",
              "    <tr>\n",
              "      <th>mean</th>\n",
              "      <td>94.873488</td>\n",
              "      <td>95.041236</td>\n",
              "      <td>-0.167748</td>\n",
              "    </tr>\n",
              "    <tr>\n",
              "      <th>std</th>\n",
              "      <td>44.674172</td>\n",
              "      <td>1.975183</td>\n",
              "      <td>44.687924</td>\n",
              "    </tr>\n",
              "    <tr>\n",
              "      <th>min</th>\n",
              "      <td>0.009204</td>\n",
              "      <td>64.627575</td>\n",
              "      <td>-100.153502</td>\n",
              "    </tr>\n",
              "    <tr>\n",
              "      <th>25%</th>\n",
              "      <td>59.427249</td>\n",
              "      <td>94.242484</td>\n",
              "      <td>-35.556332</td>\n",
              "    </tr>\n",
              "    <tr>\n",
              "      <th>50%</th>\n",
              "      <td>94.682593</td>\n",
              "      <td>95.083714</td>\n",
              "      <td>-0.375551</td>\n",
              "    </tr>\n",
              "    <tr>\n",
              "      <th>75%</th>\n",
              "      <td>130.407800</td>\n",
              "      <td>95.955144</td>\n",
              "      <td>35.390449</td>\n",
              "    </tr>\n",
              "    <tr>\n",
              "      <th>max</th>\n",
              "      <td>190.010982</td>\n",
              "      <td>116.949060</td>\n",
              "      <td>113.480783</td>\n",
              "    </tr>\n",
              "  </tbody>\n",
              "</table>\n",
              "</div>"
            ],
            "text/plain": [
              "            product       predict           var\n",
              "count  25000.000000  25000.000000  25000.000000\n",
              "mean      94.873488     95.041236     -0.167748\n",
              "std       44.674172      1.975183     44.687924\n",
              "min        0.009204     64.627575   -100.153502\n",
              "25%       59.427249     94.242484    -35.556332\n",
              "50%       94.682593     95.083714     -0.375551\n",
              "75%      130.407800     95.955144     35.390449\n",
              "max      190.010982    116.949060    113.480783"
            ]
          },
          "execution_count": 248,
          "metadata": {},
          "output_type": "execute_result"
        }
      ],
      "source": [
        "# load statistical description\n",
        "delta_lgbm_3.describe()"
      ]
    },
    {
      "cell_type": "markdown",
      "metadata": {
        "id": "5augIMlj0-wl"
      },
      "source": [
        "### Interim Conclusions\n",
        "\n",
        "Means and RMSE of predicted volume of oil reserve are:\n",
        "\n",
        "- Location 1: 92 and 37, respectively\n",
        "\n",
        "- Location 2: 81 and 1.4, respectively\n",
        "\n",
        "- Location 3: 95 and 45, respectively\n",
        "\n",
        "Although the targets and predictions of dataset of each Location 1 and Location 3 have similar means and medians, their standard deviations differ significantly. And the fact that the minimum value in their discrepancies is significantly negative, it shows that the model which are trained with features f0, f1, and f2 is not a well performing model for each Location 1 and Location 3.\n",
        "\n",
        "In addition to that, R2 score for model of Location 1 is as low as 0.3. And it is even negative for model of Location 3, that means the model does not predict better than the mean of the target values.\n",
        "\n",
        "On the contrary, targets and predictions of dataset of Location 2 have similar means and medians, standard deviations, even quartiles. And R2 score is high as 0.9. It shows that the model which are trained with features f0, f1, and f2 performs well for Location 2.\n",
        "\n"
      ]
    },
    {
      "cell_type": "markdown",
      "metadata": {
        "id": "NfI3NCDt0-wl"
      },
      "source": [
        "Having built three models using three different algorithms, it seems that none of the three models can perform well enough for dataset of Location 1 and Location 3.\n",
        "\n",
        "This is shown by R2 score that is low, even negative.\n",
        "\n",
        "Also, metric of RMSE is high, even as high as the standard deviation of the dataset itself.\n",
        "\n",
        "When taking a look at the data distribution on the target and each of the features: f0, f1, f2 in the dataset of Location 1 and Location 3, it seems that none of the features has a close similarity of distribution to the target's distribution. Hence it makes sense, that none of the features is a good predictor to the target.\n",
        "\n",
        "Somehow whatever model that is tried for dataset of Location 1 and Location 3 (XGBoost, LGBM, dan Linear Regression) is not able to generalize the effect of features f0, f1, f2 to the target, which in this case is the volume of oil reserves. This is probably caused by none of features fo, f1, and f2 is relevant factor to the volume of oil reserve in Location 1 and Location 3.\n",
        "\n",
        "In contrast, all three models perform well for dataset of Location 2. Metrics R2 score and RMSE shows a very high performing model.\n",
        "\n",
        "When taking a look at its data distribution, its target's distribution is similar to its feature f2's distribution. And when reviewing the coefficient of the models for dataset Location 2, the feature f2 is the main predictor for the target. It makes sense that the volume of oil reserves in Location 2 is almost perfectly determined by feature f2."
      ]
    },
    {
      "cell_type": "markdown",
      "metadata": {
        "id": "ThUirbzn0-wl"
      },
      "source": [
        "## Profitability Analysis"
      ]
    },
    {
      "cell_type": "markdown",
      "metadata": {
        "id": "BUvFbAIm0-wm"
      },
      "source": [
        "In this step, known key business metrics, like budgeted cost, revenue per oil well, and loss margin, also profitability analysis will be made."
      ]
    },
    {
      "cell_type": "code",
      "execution_count": null,
      "metadata": {
        "id": "UBDDa6j00-wm",
        "outputId": "c619a8de-a8f6-42d3-fd17-cdfbf645b563"
      },
      "outputs": [
        {
          "name": "stdout",
          "output_type": "stream",
          "text": [
            "BEP at volume:  111.11111111111111\n",
            "Loss threshold at volume:  108.33333333333333\n"
          ]
        }
      ],
      "source": [
        "# number of wells to develop is 200\n",
        "n_wells = 200\n",
        "\n",
        "# budgeted cost to develop 200 wells is 100,000,000\n",
        "budget_cost = 100000000\n",
        "\n",
        "# cost to develop one well\n",
        "cost_well = budget_cost/n_wells\n",
        "\n",
        "# revenue per product unit is 4,500\n",
        "revenue_product = 4500\n",
        "\n",
        "# loss margin that the company is willing to bear is 2.5%\n",
        "loss_threshold = 0.025\n",
        "\n",
        "# break even point (BEP) at volume\n",
        "bep_volume = cost_well/revenue_product\n",
        "\n",
        "print('BEP at volume: ',bep_volume)\n",
        "\n",
        "# loss threshold at volume\n",
        "loss_threshold_volume = bep_volume*(1-loss_threshold)\n",
        "print('Loss threshold at volume: ',loss_threshold_volume)"
      ]
    },
    {
      "cell_type": "markdown",
      "metadata": {
        "id": "e13t-uDw0-wm"
      },
      "source": [
        "### Minimum volume per well"
      ]
    },
    {
      "cell_type": "code",
      "execution_count": null,
      "metadata": {
        "id": "KIVzyRFA0-wm",
        "outputId": "6293974f-e9a6-4533-cc31-a80846c1a70c"
      },
      "outputs": [
        {
          "data": {
            "text/plain": [
              "92.50000000000001"
            ]
          },
          "execution_count": 250,
          "metadata": {},
          "output_type": "execute_result"
        }
      ],
      "source": [
        "# mean of volume per well of Location 1\n",
        "df_1['product'].mean()"
      ]
    },
    {
      "cell_type": "code",
      "execution_count": null,
      "metadata": {
        "id": "NYurB_ho0-wn",
        "outputId": "502e1c68-31e8-4e39-8cee-b7fe8df4b773"
      },
      "outputs": [
        {
          "data": {
            "text/plain": [
              "68.82500000000002"
            ]
          },
          "execution_count": 251,
          "metadata": {},
          "output_type": "execute_result"
        }
      ],
      "source": [
        "# mean of volume per well of Location 2\n",
        "df_2['product'].mean()"
      ]
    },
    {
      "cell_type": "code",
      "execution_count": null,
      "metadata": {
        "id": "txyfTIa50-wn",
        "outputId": "55355a08-257e-4fe3-cb82-ea3905e1112d"
      },
      "outputs": [
        {
          "data": {
            "text/plain": [
              "95.00000000000004"
            ]
          },
          "execution_count": 252,
          "metadata": {},
          "output_type": "execute_result"
        }
      ],
      "source": [
        "# mean of volume per well of Location 3\n",
        "df_3['product'].mean()"
      ]
    },
    {
      "cell_type": "markdown",
      "metadata": {
        "id": "xNnwzgK80-wn"
      },
      "source": [
        "To reach a break even point for the company's project, a well must have at least 111.11 barrel of oil reserves. \n",
        "\n",
        "And for loss threshold, 108.3 barrel.\n",
        "\n",
        "The means of volume per well in each three locations are not higher than the break even point, nor even than the 2.5 loss threshold."
      ]
    },
    {
      "cell_type": "markdown",
      "metadata": {
        "id": "xQLdDF7m0-wn"
      },
      "source": [
        "### Wells with largest oil volume\n",
        "\n",
        "This time, the actual total volume of 200 highest producting wells as predicted by the built model is searched."
      ]
    },
    {
      "cell_type": "code",
      "execution_count": null,
      "metadata": {
        "id": "zliVF3Ig0-wn",
        "outputId": "97fa968e-ae09-42a1-ea80-503a9f5be859"
      },
      "outputs": [
        {
          "data": {
            "text/html": [
              "<div>\n",
              "<style scoped>\n",
              "    .dataframe tbody tr th:only-of-type {\n",
              "        vertical-align: middle;\n",
              "    }\n",
              "\n",
              "    .dataframe tbody tr th {\n",
              "        vertical-align: top;\n",
              "    }\n",
              "\n",
              "    .dataframe thead th {\n",
              "        text-align: right;\n",
              "    }\n",
              "</style>\n",
              "<table border=\"1\" class=\"dataframe\">\n",
              "  <thead>\n",
              "    <tr style=\"text-align: right;\">\n",
              "      <th></th>\n",
              "      <th>product</th>\n",
              "      <th>predict</th>\n",
              "      <th>var</th>\n",
              "    </tr>\n",
              "    <tr>\n",
              "      <th>index</th>\n",
              "      <th></th>\n",
              "      <th></th>\n",
              "      <th></th>\n",
              "    </tr>\n",
              "  </thead>\n",
              "  <tbody>\n",
              "    <tr>\n",
              "      <th>18944</th>\n",
              "      <td>71.006124</td>\n",
              "      <td>173.149918</td>\n",
              "      <td>-102.143794</td>\n",
              "    </tr>\n",
              "    <tr>\n",
              "      <th>77209</th>\n",
              "      <td>143.148329</td>\n",
              "      <td>170.214218</td>\n",
              "      <td>-27.065889</td>\n",
              "    </tr>\n",
              "    <tr>\n",
              "      <th>20381</th>\n",
              "      <td>128.380515</td>\n",
              "      <td>170.078796</td>\n",
              "      <td>-41.698282</td>\n",
              "    </tr>\n",
              "    <tr>\n",
              "      <th>95537</th>\n",
              "      <td>158.128561</td>\n",
              "      <td>166.483215</td>\n",
              "      <td>-8.354654</td>\n",
              "    </tr>\n",
              "    <tr>\n",
              "      <th>14042</th>\n",
              "      <td>132.951877</td>\n",
              "      <td>165.902191</td>\n",
              "      <td>-32.950314</td>\n",
              "    </tr>\n",
              "    <tr>\n",
              "      <th>...</th>\n",
              "      <td>...</td>\n",
              "      <td>...</td>\n",
              "      <td>...</td>\n",
              "    </tr>\n",
              "    <tr>\n",
              "      <th>47549</th>\n",
              "      <td>173.233393</td>\n",
              "      <td>148.556244</td>\n",
              "      <td>24.677149</td>\n",
              "    </tr>\n",
              "    <tr>\n",
              "      <th>76091</th>\n",
              "      <td>124.740825</td>\n",
              "      <td>148.490250</td>\n",
              "      <td>-23.749425</td>\n",
              "    </tr>\n",
              "    <tr>\n",
              "      <th>20866</th>\n",
              "      <td>175.289015</td>\n",
              "      <td>148.439194</td>\n",
              "      <td>26.849822</td>\n",
              "    </tr>\n",
              "    <tr>\n",
              "      <th>82229</th>\n",
              "      <td>121.499755</td>\n",
              "      <td>148.371460</td>\n",
              "      <td>-26.871705</td>\n",
              "    </tr>\n",
              "    <tr>\n",
              "      <th>21145</th>\n",
              "      <td>153.500785</td>\n",
              "      <td>148.296722</td>\n",
              "      <td>5.204062</td>\n",
              "    </tr>\n",
              "  </tbody>\n",
              "</table>\n",
              "<p>200 rows × 3 columns</p>\n",
              "</div>"
            ],
            "text/plain": [
              "          product     predict         var\n",
              "index                                    \n",
              "18944   71.006124  173.149918 -102.143794\n",
              "77209  143.148329  170.214218  -27.065889\n",
              "20381  128.380515  170.078796  -41.698282\n",
              "95537  158.128561  166.483215   -8.354654\n",
              "14042  132.951877  165.902191  -32.950314\n",
              "...           ...         ...         ...\n",
              "47549  173.233393  148.556244   24.677149\n",
              "76091  124.740825  148.490250  -23.749425\n",
              "20866  175.289015  148.439194   26.849822\n",
              "82229  121.499755  148.371460  -26.871705\n",
              "21145  153.500785  148.296722    5.204062\n",
              "\n",
              "[200 rows x 3 columns]"
            ]
          },
          "execution_count": 253,
          "metadata": {},
          "output_type": "execute_result"
        }
      ],
      "source": [
        "# save 200 highest predicted volumen wells in Location 1\n",
        "largest_1 = delta_xgb_1.sort_values(by='predict', ascending=False).head(200)\n",
        "largest_1"
      ]
    },
    {
      "cell_type": "code",
      "execution_count": null,
      "metadata": {
        "id": "pnqEmeWV0-wo",
        "outputId": "ebeea4af-b28d-4b10-9c95-17a52c577bc9"
      },
      "outputs": [
        {
          "data": {
            "text/html": [
              "<div>\n",
              "<style scoped>\n",
              "    .dataframe tbody tr th:only-of-type {\n",
              "        vertical-align: middle;\n",
              "    }\n",
              "\n",
              "    .dataframe tbody tr th {\n",
              "        vertical-align: top;\n",
              "    }\n",
              "\n",
              "    .dataframe thead th {\n",
              "        text-align: right;\n",
              "    }\n",
              "</style>\n",
              "<table border=\"1\" class=\"dataframe\">\n",
              "  <thead>\n",
              "    <tr style=\"text-align: right;\">\n",
              "      <th></th>\n",
              "      <th>product</th>\n",
              "      <th>predict</th>\n",
              "      <th>var</th>\n",
              "    </tr>\n",
              "    <tr>\n",
              "      <th>index</th>\n",
              "      <th></th>\n",
              "      <th></th>\n",
              "      <th></th>\n",
              "    </tr>\n",
              "  </thead>\n",
              "  <tbody>\n",
              "    <tr>\n",
              "      <th>88770</th>\n",
              "      <td>137.945408</td>\n",
              "      <td>138.142944</td>\n",
              "      <td>-0.197537</td>\n",
              "    </tr>\n",
              "    <tr>\n",
              "      <th>90498</th>\n",
              "      <td>137.945408</td>\n",
              "      <td>137.981125</td>\n",
              "      <td>-0.035717</td>\n",
              "    </tr>\n",
              "    <tr>\n",
              "      <th>48244</th>\n",
              "      <td>137.945408</td>\n",
              "      <td>137.981125</td>\n",
              "      <td>-0.035717</td>\n",
              "    </tr>\n",
              "    <tr>\n",
              "      <th>66262</th>\n",
              "      <td>137.945408</td>\n",
              "      <td>137.981125</td>\n",
              "      <td>-0.035717</td>\n",
              "    </tr>\n",
              "    <tr>\n",
              "      <th>27039</th>\n",
              "      <td>137.945408</td>\n",
              "      <td>137.981125</td>\n",
              "      <td>-0.035717</td>\n",
              "    </tr>\n",
              "    <tr>\n",
              "      <th>...</th>\n",
              "      <td>...</td>\n",
              "      <td>...</td>\n",
              "      <td>...</td>\n",
              "    </tr>\n",
              "    <tr>\n",
              "      <th>47316</th>\n",
              "      <td>137.945408</td>\n",
              "      <td>137.947556</td>\n",
              "      <td>-0.002148</td>\n",
              "    </tr>\n",
              "    <tr>\n",
              "      <th>45238</th>\n",
              "      <td>137.945408</td>\n",
              "      <td>137.947556</td>\n",
              "      <td>-0.002148</td>\n",
              "    </tr>\n",
              "    <tr>\n",
              "      <th>21295</th>\n",
              "      <td>137.945408</td>\n",
              "      <td>137.947556</td>\n",
              "      <td>-0.002148</td>\n",
              "    </tr>\n",
              "    <tr>\n",
              "      <th>63812</th>\n",
              "      <td>137.945408</td>\n",
              "      <td>137.947556</td>\n",
              "      <td>-0.002148</td>\n",
              "    </tr>\n",
              "    <tr>\n",
              "      <th>26485</th>\n",
              "      <td>137.945408</td>\n",
              "      <td>137.947556</td>\n",
              "      <td>-0.002148</td>\n",
              "    </tr>\n",
              "  </tbody>\n",
              "</table>\n",
              "<p>200 rows × 3 columns</p>\n",
              "</div>"
            ],
            "text/plain": [
              "          product     predict       var\n",
              "index                                  \n",
              "88770  137.945408  138.142944 -0.197537\n",
              "90498  137.945408  137.981125 -0.035717\n",
              "48244  137.945408  137.981125 -0.035717\n",
              "66262  137.945408  137.981125 -0.035717\n",
              "27039  137.945408  137.981125 -0.035717\n",
              "...           ...         ...       ...\n",
              "47316  137.945408  137.947556 -0.002148\n",
              "45238  137.945408  137.947556 -0.002148\n",
              "21295  137.945408  137.947556 -0.002148\n",
              "63812  137.945408  137.947556 -0.002148\n",
              "26485  137.945408  137.947556 -0.002148\n",
              "\n",
              "[200 rows x 3 columns]"
            ]
          },
          "execution_count": 254,
          "metadata": {},
          "output_type": "execute_result"
        }
      ],
      "source": [
        "# save 200 highest predicted volumen wells in Location 2\n",
        "largest_2 = delta_xgb_2.sort_values(by='predict', ascending=False).head(200)\n",
        "largest_2"
      ]
    },
    {
      "cell_type": "code",
      "execution_count": null,
      "metadata": {
        "id": "GWYekZhp0-wo",
        "outputId": "873e9956-bc3c-492f-fba3-202b7b634b5f"
      },
      "outputs": [
        {
          "data": {
            "text/html": [
              "<div>\n",
              "<style scoped>\n",
              "    .dataframe tbody tr th:only-of-type {\n",
              "        vertical-align: middle;\n",
              "    }\n",
              "\n",
              "    .dataframe tbody tr th {\n",
              "        vertical-align: top;\n",
              "    }\n",
              "\n",
              "    .dataframe thead th {\n",
              "        text-align: right;\n",
              "    }\n",
              "</style>\n",
              "<table border=\"1\" class=\"dataframe\">\n",
              "  <thead>\n",
              "    <tr style=\"text-align: right;\">\n",
              "      <th></th>\n",
              "      <th>product</th>\n",
              "      <th>predict</th>\n",
              "      <th>var</th>\n",
              "    </tr>\n",
              "    <tr>\n",
              "      <th>index</th>\n",
              "      <th></th>\n",
              "      <th></th>\n",
              "      <th></th>\n",
              "    </tr>\n",
              "  </thead>\n",
              "  <tbody>\n",
              "    <tr>\n",
              "      <th>97168</th>\n",
              "      <td>35.774306</td>\n",
              "      <td>160.532028</td>\n",
              "      <td>-124.757722</td>\n",
              "    </tr>\n",
              "    <tr>\n",
              "      <th>27475</th>\n",
              "      <td>58.056297</td>\n",
              "      <td>158.090820</td>\n",
              "      <td>-100.034524</td>\n",
              "    </tr>\n",
              "    <tr>\n",
              "      <th>82586</th>\n",
              "      <td>114.888847</td>\n",
              "      <td>157.067001</td>\n",
              "      <td>-42.178154</td>\n",
              "    </tr>\n",
              "    <tr>\n",
              "      <th>55565</th>\n",
              "      <td>45.914488</td>\n",
              "      <td>156.517792</td>\n",
              "      <td>-110.603304</td>\n",
              "    </tr>\n",
              "    <tr>\n",
              "      <th>95074</th>\n",
              "      <td>51.814448</td>\n",
              "      <td>154.624741</td>\n",
              "      <td>-102.810292</td>\n",
              "    </tr>\n",
              "    <tr>\n",
              "      <th>...</th>\n",
              "      <td>...</td>\n",
              "      <td>...</td>\n",
              "      <td>...</td>\n",
              "    </tr>\n",
              "    <tr>\n",
              "      <th>36923</th>\n",
              "      <td>136.337798</td>\n",
              "      <td>118.147690</td>\n",
              "      <td>18.190108</td>\n",
              "    </tr>\n",
              "    <tr>\n",
              "      <th>48926</th>\n",
              "      <td>29.098429</td>\n",
              "      <td>118.120872</td>\n",
              "      <td>-89.022443</td>\n",
              "    </tr>\n",
              "    <tr>\n",
              "      <th>30696</th>\n",
              "      <td>35.527409</td>\n",
              "      <td>118.108276</td>\n",
              "      <td>-82.580867</td>\n",
              "    </tr>\n",
              "    <tr>\n",
              "      <th>90605</th>\n",
              "      <td>83.855466</td>\n",
              "      <td>118.037605</td>\n",
              "      <td>-34.182139</td>\n",
              "    </tr>\n",
              "    <tr>\n",
              "      <th>67908</th>\n",
              "      <td>125.612099</td>\n",
              "      <td>117.989876</td>\n",
              "      <td>7.622223</td>\n",
              "    </tr>\n",
              "  </tbody>\n",
              "</table>\n",
              "<p>200 rows × 3 columns</p>\n",
              "</div>"
            ],
            "text/plain": [
              "          product     predict         var\n",
              "index                                    \n",
              "97168   35.774306  160.532028 -124.757722\n",
              "27475   58.056297  158.090820 -100.034524\n",
              "82586  114.888847  157.067001  -42.178154\n",
              "55565   45.914488  156.517792 -110.603304\n",
              "95074   51.814448  154.624741 -102.810292\n",
              "...           ...         ...         ...\n",
              "36923  136.337798  118.147690   18.190108\n",
              "48926   29.098429  118.120872  -89.022443\n",
              "30696   35.527409  118.108276  -82.580867\n",
              "90605   83.855466  118.037605  -34.182139\n",
              "67908  125.612099  117.989876    7.622223\n",
              "\n",
              "[200 rows x 3 columns]"
            ]
          },
          "execution_count": 255,
          "metadata": {},
          "output_type": "execute_result"
        }
      ],
      "source": [
        "# save 200 highest predicted volumen wells in Location 3\n",
        "largest_3 = delta_xgb_3.sort_values(by='predict', ascending=False).head(200)\n",
        "largest_3"
      ]
    },
    {
      "cell_type": "code",
      "execution_count": null,
      "metadata": {
        "scrolled": true,
        "id": "bSFf4EL20-wo",
        "outputId": "fd34a053-c44e-4f86-c757-d32f30419439"
      },
      "outputs": [
        {
          "data": {
            "text/html": [
              "<div>\n",
              "<style scoped>\n",
              "    .dataframe tbody tr th:only-of-type {\n",
              "        vertical-align: middle;\n",
              "    }\n",
              "\n",
              "    .dataframe tbody tr th {\n",
              "        vertical-align: top;\n",
              "    }\n",
              "\n",
              "    .dataframe thead th {\n",
              "        text-align: right;\n",
              "    }\n",
              "</style>\n",
              "<table border=\"1\" class=\"dataframe\">\n",
              "  <thead>\n",
              "    <tr style=\"text-align: right;\">\n",
              "      <th></th>\n",
              "      <th>location_1</th>\n",
              "      <th>location_2</th>\n",
              "      <th>location_3</th>\n",
              "    </tr>\n",
              "  </thead>\n",
              "  <tbody>\n",
              "    <tr>\n",
              "      <th>0</th>\n",
              "      <td>28967.504986</td>\n",
              "      <td>27589.081548</td>\n",
              "      <td>17795.455764</td>\n",
              "    </tr>\n",
              "  </tbody>\n",
              "</table>\n",
              "</div>"
            ],
            "text/plain": [
              "     location_1    location_2    location_3\n",
              "0  28967.504986  27589.081548  17795.455764"
            ]
          },
          "execution_count": 256,
          "metadata": {},
          "output_type": "execute_result"
        }
      ],
      "source": [
        "sum_locations = pd.DataFrame([[largest_1['product'].sum(), largest_2['product'].sum(), \n",
        "                              largest_3['product'].sum()]], columns=['location_1','location_2','location_3'])\n",
        "sum_locations"
      ]
    },
    {
      "cell_type": "markdown",
      "metadata": {
        "id": "eyVSDUGk0-wp"
      },
      "source": [
        "It appears that Location 1 has the highest total volume for 200 top predicted wells. While models for Location 1 are barely able to predict in an accurate manner, this might mean that the actual top 200 volume wells of this location may produce even larger volume than 28,967 thousand barrel.\n",
        "\n",
        "Hence it is right to recommend Location 1 as the location to develop."
      ]
    },
    {
      "cell_type": "code",
      "execution_count": null,
      "metadata": {
        "id": "k4mGc7We0-wp",
        "outputId": "c2fea35d-8b71-463b-91bd-373331a45592"
      },
      "outputs": [
        {
          "name": "stdout",
          "output_type": "stream",
          "text": [
            "30353772.44\n"
          ]
        }
      ],
      "source": [
        "# Calculate profit on Location 1\n",
        "profit = revenue_product * largest_1['product'].sum() - budget_cost\n",
        "print('{:.2f}'.format(profit))\n"
      ]
    },
    {
      "cell_type": "code",
      "execution_count": null,
      "metadata": {
        "id": "qFclnz4s0-wr",
        "outputId": "f68f6c21-f489-4d81-9c1b-508412e6217e"
      },
      "outputs": [
        {
          "name": "stdout",
          "output_type": "stream",
          "text": [
            "24150866.97\n"
          ]
        }
      ],
      "source": [
        "# Calculate profit on Location 2\n",
        "profit = revenue_product * largest_2['product'].sum() - budget_cost\n",
        "print('{:.2f}'.format(profit))\n"
      ]
    },
    {
      "cell_type": "code",
      "execution_count": null,
      "metadata": {
        "id": "csztfH-g0-wr",
        "outputId": "a41dab6a-5a6d-45c8-d414-509923ac624a"
      },
      "outputs": [
        {
          "name": "stdout",
          "output_type": "stream",
          "text": [
            "-19920449.06\n"
          ]
        }
      ],
      "source": [
        "# Calculate profit on Location 3\n",
        "profit = revenue_product * largest_3['product'].sum() - budget_cost\n",
        "print('{:.2f}'.format(profit))\n"
      ]
    },
    {
      "cell_type": "markdown",
      "metadata": {
        "id": "9uSJ2hJM0-wr"
      },
      "source": [
        "The total profit for 200 wells developed in Location 1 is USD 30,353,772."
      ]
    },
    {
      "cell_type": "markdown",
      "metadata": {
        "id": "wjzCUfz90-wr"
      },
      "source": [
        "## Risk and Return"
      ]
    },
    {
      "cell_type": "markdown",
      "metadata": {
        "id": "R8H14E010-wr"
      },
      "source": [
        "In this step, the profitability and risk potential analysis will be made. Using bootstrapping technique, 1,000 sample sets will be created to find distribution of profit amount. Confidence interval of 95% will also be discovered. Aside from that, potential of risk of each location will be calculated. One location will be recommended for development based on those three metrics."
      ]
    },
    {
      "cell_type": "code",
      "execution_count": null,
      "metadata": {
        "id": "cQY7BQbJ0-wr"
      },
      "outputs": [],
      "source": [
        "# bootstrapping size\n",
        "bootstrap_size = 1000\n",
        "\n",
        "# sample size\n",
        "sample_size = 500"
      ]
    },
    {
      "cell_type": "code",
      "execution_count": null,
      "metadata": {
        "id": "6eYl15FJ0-ws"
      },
      "outputs": [],
      "source": [
        "# create function to calculate profit\n",
        "def cal_profit(target, prediction):\n",
        "    predict_sorted = prediction.sort_values(ascending=False)\n",
        "    target_selected = target[predict_sorted.index][:n_wells]\n",
        "    total_volume = target_selected.sum()\n",
        "    revenue = total_volume * revenue_product\n",
        "    profit = revenue - budget_cost\n",
        "    return profit"
      ]
    },
    {
      "cell_type": "code",
      "execution_count": null,
      "metadata": {
        "id": "qXVQk4Zz0-ws",
        "outputId": "24651792-bda2-460f-908d-690773bd6cd1"
      },
      "outputs": [
        {
          "data": {
            "text/plain": [
              "30353772.43782918"
            ]
          },
          "execution_count": 262,
          "metadata": {},
          "output_type": "execute_result"
        }
      ],
      "source": [
        "# test function for consistent result\n",
        "cal_profit(delta_xgb_1['product'], delta_xgb_1['predict'])"
      ]
    },
    {
      "cell_type": "code",
      "execution_count": null,
      "metadata": {
        "id": "FWTiMp050-ws"
      },
      "outputs": [],
      "source": [
        "# create function for bootstrap\n",
        "def profit_bootsrapped(df, target, predict):\n",
        "    # bootstrap to get distribution of means\n",
        "    state = np.random.RandomState(123)\n",
        "    # Simpan nilai mean ke variabel values\n",
        "    profit = []\n",
        "    for i in range(bootstrap_size):\n",
        "        subsample = df.sample(sample_size, replace=True, random_state=state)\n",
        "        profit.append(cal_profit(subsample[target], subsample[predict]))\n",
        "\n",
        "    profit = pd.Series(profit)  \n",
        "    profit_mean = int(profit.mean())\n",
        "    confidence_interval = (int(profit.quantile(0.025)), int(profit.quantile(0.975)))\n",
        "    loss_risk = (profit < 0).mean()*100\n",
        "    return profit_mean, confidence_interval, loss_risk"
      ]
    },
    {
      "cell_type": "code",
      "execution_count": null,
      "metadata": {
        "id": "y3_XQJ0G0-wt",
        "outputId": "8a99cd3a-a53a-45bb-886e-911175cd5e46"
      },
      "outputs": [
        {
          "data": {
            "text/plain": [
              "(5074498, (-803391, 10436876), 4.3)"
            ]
          },
          "execution_count": 264,
          "metadata": {},
          "output_type": "execute_result"
        }
      ],
      "source": [
        "profit_mean_1, confidence_interval_1, loss_risk_1 = profit_bootsrapped(delta_xgb_1,'product', 'predict')\n",
        "profit_mean_1, confidence_interval_1, loss_risk_1"
      ]
    },
    {
      "cell_type": "code",
      "execution_count": null,
      "metadata": {
        "id": "qqfRBfHq0-wt",
        "outputId": "3c1909ee-216b-49d3-fee7-623003fe49e7"
      },
      "outputs": [
        {
          "data": {
            "text/plain": [
              "(5388610, (1050097, 9635649), 0.5)"
            ]
          },
          "execution_count": 265,
          "metadata": {},
          "output_type": "execute_result"
        }
      ],
      "source": [
        "profit_mean_2, confidence_interval_2, loss_risk_2 = profit_bootsrapped(delta_xgb_2,'product', 'predict')\n",
        "profit_mean_2, confidence_interval_2, loss_risk_2"
      ]
    },
    {
      "cell_type": "code",
      "execution_count": null,
      "metadata": {
        "id": "0vkq-NC40-wt",
        "outputId": "422d6610-6679-444d-80d1-4c6e58987f24"
      },
      "outputs": [
        {
          "data": {
            "text/plain": [
              "(-15102278, (-21248570, -8962280), 100.0)"
            ]
          },
          "execution_count": 266,
          "metadata": {},
          "output_type": "execute_result"
        }
      ],
      "source": [
        "profit_mean_3, confidence_interval_3, loss_risk_3 = profit_bootsrapped(delta_xgb_3,'product', 'predict')\n",
        "profit_mean_3, confidence_interval_3, loss_risk_3"
      ]
    },
    {
      "cell_type": "code",
      "execution_count": null,
      "metadata": {
        "id": "GJndr4da0-wu",
        "outputId": "5211f606-1931-45d1-bb29-3f8a2cfd8798"
      },
      "outputs": [
        {
          "data": {
            "text/html": [
              "<div>\n",
              "<style scoped>\n",
              "    .dataframe tbody tr th:only-of-type {\n",
              "        vertical-align: middle;\n",
              "    }\n",
              "\n",
              "    .dataframe tbody tr th {\n",
              "        vertical-align: top;\n",
              "    }\n",
              "\n",
              "    .dataframe thead th {\n",
              "        text-align: right;\n",
              "    }\n",
              "</style>\n",
              "<table border=\"1\" class=\"dataframe\">\n",
              "  <thead>\n",
              "    <tr style=\"text-align: right;\">\n",
              "      <th></th>\n",
              "      <th>mean</th>\n",
              "      <th>confidence_interval</th>\n",
              "      <th>loss_risk</th>\n",
              "    </tr>\n",
              "  </thead>\n",
              "  <tbody>\n",
              "    <tr>\n",
              "      <th>Location 1</th>\n",
              "      <td>5074498</td>\n",
              "      <td>(-803391, 10436876)</td>\n",
              "      <td>4.3</td>\n",
              "    </tr>\n",
              "    <tr>\n",
              "      <th>Location 2</th>\n",
              "      <td>5388610</td>\n",
              "      <td>(1050097, 9635649)</td>\n",
              "      <td>0.5</td>\n",
              "    </tr>\n",
              "    <tr>\n",
              "      <th>Location 3</th>\n",
              "      <td>-15102278</td>\n",
              "      <td>(-21248570, -8962280)</td>\n",
              "      <td>100.0</td>\n",
              "    </tr>\n",
              "  </tbody>\n",
              "</table>\n",
              "</div>"
            ],
            "text/plain": [
              "                mean    confidence_interval  loss_risk\n",
              "Location 1   5074498    (-803391, 10436876)        4.3\n",
              "Location 2   5388610     (1050097, 9635649)        0.5\n",
              "Location 3 -15102278  (-21248570, -8962280)      100.0"
            ]
          },
          "execution_count": 267,
          "metadata": {},
          "output_type": "execute_result"
        }
      ],
      "source": [
        "pd.DataFrame([[profit_mean_1, confidence_interval_1, loss_risk_1],\n",
        "             [profit_mean_2, confidence_interval_2, loss_risk_2],\n",
        "             [profit_mean_3, confidence_interval_3, loss_risk_3]],index=['Location 1','Location 2','Location 3'],columns=['mean', 'confidence_interval', 'loss_risk'])"
      ]
    },
    {
      "cell_type": "markdown",
      "metadata": {
        "id": "O5ZU_s_c0-wu"
      },
      "source": [
        "### Interim Conclusions\n",
        "\n",
        "Using the best performing model of algorithm XGBoost and bootstrapping tehcnique, profitability analysis of each Location is made. The most profitable location is Location 2: USD 5,388,610, with confidence interval 95%: USD 1,050,097 - USD 9,635,649, and risk potential 0.5%. All metrics meet what is required by the company."
      ]
    },
    {
      "cell_type": "markdown",
      "metadata": {
        "id": "h4UkrfnI0-wu"
      },
      "source": [
        "# Final Conclusions\n",
        "\n",
        "This project is started by data pre-processing and exploratory data analysis. No missing values, and explicit duplicates found in the datasets. \n",
        "\n",
        "Three models with three different algorithms: XGBoostRegressor, LinearRegression, and LightGBMRegressor, are built.\n",
        "\n",
        "All three algorithms perform well for dataset of Location 2. Yet none work satisfactorily for datasets of Location 1 and Location 3. This is probably related to the three given predictors being weekly relevant to the volume of oil reserved. \n",
        "\n",
        "Without bootstrapping, Location 1 appears as the most promising contributor to profitability.\n",
        "\n",
        "However with bootstrapping technique, it is discovered that the extremely high figure does not fall in the confidence interval of 95% of the distribution of mean of the samples.\n",
        "\n",
        "Finally, it is found that Location 2 is solid and more likely to contribute the highest profit, with mean distribution of confidence interval of 95% : USD 1,050,097 - USD 9,635,649, and loss potential as low as 0.5%."
      ]
    }
  ],
  "metadata": {
    "kernelspec": {
      "display_name": "Python 3 (ipykernel)",
      "language": "python",
      "name": "python3"
    },
    "language_info": {
      "codemirror_mode": {
        "name": "ipython",
        "version": 3
      },
      "file_extension": ".py",
      "mimetype": "text/x-python",
      "name": "python",
      "nbconvert_exporter": "python",
      "pygments_lexer": "ipython3",
      "version": "3.9.5"
    },
    "toc": {
      "base_numbering": 1,
      "nav_menu": {},
      "number_sections": true,
      "sideBar": true,
      "skip_h1_title": true,
      "title_cell": "Table of Contents",
      "title_sidebar": "Contents",
      "toc_cell": false,
      "toc_position": {
        "height": "353.5px",
        "left": "37px",
        "top": "131.883px",
        "width": "224.767px"
      },
      "toc_section_display": true,
      "toc_window_display": true
    },
    "colab": {
      "provenance": [],
      "toc_visible": true
    }
  },
  "nbformat": 4,
  "nbformat_minor": 0
}